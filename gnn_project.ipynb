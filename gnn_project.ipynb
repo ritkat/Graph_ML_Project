{
  "nbformat": 4,
  "nbformat_minor": 0,
  "metadata": {
    "colab": {
      "provenance": [],
      "collapsed_sections": []
    },
    "kernelspec": {
      "name": "python3",
      "display_name": "Python 3"
    },
    "language_info": {
      "name": "python"
    },
    "accelerator": "GPU",
    "gpuClass": "standard"
  },
  "cells": [
    {
      "cell_type": "code",
      "execution_count": 1,
      "metadata": {
        "id": "QkKdBSMjE3W8"
      },
      "outputs": [],
      "source": [
        "from IPython.display import clear_output\n",
        "\n",
        "!apt-get -y install graphviz graphviz-dev\n",
        "!pip install tensorflow==2.8 tensorflow-io==0.25.0 tfds-nightly pygraphviz\n",
        "!pip install tensorflow_gnn==0.2.0\n",
        "!pip install httplib2==0.20.4\n",
        "\n",
        "clear_output()"
      ]
    },
    {
      "cell_type": "code",
      "source": [
        "from google.colab import drive\n",
        "drive.mount('/content/drive')"
      ],
      "metadata": {
        "colab": {
          "base_uri": "https://localhost:8080/"
        },
        "id": "C0T16fb6PV3w",
        "outputId": "aa914821-b211-4103-fb07-aedfa15d5075"
      },
      "execution_count": 2,
      "outputs": [
        {
          "output_type": "stream",
          "name": "stdout",
          "text": [
            "Mounted at /content/drive\n"
          ]
        }
      ]
    },
    {
      "cell_type": "code",
      "source": [
        "import pygraphviz as pgv\n",
        "from tqdm import tqdm\n",
        "from IPython.display import Image\n",
        "\n",
        "import tensorflow as tf\n",
        "tf.get_logger().setLevel('ERROR')\n",
        "\n",
        "import tensorflow_gnn as tfgnn\n",
        "import tensorflow_datasets as tfds\n",
        "\n",
        "from tensorflow_gnn import runner\n",
        "from tensorflow_gnn.models import gat_v2\n",
        "\n",
        "print(f'Using TensorFlow v{tf.__version__} and TensorFlow-GNN v{tfgnn.__version__}')\n",
        "print(f'GPUs available: {tf.config.list_physical_devices(\"GPU\")}')"
      ],
      "metadata": {
        "colab": {
          "base_uri": "https://localhost:8080/"
        },
        "id": "tXT84c7zE-ij",
        "outputId": "92039b75-f56c-468e-89ed-1c24630542be"
      },
      "execution_count": 1,
      "outputs": [
        {
          "output_type": "stream",
          "name": "stdout",
          "text": [
            "Using TensorFlow v2.8.0 and TensorFlow-GNN v0.2.0\n",
            "GPUs available: [PhysicalDevice(name='/physical_device:GPU:0', device_type='GPU')]\n"
          ]
        }
      ]
    },
    {
      "cell_type": "code",
      "source": [],
      "metadata": {
        "id": "V2oQBZXZbJEs"
      },
      "execution_count": 1,
      "outputs": []
    },
    {
      "cell_type": "code",
      "source": [
        "import os\n",
        "import numpy as np\n",
        "\n",
        "filepath = \"/content/drive/MyDrive/alphafold_results/\"\n",
        "files = [filepath+i for i in os.listdir(\"/content/drive/MyDrive/alphafold_results/\") if i[-4:] == \".npy\"]\n",
        "files"
      ],
      "metadata": {
        "colab": {
          "base_uri": "https://localhost:8080/"
        },
        "id": "nzhEIxh-P8GK",
        "outputId": "36f1a7ea-5959-49f9-f46b-e23d32b3cf93"
      },
      "execution_count": 2,
      "outputs": [
        {
          "output_type": "execute_result",
          "data": {
            "text/plain": [
              "['/content/drive/MyDrive/alphafold_results/test_a0fc1_unrelaxed_rank_1_model_1_out.npy',\n",
              " '/content/drive/MyDrive/alphafold_results/test_08cf8_unrelaxed_rank_1_model_1_out.npy',\n",
              " '/content/drive/MyDrive/alphafold_results/test_9489e_unrelaxed_rank_1_model_1_out.npy',\n",
              " '/content/drive/MyDrive/alphafold_results/test_76590_unrelaxed_rank_1_model_1_out.npy',\n",
              " '/content/drive/MyDrive/alphafold_results/test_bb5df_unrelaxed_rank_1_model_1_out.npy',\n",
              " '/content/drive/MyDrive/alphafold_results/test_89a16_unrelaxed_rank_1_model_1_out.npy',\n",
              " '/content/drive/MyDrive/alphafold_results/test_f7da8_unrelaxed_rank_1_model_1_out.npy',\n",
              " '/content/drive/MyDrive/alphafold_results/test_85408_unrelaxed_rank_1_model_1_out.npy',\n",
              " '/content/drive/MyDrive/alphafold_results/test_e7dac_unrelaxed_rank_1_model_1_out.npy',\n",
              " '/content/drive/MyDrive/alphafold_results/test_93b58_unrelaxed_rank_1_model_1_out.npy',\n",
              " '/content/drive/MyDrive/alphafold_results/test_342b4_unrelaxed_rank_1_model_1_out.npy',\n",
              " '/content/drive/MyDrive/alphafold_results/test_ca4b1_unrelaxed_rank_1_model_1_out.npy',\n",
              " '/content/drive/MyDrive/alphafold_results/test_5631e_unrelaxed_rank_1_model_1_out.npy',\n",
              " '/content/drive/MyDrive/alphafold_results/test_c87ae_unrelaxed_rank_1_model_1_out.npy',\n",
              " '/content/drive/MyDrive/alphafold_results/test_d4ff7_unrelaxed_rank_1_model_1_out.npy',\n",
              " '/content/drive/MyDrive/alphafold_results/test_fda0c_unrelaxed_rank_1_model_1_out.npy',\n",
              " '/content/drive/MyDrive/alphafold_results/test_106d1_unrelaxed_rank_1_model_1_out.npy',\n",
              " '/content/drive/MyDrive/alphafold_results/test_d3c9d_unrelaxed_rank_1_model_1_out.npy',\n",
              " '/content/drive/MyDrive/alphafold_results/test_36d17_unrelaxed_rank_1_model_1_out.npy',\n",
              " '/content/drive/MyDrive/alphafold_results/test_08f47_unrelaxed_rank_1_model_1_out.npy',\n",
              " '/content/drive/MyDrive/alphafold_results/test_65954_unrelaxed_rank_1_model_1_out.npy',\n",
              " '/content/drive/MyDrive/alphafold_results/test_e7401_unrelaxed_rank_1_model_1_out.npy',\n",
              " '/content/drive/MyDrive/alphafold_results/test_c696b_unrelaxed_rank_1_model_1_out.npy',\n",
              " '/content/drive/MyDrive/alphafold_results/test_ae7c8_unrelaxed_rank_1_model_1_out.npy',\n",
              " '/content/drive/MyDrive/alphafold_results/test_10d8b_unrelaxed_rank_1_model_1_out.npy',\n",
              " '/content/drive/MyDrive/alphafold_results/test_b1165_unrelaxed_rank_1_model_1_out.npy',\n",
              " '/content/drive/MyDrive/alphafold_results/test_8fce2_unrelaxed_rank_1_model_1_out.npy',\n",
              " '/content/drive/MyDrive/alphafold_results/test_f01f7_unrelaxed_rank_1_model_1_out.npy',\n",
              " '/content/drive/MyDrive/alphafold_results/test_d0ff9_unrelaxed_rank_1_model_1_out.npy',\n",
              " '/content/drive/MyDrive/alphafold_results/test_0d70e_unrelaxed_rank_1_model_1_out.npy',\n",
              " '/content/drive/MyDrive/alphafold_results/test_6bd45_unrelaxed_rank_1_model_1_out.npy',\n",
              " '/content/drive/MyDrive/alphafold_results/test_95853_unrelaxed_rank_1_model_1_out.npy',\n",
              " '/content/drive/MyDrive/alphafold_results/test_3fedb_unrelaxed_rank_1_model_1_out.npy',\n",
              " '/content/drive/MyDrive/alphafold_results/test_28ea1_unrelaxed_rank_1_model_1_out.npy',\n",
              " '/content/drive/MyDrive/alphafold_results/test_ee447_unrelaxed_rank_1_model_1_out.npy',\n",
              " '/content/drive/MyDrive/alphafold_results/test_c1661_unrelaxed_rank_1_model_1_out.npy',\n",
              " '/content/drive/MyDrive/alphafold_results/test_813b2_unrelaxed_rank_1_model_1_out.npy',\n",
              " '/content/drive/MyDrive/alphafold_results/test_9b167_unrelaxed_rank_1_model_1_out.npy',\n",
              " '/content/drive/MyDrive/alphafold_results/test_e31b8_unrelaxed_rank_1_model_1_out.npy',\n",
              " '/content/drive/MyDrive/alphafold_results/test_7fc81_unrelaxed_rank_1_model_1_out.npy',\n",
              " '/content/drive/MyDrive/alphafold_results/test_66f62_unrelaxed_rank_1_model_1_out.npy',\n",
              " '/content/drive/MyDrive/alphafold_results/test_20575_unrelaxed_rank_1_model_1_out.npy',\n",
              " '/content/drive/MyDrive/alphafold_results/test_338db_unrelaxed_rank_1_model_1_out.npy',\n",
              " '/content/drive/MyDrive/alphafold_results/test_f0c24_unrelaxed_rank_1_model_1_out.npy',\n",
              " '/content/drive/MyDrive/alphafold_results/test_d456b_unrelaxed_rank_1_model_1_out.npy',\n",
              " '/content/drive/MyDrive/alphafold_results/test_35045_unrelaxed_rank_1_model_1_out.npy',\n",
              " '/content/drive/MyDrive/alphafold_results/test_23f90_unrelaxed_rank_1_model_1_out.npy',\n",
              " '/content/drive/MyDrive/alphafold_results/test_e317c_unrelaxed_rank_1_model_1_out.npy',\n",
              " '/content/drive/MyDrive/alphafold_results/test_d645c_unrelaxed_rank_1_model_1_out.npy',\n",
              " '/content/drive/MyDrive/alphafold_results/test_60b75_unrelaxed_rank_1_model_1_out.npy',\n",
              " '/content/drive/MyDrive/alphafold_results/test_814f1_unrelaxed_rank_1_model_1_out.npy',\n",
              " '/content/drive/MyDrive/alphafold_results/test_ab46c_unrelaxed_rank_1_model_1_out.npy',\n",
              " '/content/drive/MyDrive/alphafold_results/test_4b553_unrelaxed_rank_1_model_1_out.npy',\n",
              " '/content/drive/MyDrive/alphafold_results/test_1e44e_unrelaxed_rank_1_model_1_out.npy',\n",
              " '/content/drive/MyDrive/alphafold_results/test_8d394_unrelaxed_rank_1_model_1_out.npy',\n",
              " '/content/drive/MyDrive/alphafold_results/test_21c91_unrelaxed_rank_1_model_1_out.npy',\n",
              " '/content/drive/MyDrive/alphafold_results/test_3c295_unrelaxed_rank_1_model_1_out.npy',\n",
              " '/content/drive/MyDrive/alphafold_results/test_94f20_unrelaxed_rank_1_model_1_out.npy',\n",
              " '/content/drive/MyDrive/alphafold_results/test_527f6_unrelaxed_rank_1_model_1_out.npy',\n",
              " '/content/drive/MyDrive/alphafold_results/test_3e9e4_unrelaxed_rank_1_model_1_out.npy',\n",
              " '/content/drive/MyDrive/alphafold_results/test_064b9_unrelaxed_rank_1_model_1_out.npy',\n",
              " '/content/drive/MyDrive/alphafold_results/test_230d4_unrelaxed_rank_1_model_1_out.npy',\n",
              " '/content/drive/MyDrive/alphafold_results/test_c91b3_unrelaxed_rank_1_model_1_out.npy',\n",
              " '/content/drive/MyDrive/alphafold_results/test_c77e0_unrelaxed_rank_1_model_1_out.npy',\n",
              " '/content/drive/MyDrive/alphafold_results/test_d65b5_unrelaxed_rank_1_model_1_out.npy',\n",
              " '/content/drive/MyDrive/alphafold_results/test_4caf3_unrelaxed_rank_1_model_1_out.npy',\n",
              " '/content/drive/MyDrive/alphafold_results/test_7c240_unrelaxed_rank_1_model_1_out.npy',\n",
              " '/content/drive/MyDrive/alphafold_results/test_6e12f_unrelaxed_rank_1_model_1_out.npy',\n",
              " '/content/drive/MyDrive/alphafold_results/test_2b4c4_unrelaxed_rank_1_model_1_out.npy',\n",
              " '/content/drive/MyDrive/alphafold_results/test_e1276_unrelaxed_rank_1_model_1_out.npy',\n",
              " '/content/drive/MyDrive/alphafold_results/test_35528_unrelaxed_rank_1_model_1_out.npy',\n",
              " '/content/drive/MyDrive/alphafold_results/test_8ad9f_unrelaxed_rank_1_model_1_out.npy',\n",
              " '/content/drive/MyDrive/alphafold_results/test_a942a_unrelaxed_rank_1_model_1_out.npy',\n",
              " '/content/drive/MyDrive/alphafold_results/test_48725_unrelaxed_rank_1_model_1_out.npy',\n",
              " '/content/drive/MyDrive/alphafold_results/test_d188a_unrelaxed_rank_1_model_1_out.npy',\n",
              " '/content/drive/MyDrive/alphafold_results/test_a36f8_unrelaxed_rank_1_model_1_out.npy',\n",
              " '/content/drive/MyDrive/alphafold_results/test_a79ab_unrelaxed_rank_1_model_1_out.npy',\n",
              " '/content/drive/MyDrive/alphafold_results/test_bca53_unrelaxed_rank_1_model_1_out.npy',\n",
              " '/content/drive/MyDrive/alphafold_results/test_30ad4_unrelaxed_rank_1_model_1_out.npy',\n",
              " '/content/drive/MyDrive/alphafold_results/test_28371_unrelaxed_rank_1_model_1_out.npy',\n",
              " '/content/drive/MyDrive/alphafold_results/test_f307d_unrelaxed_rank_1_model_1_out.npy',\n",
              " '/content/drive/MyDrive/alphafold_results/test_29e79_unrelaxed_rank_1_model_1_out.npy',\n",
              " '/content/drive/MyDrive/alphafold_results/test_4d043_unrelaxed_rank_1_model_1_out.npy',\n",
              " '/content/drive/MyDrive/alphafold_results/test_27bd7_unrelaxed_rank_1_model_1_out.npy',\n",
              " '/content/drive/MyDrive/alphafold_results/test_85272_unrelaxed_rank_1_model_1_out.npy',\n",
              " '/content/drive/MyDrive/alphafold_results/test_fce76_unrelaxed_rank_1_model_1_out.npy',\n",
              " '/content/drive/MyDrive/alphafold_results/test_7daa9_unrelaxed_rank_1_model_1_out.npy',\n",
              " '/content/drive/MyDrive/alphafold_results/test_4d3b7_unrelaxed_rank_1_model_1_out.npy',\n",
              " '/content/drive/MyDrive/alphafold_results/test_26621_unrelaxed_rank_1_model_1_out.npy',\n",
              " '/content/drive/MyDrive/alphafold_results/test_a68e3_unrelaxed_rank_1_model_1_out.npy',\n",
              " '/content/drive/MyDrive/alphafold_results/test_84a89_unrelaxed_rank_1_model_1_out.npy',\n",
              " '/content/drive/MyDrive/alphafold_results/test_f57ad_unrelaxed_rank_1_model_1_out.npy',\n",
              " '/content/drive/MyDrive/alphafold_results/test_105c2_unrelaxed_rank_1_model_1_out.npy',\n",
              " '/content/drive/MyDrive/alphafold_results/test_46b15_unrelaxed_rank_1_model_1_out.npy',\n",
              " '/content/drive/MyDrive/alphafold_results/test_a2dc6_unrelaxed_rank_1_model_1_out.npy',\n",
              " '/content/drive/MyDrive/alphafold_results/test_b8980_unrelaxed_rank_1_model_1_out.npy',\n",
              " '/content/drive/MyDrive/alphafold_results/test_4ef17_unrelaxed_rank_1_model_1_out.npy',\n",
              " '/content/drive/MyDrive/alphafold_results/test_9b4a8_unrelaxed_rank_1_model_1_out.npy',\n",
              " '/content/drive/MyDrive/alphafold_results/test_c2c01_unrelaxed_rank_1_model_1_out.npy',\n",
              " '/content/drive/MyDrive/alphafold_results/test_8a0f3_unrelaxed_rank_1_model_1_out.npy',\n",
              " '/content/drive/MyDrive/alphafold_results/test_d2b3a_unrelaxed_rank_1_model_1_out.npy',\n",
              " '/content/drive/MyDrive/alphafold_results/test_86291_unrelaxed_rank_1_model_1_out.npy',\n",
              " '/content/drive/MyDrive/alphafold_results/test_ee1db_unrelaxed_rank_1_model_1_out.npy',\n",
              " '/content/drive/MyDrive/alphafold_results/test_352a5_unrelaxed_rank_1_model_1_out.npy',\n",
              " '/content/drive/MyDrive/alphafold_results/test_ea32a_unrelaxed_rank_1_model_1_out.npy',\n",
              " '/content/drive/MyDrive/alphafold_results/test_73f8c_unrelaxed_rank_1_model_1_out.npy',\n",
              " '/content/drive/MyDrive/alphafold_results/test_acfec_unrelaxed_rank_1_model_1_out.npy',\n",
              " '/content/drive/MyDrive/alphafold_results/test_1dfaf_unrelaxed_rank_1_model_1_out.npy',\n",
              " '/content/drive/MyDrive/alphafold_results/test_a3144_unrelaxed_rank_1_model_1_out.npy',\n",
              " '/content/drive/MyDrive/alphafold_results/test_2ff52_unrelaxed_rank_1_model_1_out.npy',\n",
              " '/content/drive/MyDrive/alphafold_results/test_4eed2_unrelaxed_rank_1_model_1_out.npy',\n",
              " '/content/drive/MyDrive/alphafold_results/test_3fa84_unrelaxed_rank_1_model_1_out.npy',\n",
              " '/content/drive/MyDrive/alphafold_results/test_a9a78_unrelaxed_rank_1_model_1_out.npy',\n",
              " '/content/drive/MyDrive/alphafold_results/test_c7f0d_unrelaxed_rank_1_model_1_out.npy',\n",
              " '/content/drive/MyDrive/alphafold_results/test_c459a_unrelaxed_rank_1_model_1_out.npy',\n",
              " '/content/drive/MyDrive/alphafold_results/test_fca06_unrelaxed_rank_1_model_1_out.npy',\n",
              " '/content/drive/MyDrive/alphafold_results/test_5cf89_unrelaxed_rank_1_model_1_out.npy',\n",
              " '/content/drive/MyDrive/alphafold_results/test_45d42_unrelaxed_rank_1_model_1_out.npy',\n",
              " '/content/drive/MyDrive/alphafold_results/test_e24af_unrelaxed_rank_1_model_1_out.npy',\n",
              " '/content/drive/MyDrive/alphafold_results/test_fa851_unrelaxed_rank_1_model_1_out.npy',\n",
              " '/content/drive/MyDrive/alphafold_results/test_e0709_unrelaxed_rank_1_model_1_out.npy']"
            ]
          },
          "metadata": {},
          "execution_count": 2
        }
      ]
    },
    {
      "cell_type": "markdown",
      "source": [
        "## Preprocessing\n"
      ],
      "metadata": {
        "id": "GCB3DJBRFGGH"
      }
    },
    {
      "cell_type": "code",
      "source": [
        "def read_data(filename):\n",
        "\n",
        "    data = np.load(filename, allow_pickle = True)\n",
        "    df = data.item()\n",
        "\n",
        "    mydata = {}\n",
        "    mydata[\"active\"] = tf.convert_to_tensor(np.array([1, 0]), dtype= 'int64')\n",
        "    mydata[\"atom_mask\"] = tf.convert_to_tensor(np.ones((len(df[\"features_degree\"]),)), dtype = \"float32\")\n",
        "    mydata[\"atoms\"] = tf.convert_to_tensor(np.array(list(df[\"features_degree\"].values()), dtype = \"float32\").reshape((-1, 1)), dtype = \"float32\")\n",
        "    mydata[\"molecule_id\"] = tf.convert_to_tensor(\"id1\")\n",
        "    p_p = np.zeros((len(df[\"features_degree\"]), len(df[\"features_degree\"]), 1))\n",
        "    for i in df['bond_length']:\n",
        "        p_p[int(i.split(\"_\")[0]), int(i.split(\"_\")[1])] = [df['bond_length'][i]]\n",
        "    mydata[\"pair_mask\"] =  tf.convert_to_tensor((p_p>0).reshape((len(df[\"features_degree\"]), len(df[\"features_degree\"]))), dtype = \"float32\")\n",
        "\n",
        "    mydata[\"pairs\"] = tf.convert_to_tensor(p_p, dtype= \"float32\")\n",
        "    mydata[\"target\"] = tf.convert_to_tensor(df[\"target\"], dtype= \"float32\")\n",
        "\n",
        "    return mydata\n",
        "\n",
        "# dataset_dict = [read_data(i) for i in files]\n",
        "\n",
        "mydata1 = [read_data(files[0])]\n"
      ],
      "metadata": {
        "id": "_RPlrbOaZqhu"
      },
      "execution_count": 3,
      "outputs": []
    },
    {
      "cell_type": "code",
      "source": [],
      "metadata": {
        "id": "zhKCuKgiTG86"
      },
      "execution_count": 3,
      "outputs": []
    },
    {
      "cell_type": "code",
      "source": [
        "## make tensorflow dataset\n",
        "import pandas as pd\n",
        "\n",
        "mydata1 = [read_data(files[0])]\n",
        "dataset = tf.data.Dataset.from_tensor_slices(pd.DataFrame.from_dict(mydata1).to_dict(orient=\"list\"))\n",
        "\n",
        "for i in range(1, 64):\n",
        "    print(i, end = \" \")\n",
        "    tem_data = [read_data(files[i])]\n",
        "    temp = tf.data.Dataset.from_tensor_slices(pd.DataFrame.from_dict(tem_data).to_dict(orient=\"list\"))\n",
        "    dataset = dataset.concatenate(temp)"
      ],
      "metadata": {
        "colab": {
          "base_uri": "https://localhost:8080/"
        },
        "id": "mzUY-YwuiFho",
        "outputId": "012fba47-6cf8-4792-d023-fc0b73f9214d"
      },
      "execution_count": 4,
      "outputs": [
        {
          "output_type": "stream",
          "name": "stdout",
          "text": [
            "1 2 3 4 5 6 7 8 9 10 11 12 13 14 15 16 17 18 19 20 21 22 23 24 25 26 27 28 29 30 31 32 33 34 35 36 37 38 39 40 41 42 43 44 45 46 47 48 49 50 51 52 53 54 55 56 57 58 59 60 61 62 63 "
          ]
        }
      ]
    },
    {
      "cell_type": "code",
      "source": [
        "# ## make tensorflow dataset\n",
        "# import pandas as pd\n",
        "\n",
        "# mydata1 = [read_data(files[64])]\n",
        "# dataset_B = tf.data.Dataset.from_tensor_slices(pd.DataFrame.from_dict(mydata1).to_dict(orient=\"list\"))\n",
        "\n",
        "# for i in range(65, 100):\n",
        "#     print(i, end = \" \")\n",
        "#     tem_data = [read_data(files[i])]\n",
        "#     temp = tf.data.Dataset.from_tensor_slices(pd.DataFrame.from_dict(tem_data).to_dict(orient=\"list\"))\n",
        "#     dataset_B = dataset_B.concatenate(temp)"
      ],
      "metadata": {
        "id": "BjHvy8d4vt3V"
      },
      "execution_count": 5,
      "outputs": []
    },
    {
      "cell_type": "code",
      "source": [
        "# import gc\n",
        "\n",
        "# dataset = dataset_A.concatenate(dataset_B)\n",
        "\n",
        "# gc.collect()\n",
        "# del dataset_A\n",
        "# del dataset_B"
      ],
      "metadata": {
        "id": "XOZjk9xPxwd8"
      },
      "execution_count": null,
      "outputs": []
    },
    {
      "cell_type": "code",
      "source": [],
      "metadata": {
        "id": "26rLOiCoxYLV",
        "colab": {
          "base_uri": "https://localhost:8080/"
        },
        "outputId": "f408dd26-8eff-4666-d312-b2dc21c4217c"
      },
      "execution_count": null,
      "outputs": [
        {
          "output_type": "execute_result",
          "data": {
            "text/plain": [
              "123"
            ]
          },
          "metadata": {},
          "execution_count": 9
        }
      ]
    },
    {
      "cell_type": "code",
      "source": [],
      "metadata": {
        "id": "bjOgzav8xi0H"
      },
      "execution_count": null,
      "outputs": []
    },
    {
      "cell_type": "code",
      "source": [
        "for i in dataset.take(2):\n",
        "    print(i)"
      ],
      "metadata": {
        "colab": {
          "base_uri": "https://localhost:8080/"
        },
        "id": "ZvoKXtIhwt8F",
        "outputId": "3780bf7a-af2f-4512-a292-bf0781104e7a"
      },
      "execution_count": 6,
      "outputs": [
        {
          "output_type": "stream",
          "name": "stdout",
          "text": [
            "{'active': <tf.Tensor: shape=(2,), dtype=int64, numpy=array([1, 0])>, 'atom_mask': <tf.Tensor: shape=(5417,), dtype=float32, numpy=array([1., 1., 1., ..., 1., 1., 1.], dtype=float32)>, 'atoms': <tf.Tensor: shape=(5417, 1), dtype=float32, numpy=\n",
            "array([[3.],\n",
            "       [3.],\n",
            "       [1.],\n",
            "       ...,\n",
            "       [1.],\n",
            "       [2.],\n",
            "       [1.]], dtype=float32)>, 'molecule_id': <tf.Tensor: shape=(), dtype=string, numpy=b'id1'>, 'pair_mask': <tf.Tensor: shape=(5417, 5417), dtype=float32, numpy=\n",
            "array([[0., 0., 0., ..., 0., 0., 0.],\n",
            "       [1., 0., 1., ..., 0., 0., 0.],\n",
            "       [0., 0., 0., ..., 0., 0., 0.],\n",
            "       ...,\n",
            "       [0., 0., 0., ..., 0., 0., 0.],\n",
            "       [0., 0., 0., ..., 0., 0., 0.],\n",
            "       [0., 0., 0., ..., 0., 0., 0.]], dtype=float32)>, 'pairs': <tf.Tensor: shape=(5417, 5417, 1), dtype=float32, numpy=\n",
            "array([[[0.       ],\n",
            "        [0.       ],\n",
            "        [0.       ],\n",
            "        ...,\n",
            "        [0.       ],\n",
            "        [0.       ],\n",
            "        [0.       ]],\n",
            "\n",
            "       [[1.5260504],\n",
            "        [0.       ],\n",
            "        [1.5265448],\n",
            "        ...,\n",
            "        [0.       ],\n",
            "        [0.       ],\n",
            "        [0.       ]],\n",
            "\n",
            "       [[0.       ],\n",
            "        [0.       ],\n",
            "        [0.       ],\n",
            "        ...,\n",
            "        [0.       ],\n",
            "        [0.       ],\n",
            "        [0.       ]],\n",
            "\n",
            "       ...,\n",
            "\n",
            "       [[0.       ],\n",
            "        [0.       ],\n",
            "        [0.       ],\n",
            "        ...,\n",
            "        [0.       ],\n",
            "        [0.       ],\n",
            "        [0.       ]],\n",
            "\n",
            "       [[0.       ],\n",
            "        [0.       ],\n",
            "        [0.       ],\n",
            "        ...,\n",
            "        [0.       ],\n",
            "        [0.       ],\n",
            "        [0.       ]],\n",
            "\n",
            "       [[0.       ],\n",
            "        [0.       ],\n",
            "        [0.       ],\n",
            "        ...,\n",
            "        [0.       ],\n",
            "        [0.       ],\n",
            "        [0.       ]]], dtype=float32)>, 'target': <tf.Tensor: shape=(), dtype=float32, numpy=44.0>}\n",
            "{'active': <tf.Tensor: shape=(2,), dtype=int64, numpy=array([1, 0])>, 'atom_mask': <tf.Tensor: shape=(2544,), dtype=float32, numpy=array([1., 1., 1., ..., 1., 1., 1.], dtype=float32)>, 'atoms': <tf.Tensor: shape=(2544, 1), dtype=float32, numpy=\n",
            "array([[3.],\n",
            "       [3.],\n",
            "       [1.],\n",
            "       ...,\n",
            "       [1.],\n",
            "       [2.],\n",
            "       [1.]], dtype=float32)>, 'molecule_id': <tf.Tensor: shape=(), dtype=string, numpy=b'id1'>, 'pair_mask': <tf.Tensor: shape=(2544, 2544), dtype=float32, numpy=\n",
            "array([[0., 0., 0., ..., 0., 0., 0.],\n",
            "       [1., 0., 1., ..., 0., 0., 0.],\n",
            "       [0., 0., 0., ..., 0., 0., 0.],\n",
            "       ...,\n",
            "       [0., 0., 0., ..., 0., 0., 0.],\n",
            "       [0., 0., 0., ..., 0., 0., 0.],\n",
            "       [0., 0., 0., ..., 0., 0., 0.]], dtype=float32)>, 'pairs': <tf.Tensor: shape=(2544, 2544, 1), dtype=float32, numpy=\n",
            "array([[[0.       ],\n",
            "        [0.       ],\n",
            "        [0.       ],\n",
            "        ...,\n",
            "        [0.       ],\n",
            "        [0.       ],\n",
            "        [0.       ]],\n",
            "\n",
            "       [[1.5263476],\n",
            "        [0.       ],\n",
            "        [1.5265167],\n",
            "        ...,\n",
            "        [0.       ],\n",
            "        [0.       ],\n",
            "        [0.       ]],\n",
            "\n",
            "       [[0.       ],\n",
            "        [0.       ],\n",
            "        [0.       ],\n",
            "        ...,\n",
            "        [0.       ],\n",
            "        [0.       ],\n",
            "        [0.       ]],\n",
            "\n",
            "       ...,\n",
            "\n",
            "       [[0.       ],\n",
            "        [0.       ],\n",
            "        [0.       ],\n",
            "        ...,\n",
            "        [0.       ],\n",
            "        [0.       ],\n",
            "        [0.       ]],\n",
            "\n",
            "       [[0.       ],\n",
            "        [0.       ],\n",
            "        [0.       ],\n",
            "        ...,\n",
            "        [0.       ],\n",
            "        [0.       ],\n",
            "        [0.       ]],\n",
            "\n",
            "       [[0.       ],\n",
            "        [0.       ],\n",
            "        [0.       ],\n",
            "        ...,\n",
            "        [0.       ],\n",
            "        [0.       ],\n",
            "        [0.       ]]], dtype=float32)>, 'target': <tf.Tensor: shape=(), dtype=float32, numpy=42.6>}\n"
          ]
        }
      ]
    },
    {
      "cell_type": "code",
      "source": [
        "# import pandas as pd\n",
        "# pd.DataFrame.from_dict(mydata).to_dict(orient=\"list\")"
      ],
      "metadata": {
        "id": "4KzoC3INbih1"
      },
      "execution_count": null,
      "outputs": []
    },
    {
      "cell_type": "code",
      "source": [
        "\n",
        "graph_schema_pbtxt = \"\"\"\n",
        "node_sets {\n",
        "  key: \"atom\"\n",
        "  value {\n",
        "    description: \"An atom in the molecule.\"\n",
        "\n",
        "    features {\n",
        "      key: \"atom_features\"\n",
        "      value: {\n",
        "        description: \"[DATA] The features of the atom.\"\n",
        "        dtype: DT_FLOAT\n",
        "        shape { dim { size: 1 } }\n",
        "      }\n",
        "    }\n",
        "  }\n",
        "}\n",
        "\n",
        "edge_sets {\n",
        "  key: \"bond\"\n",
        "  value {\n",
        "    description: \"A bond between two atoms in the molecule.\"\n",
        "    source: \"atom\"\n",
        "    target: \"atom\"\n",
        "\n",
        "    features {\n",
        "      key: \"bond_features\"\n",
        "      value: {\n",
        "        description: \"[DATA] The features of the bond.\"\n",
        "        dtype: DT_FLOAT\n",
        "        shape { dim { size: 1 } }\n",
        "      }\n",
        "    }\n",
        "  }\n",
        "}\n",
        "\n",
        "context {\n",
        "  features {\n",
        "    key: \"stability\"\n",
        "    value: {\n",
        "      description: \"[LABEL] The toxicity class of the molecule (0 -> non-toxic; 1 -> toxic).\"\n",
        "      dtype: DT_FLOAT\n",
        "    }\n",
        "  }\n",
        "  \n",
        "  features {\n",
        "    key: \"molecule_id\"\n",
        "    value: {\n",
        "      description: \"[LABEL] The id of the molecule.\"\n",
        "      dtype: DT_STRING\n",
        "    }\n",
        "  }\n",
        "}\n",
        "\"\"\""
      ],
      "metadata": {
        "id": "4JK9LfqxFEjo"
      },
      "execution_count": 7,
      "outputs": []
    },
    {
      "cell_type": "code",
      "source": [
        "# for i in dataset.take(4):\n",
        "#     print(i)"
      ],
      "metadata": {
        "id": "gZuT_55wFIL5"
      },
      "execution_count": null,
      "outputs": []
    },
    {
      "cell_type": "code",
      "source": [],
      "metadata": {
        "id": "hJtT0ijZFmGc"
      },
      "execution_count": null,
      "outputs": []
    },
    {
      "cell_type": "code",
      "source": [
        "\n",
        "graph_schema = tfgnn.parse_schema(graph_schema_pbtxt)\n",
        "graph_spec = tfgnn.create_graph_spec_from_schema_pb(graph_schema)"
      ],
      "metadata": {
        "id": "5_fH5ymqFoXs"
      },
      "execution_count": 8,
      "outputs": []
    },
    {
      "cell_type": "code",
      "source": [
        "\n",
        "def make_graph_tensor(datapoint):\n",
        "    \"\"\"\n",
        "    Convert a datapoint into a `GraphTensor`.\n",
        "    \"\"\"\n",
        "    # atom_mask is non-zero only for real atoms\n",
        "    # [ V, ]\n",
        "    atom_indices = tf.squeeze(tf.where(datapoint['atom_mask']), axis=1)\n",
        "    \n",
        "    # only keep features of real atoms\n",
        "    # [ V, 27 ]\n",
        "    atom_features = tf.gather(datapoint['atoms'], atom_indices)\n",
        "    # print(atom_features)\n",
        "    # print(atom_features.shape)\n",
        "    \n",
        "    # restrict the bond mask to real atoms\n",
        "    # [ V, V ]\n",
        "    pair_mask = tf.gather(tf.gather(datapoint['pair_mask'], atom_indices, axis=0), atom_indices, axis=1)\n",
        "    \n",
        "    # restrict the bond features to real atoms\n",
        "    # [ V, V, 12 ]\n",
        "    pairs = tf.gather(tf.gather(datapoint['pairs'], atom_indices, axis=0), atom_indices, axis=1)\n",
        "    \n",
        "    # pair_mask is non-zero only for real bonds\n",
        "    # [ E, 2 ]\n",
        "    bond_indices = tf.where(pair_mask)\n",
        "    \n",
        "    # only keep features of real bonds\n",
        "    # [ E, 12 ]\n",
        "    bond_features = tf.gather_nd(pairs, bond_indices)\n",
        "    # print(bond_features)\n",
        "    # print(bond_features.shape)\n",
        "    \n",
        "    # separate sources and targets for each bond\n",
        "    # [ E, ]\n",
        "    sources, targets = tf.unstack(tf.transpose(bond_indices))\n",
        "\n",
        "    # active is [1, 0] for non-toxic molecules, [0, 1] for toxic molecules\n",
        "    # [ ]\n",
        "    # toxicity = tf.argmax(datapoint['active'])\n",
        "    stability = datapoint[\"target\"]\n",
        "    \n",
        "    # the molecule_id is included for reference\n",
        "    # [ ]\n",
        "    molecule_id = datapoint['molecule_id']\n",
        "\n",
        "    # create a GraphTensor from all of the above\n",
        "    atom = tfgnn.NodeSet.from_fields(features={'atom_features': atom_features},\n",
        "                                     sizes=tf.shape(atom_indices))\n",
        "    \n",
        "    atom_adjacency = tfgnn.Adjacency.from_indices(source=('atom', tf.cast(sources, dtype=tf.int32)),\n",
        "                                                  target=('atom', tf.cast(targets, dtype=tf.int32)))\n",
        "    \n",
        "    bond = tfgnn.EdgeSet.from_fields(features={'bond_features': bond_features},\n",
        "                                     sizes=tf.shape(sources),\n",
        "                                     adjacency=atom_adjacency)\n",
        "    \n",
        "    context = tfgnn.Context.from_fields(features={'stability': [stability], 'molecule_id': [molecule_id]})\n",
        "\n",
        "    # extract label from context and remove from input graph\n",
        "\n",
        "    \n",
        "    return tfgnn.GraphTensor.from_pieces(node_sets={'atom': atom}, edge_sets={'bond': bond}, context=context), [stability]"
      ],
      "metadata": {
        "id": "nY4smnbNFtah"
      },
      "execution_count": 9,
      "outputs": []
    },
    {
      "cell_type": "code",
      "source": [
        "graph_dataset = dataset.map(make_graph_tensor)"
      ],
      "metadata": {
        "id": "qObWUaRUF4Gu"
      },
      "execution_count": 10,
      "outputs": []
    },
    {
      "cell_type": "code",
      "source": [
        "train_dataset = graph_dataset.take(56)\n",
        "test_dataset = graph_dataset.skip(56)"
      ],
      "metadata": {
        "id": "tAaQicIB2QIq"
      },
      "execution_count": 12,
      "outputs": []
    },
    {
      "cell_type": "code",
      "source": [],
      "metadata": {
        "id": "CyxQfiHK2Qat"
      },
      "execution_count": null,
      "outputs": []
    },
    {
      "cell_type": "code",
      "source": [
        "graph_tensor, y = next(iter(train_dataset))\n",
        "graph_tensor"
      ],
      "metadata": {
        "id": "3H6Cx9CNONzr",
        "colab": {
          "base_uri": "https://localhost:8080/"
        },
        "outputId": "198de722-6b69-4a4d-ffec-ba9be91ac271"
      },
      "execution_count": 13,
      "outputs": [
        {
          "output_type": "execute_result",
          "data": {
            "text/plain": [
              "GraphTensor(\n",
              "  context=Context(features={'stability': <tf.Tensor: shape=(1,), dtype=tf.float32>, 'molecule_id': <tf.Tensor: shape=(1,), dtype=tf.string>}, sizes=[1], shape=(), indices_dtype=tf.int32),\n",
              "  node_set_names=['atom'],\n",
              "  edge_set_names=['bond'])"
            ]
          },
          "metadata": {},
          "execution_count": 13
        }
      ]
    },
    {
      "cell_type": "code",
      "source": [
        "graph_spec.is_compatible_with(graph_tensor)"
      ],
      "metadata": {
        "colab": {
          "base_uri": "https://localhost:8080/"
        },
        "id": "l-h6cU65Oa2j",
        "outputId": "238bc22c-5a65-4075-ff32-26222afa4379"
      },
      "execution_count": 14,
      "outputs": [
        {
          "output_type": "execute_result",
          "data": {
            "text/plain": [
              "True"
            ]
          },
          "metadata": {},
          "execution_count": 14
        }
      ]
    },
    {
      "cell_type": "code",
      "source": [
        "next(iter(train_dataset))"
      ],
      "metadata": {
        "colab": {
          "base_uri": "https://localhost:8080/"
        },
        "id": "z1ocDO9wnVEU",
        "outputId": "9b32eaac-17a4-4017-fe19-4716bbeb82b3"
      },
      "execution_count": null,
      "outputs": [
        {
          "output_type": "execute_result",
          "data": {
            "text/plain": [
              "(GraphTensor(\n",
              "   context=Context(features={'stability': <tf.Tensor: shape=(1,), dtype=tf.float32>, 'molecule_id': <tf.Tensor: shape=(1,), dtype=tf.string>}, sizes=[1], shape=(), indices_dtype=tf.int32),\n",
              "   node_set_names=['atom'],\n",
              "   edge_set_names=['bond']),\n",
              " <tf.Tensor: shape=(1,), dtype=float32, numpy=array([44.], dtype=float32)>)"
            ]
          },
          "metadata": {},
          "execution_count": 25
        }
      ]
    },
    {
      "cell_type": "code",
      "source": [
        "for i in train_dataset.take(4):\n",
        "    print(i[0].node_sets['atom'].features['atom_features'])"
      ],
      "metadata": {
        "id": "cvt4dFcARBUs",
        "colab": {
          "base_uri": "https://localhost:8080/"
        },
        "outputId": "7e0722a2-ea3c-4fc7-a37e-e458517275b8"
      },
      "execution_count": null,
      "outputs": [
        {
          "output_type": "stream",
          "name": "stdout",
          "text": [
            "tf.Tensor(\n",
            "[[3.]\n",
            " [3.]\n",
            " [1.]\n",
            " ...\n",
            " [1.]\n",
            " [2.]\n",
            " [1.]], shape=(5417, 1), dtype=float32)\n",
            "tf.Tensor(\n",
            "[[3.]\n",
            " [3.]\n",
            " [1.]\n",
            " ...\n",
            " [1.]\n",
            " [2.]\n",
            " [1.]], shape=(5417, 1), dtype=float32)\n",
            "tf.Tensor(\n",
            "[[3.]\n",
            " [3.]\n",
            " [1.]\n",
            " ...\n",
            " [1.]\n",
            " [2.]\n",
            " [1.]], shape=(2544, 1), dtype=float32)\n",
            "tf.Tensor(\n",
            "[[3.]\n",
            " [3.]\n",
            " [1.]\n",
            " ...\n",
            " [1.]\n",
            " [2.]\n",
            " [1.]], shape=(4689, 1), dtype=float32)\n"
          ]
        }
      ]
    },
    {
      "cell_type": "markdown",
      "source": [
        "## Data Inspection"
      ],
      "metadata": {
        "id": "tdq5Pm9-RB5c"
      }
    },
    {
      "cell_type": "code",
      "execution_count": null,
      "metadata": {
        "execution": {
          "iopub.execute_input": "2022-07-05T09:48:02.607230Z",
          "iopub.status.busy": "2022-07-05T09:48:02.606843Z",
          "iopub.status.idle": "2022-07-05T09:48:02.612645Z",
          "shell.execute_reply": "2022-07-05T09:48:02.611929Z"
        },
        "papermill": {
          "duration": 0.069321,
          "end_time": "2022-07-05T09:48:02.614461",
          "exception": false,
          "start_time": "2022-07-05T09:48:02.545140",
          "status": "completed"
        },
        "tags": [],
        "id": "1fe377e0",
        "outputId": "8dc4cbe0-a2e4-4194-ab71-88a699d6e466",
        "colab": {
          "base_uri": "https://localhost:8080/"
        }
      },
      "outputs": [
        {
          "output_type": "execute_result",
          "data": {
            "text/plain": [
              "<tf.Tensor: shape=(1,), dtype=int32, numpy=array([5417], dtype=int32)>"
            ]
          },
          "metadata": {},
          "execution_count": 21
        }
      ],
      "source": [
        "graph_tensor.node_sets['atom'].sizes"
      ]
    },
    {
      "cell_type": "code",
      "execution_count": null,
      "metadata": {
        "execution": {
          "iopub.execute_input": "2022-07-05T09:48:02.860298Z",
          "iopub.status.busy": "2022-07-05T09:48:02.859220Z",
          "iopub.status.idle": "2022-07-05T09:48:02.873071Z",
          "shell.execute_reply": "2022-07-05T09:48:02.872284Z"
        },
        "papermill": {
          "duration": 0.077765,
          "end_time": "2022-07-05T09:48:02.875283",
          "exception": false,
          "start_time": "2022-07-05T09:48:02.797518",
          "status": "completed"
        },
        "tags": [],
        "id": "0415d9b7",
        "outputId": "f28ea67e-05ea-432e-af42-a15637d788d7",
        "colab": {
          "base_uri": "https://localhost:8080/"
        }
      },
      "outputs": [
        {
          "output_type": "execute_result",
          "data": {
            "text/plain": [
              "<tf.Tensor: shape=(5417, 1), dtype=float32, numpy=\n",
              "array([[3.],\n",
              "       [3.],\n",
              "       [1.],\n",
              "       ...,\n",
              "       [1.],\n",
              "       [2.],\n",
              "       [1.]], dtype=float32)>"
            ]
          },
          "metadata": {},
          "execution_count": 22
        }
      ],
      "source": [
        "graph_tensor.node_sets['atom']['atom_features']"
      ]
    },
    {
      "cell_type": "code",
      "execution_count": null,
      "metadata": {
        "execution": {
          "iopub.execute_input": "2022-07-05T09:48:03.126915Z",
          "iopub.status.busy": "2022-07-05T09:48:03.126105Z",
          "iopub.status.idle": "2022-07-05T09:48:03.133561Z",
          "shell.execute_reply": "2022-07-05T09:48:03.132700Z"
        },
        "papermill": {
          "duration": 0.070292,
          "end_time": "2022-07-05T09:48:03.135361",
          "exception": false,
          "start_time": "2022-07-05T09:48:03.065069",
          "status": "completed"
        },
        "tags": [],
        "id": "7118d3a4",
        "outputId": "3d6f896d-bece-4bd0-85d7-89e4c0212d2c",
        "colab": {
          "base_uri": "https://localhost:8080/"
        }
      },
      "outputs": [
        {
          "output_type": "execute_result",
          "data": {
            "text/plain": [
              "<tf.Tensor: shape=(1,), dtype=int32, numpy=array([5575], dtype=int32)>"
            ]
          },
          "metadata": {},
          "execution_count": 23
        }
      ],
      "source": [
        "graph_tensor.edge_sets['bond'].sizes"
      ]
    },
    {
      "cell_type": "code",
      "execution_count": null,
      "metadata": {
        "execution": {
          "iopub.execute_input": "2022-07-05T09:48:03.380945Z",
          "iopub.status.busy": "2022-07-05T09:48:03.380582Z",
          "iopub.status.idle": "2022-07-05T09:48:03.394660Z",
          "shell.execute_reply": "2022-07-05T09:48:03.393824Z"
        },
        "papermill": {
          "duration": 0.078345,
          "end_time": "2022-07-05T09:48:03.396838",
          "exception": false,
          "start_time": "2022-07-05T09:48:03.318493",
          "status": "completed"
        },
        "tags": [],
        "id": "f885714e",
        "outputId": "25b6e81a-40f5-47ce-f6f0-67d82d27f155",
        "colab": {
          "base_uri": "https://localhost:8080/"
        }
      },
      "outputs": [
        {
          "output_type": "execute_result",
          "data": {
            "text/plain": [
              "<tf.Tensor: shape=(5575, 1), dtype=float32, numpy=\n",
              "array([[1.233069 ],\n",
              "       [1.2656579],\n",
              "       [1.5260504],\n",
              "       ...,\n",
              "       [1.5273719],\n",
              "       [1.5267308],\n",
              "       [1.4586443]], dtype=float32)>"
            ]
          },
          "metadata": {},
          "execution_count": 24
        }
      ],
      "source": [
        "graph_tensor.edge_sets['bond']['bond_features']"
      ]
    },
    {
      "cell_type": "code",
      "source": [],
      "metadata": {
        "id": "-Z4JTEJcPbEP"
      },
      "execution_count": null,
      "outputs": []
    },
    {
      "cell_type": "code",
      "execution_count": null,
      "metadata": {
        "execution": {
          "iopub.execute_input": "2022-07-05T09:48:03.642281Z",
          "iopub.status.busy": "2022-07-05T09:48:03.641931Z",
          "iopub.status.idle": "2022-07-05T09:48:03.648311Z",
          "shell.execute_reply": "2022-07-05T09:48:03.647449Z"
        },
        "papermill": {
          "duration": 0.070775,
          "end_time": "2022-07-05T09:48:03.650921",
          "exception": false,
          "start_time": "2022-07-05T09:48:03.580146",
          "status": "completed"
        },
        "tags": [],
        "id": "3cfa385b",
        "outputId": "71e5499f-27c5-4132-b8da-8822adb98ea5",
        "colab": {
          "base_uri": "https://localhost:8080/"
        }
      },
      "outputs": [
        {
          "output_type": "execute_result",
          "data": {
            "text/plain": [
              "<tf.Tensor: shape=(5575,), dtype=int32, numpy=array([   0,    0,    1, ..., 5412, 5412, 5415], dtype=int32)>"
            ]
          },
          "metadata": {},
          "execution_count": 25
        }
      ],
      "source": [
        "graph_tensor.edge_sets['bond'].adjacency.source"
      ]
    },
    {
      "cell_type": "code",
      "execution_count": null,
      "metadata": {
        "execution": {
          "iopub.execute_input": "2022-07-05T09:48:03.774437Z",
          "iopub.status.busy": "2022-07-05T09:48:03.774092Z",
          "iopub.status.idle": "2022-07-05T09:48:03.780001Z",
          "shell.execute_reply": "2022-07-05T09:48:03.779243Z"
        },
        "papermill": {
          "duration": 0.069978,
          "end_time": "2022-07-05T09:48:03.781890",
          "exception": false,
          "start_time": "2022-07-05T09:48:03.711912",
          "status": "completed"
        },
        "tags": [],
        "id": "c8fee111",
        "outputId": "8a864fd1-893c-4603-f416-ab2cb54f1c58",
        "colab": {
          "base_uri": "https://localhost:8080/"
        }
      },
      "outputs": [
        {
          "output_type": "execute_result",
          "data": {
            "text/plain": [
              "<tf.Tensor: shape=(5575,), dtype=int32, numpy=array([   4, 2792,    0, ..., 5413, 5414, 5411], dtype=int32)>"
            ]
          },
          "metadata": {},
          "execution_count": 26
        }
      ],
      "source": [
        "graph_tensor.edge_sets['bond'].adjacency.target"
      ]
    },
    {
      "cell_type": "markdown",
      "metadata": {
        "papermill": {
          "duration": 0.060728,
          "end_time": "2022-07-05T09:48:03.904016",
          "exception": false,
          "start_time": "2022-07-05T09:48:03.843288",
          "status": "completed"
        },
        "tags": [],
        "id": "4c60d930"
      },
      "source": [
        "Finally, global information about the graph is provided by its context"
      ]
    },
    {
      "cell_type": "code",
      "execution_count": null,
      "metadata": {
        "execution": {
          "iopub.execute_input": "2022-07-05T09:48:04.028001Z",
          "iopub.status.busy": "2022-07-05T09:48:04.027615Z",
          "iopub.status.idle": "2022-07-05T09:48:04.033438Z",
          "shell.execute_reply": "2022-07-05T09:48:04.032662Z"
        },
        "papermill": {
          "duration": 0.069632,
          "end_time": "2022-07-05T09:48:04.035426",
          "exception": false,
          "start_time": "2022-07-05T09:48:03.965794",
          "status": "completed"
        },
        "tags": [],
        "id": "2e5f3a27",
        "outputId": "be03a9f5-4480-44af-e80f-73094a88dae6",
        "colab": {
          "base_uri": "https://localhost:8080/"
        }
      },
      "outputs": [
        {
          "output_type": "execute_result",
          "data": {
            "text/plain": [
              "<tf.Tensor: shape=(1,), dtype=int64, numpy=array([0])>"
            ]
          },
          "metadata": {},
          "execution_count": 27
        }
      ],
      "source": [
        "graph_tensor.context['toxicity']"
      ]
    },
    {
      "cell_type": "code",
      "execution_count": null,
      "metadata": {
        "execution": {
          "iopub.execute_input": "2022-07-05T09:48:04.160366Z",
          "iopub.status.busy": "2022-07-05T09:48:04.159754Z",
          "iopub.status.idle": "2022-07-05T09:48:04.165292Z",
          "shell.execute_reply": "2022-07-05T09:48:04.164580Z"
        },
        "papermill": {
          "duration": 0.070155,
          "end_time": "2022-07-05T09:48:04.167151",
          "exception": false,
          "start_time": "2022-07-05T09:48:04.096996",
          "status": "completed"
        },
        "tags": [],
        "id": "9648cd2b",
        "outputId": "9bbf3b88-9b09-4aec-c80b-4b934c464c8a",
        "colab": {
          "base_uri": "https://localhost:8080/"
        }
      },
      "outputs": [
        {
          "output_type": "execute_result",
          "data": {
            "text/plain": [
              "<tf.Tensor: shape=(1,), dtype=string, numpy=array([b'id1'], dtype=object)>"
            ]
          },
          "metadata": {},
          "execution_count": 146
        }
      ],
      "source": [
        "graph_tensor.context['molecule_id']"
      ]
    },
    {
      "cell_type": "code",
      "source": [
        "def draw_molecule(graph_tensor):\n",
        "    \"\"\"\n",
        "    Plot the `GraphTensor` representation of a molecule.\n",
        "    \"\"\"\n",
        "    (molecule_id,) = graph_tensor.context['molecule_id'].numpy()\n",
        "    (toxicity,) = graph_tensor.context['toxicity'].numpy()\n",
        "\n",
        "    sources = graph_tensor.edge_sets['bond'].adjacency.source.numpy()\n",
        "    targets = graph_tensor.edge_sets['bond'].adjacency.target.numpy()\n",
        "\n",
        "    pgvGraph = pgv.AGraph()\n",
        "    pgvGraph.graph_attr['label'] = f'toxicity = {toxicity}\\n\\nmolecule_id = {molecule_id.decode()}'\n",
        "\n",
        "    for edge in zip(sources, targets):\n",
        "        pgvGraph.add_edge(edge)\n",
        "\n",
        "    return Image(pgvGraph.draw(format='png', prog='dot'))"
      ],
      "metadata": {
        "id": "nwOvOM7eS-D3"
      },
      "execution_count": null,
      "outputs": []
    },
    {
      "cell_type": "code",
      "source": [
        "draw_molecule(graph_tensor)"
      ],
      "metadata": {
        "id": "HcHdSGVHS--f"
      },
      "execution_count": null,
      "outputs": []
    },
    {
      "cell_type": "code",
      "source": [],
      "metadata": {
        "id": "PqX68mzfCC-3"
      },
      "execution_count": null,
      "outputs": []
    },
    {
      "cell_type": "markdown",
      "source": [
        "## Creating batches"
      ],
      "metadata": {
        "id": "tHwC-ShZDNHb"
      }
    },
    {
      "cell_type": "code",
      "source": [
        "batch_size = 16\n",
        "batched_train_dataset = train_dataset.batch(batch_size).repeat()\n",
        "batched_test_dataset = test_dataset.batch(batch_size)\n"
      ],
      "metadata": {
        "id": "DGjAJJRgCd-G"
      },
      "execution_count": 40,
      "outputs": []
    },
    {
      "cell_type": "code",
      "source": [],
      "metadata": {
        "id": "b-VXrIg6swTc"
      },
      "execution_count": null,
      "outputs": []
    },
    {
      "cell_type": "code",
      "source": [
        "graph_tensor_batch, y = next(iter(batched_train_dataset))\n",
        "graph_tensor_batch.rank\n",
        "\n",
        "## The resulting GraphTensor now contains features in the form of tf.RaggedTensor, \n",
        "## since different graphs can have different numbers of nodes and edges:"
      ],
      "metadata": {
        "id": "9xqpcrJTDQ0X",
        "colab": {
          "base_uri": "https://localhost:8080/"
        },
        "outputId": "e74e5bf9-9c73-49c1-cf91-c7f003287e07"
      },
      "execution_count": null,
      "outputs": [
        {
          "output_type": "execute_result",
          "data": {
            "text/plain": [
              "1"
            ]
          },
          "metadata": {},
          "execution_count": 14
        }
      ]
    },
    {
      "cell_type": "code",
      "source": [
        "print(graph_tensor_batch.node_sets['atom']['atom_features'].shape)\n",
        "print(graph_tensor_batch.edge_sets['bond']['bond_features'].shape)"
      ],
      "metadata": {
        "id": "_aeWnl9GD1uG",
        "colab": {
          "base_uri": "https://localhost:8080/"
        },
        "outputId": "39eaf207-042a-450a-efe6-50cb493a7c6b"
      },
      "execution_count": null,
      "outputs": [
        {
          "output_type": "stream",
          "name": "stdout",
          "text": [
            "(16, None, 1)\n",
            "(16, None, 1)\n"
          ]
        }
      ]
    },
    {
      "cell_type": "code",
      "source": [
        "## All layers in TF-GNN expect scalar graphs as their inputs, \n",
        "## so before actually using a batch of graphs we should always \"merge\" the different graphs in the batch into a \n",
        "## single graph with multiple disconnected components (of which TF-GNN automatically keeps track):\n",
        "\n",
        "\n",
        "\n",
        "scalar_graph_tensor = graph_tensor_batch.merge_batch_to_components()\n",
        "scalar_graph_tensor.rank"
      ],
      "metadata": {
        "id": "g5Uxwbv4D9WS",
        "colab": {
          "base_uri": "https://localhost:8080/"
        },
        "outputId": "c863c71c-a2ab-4a34-9fb2-74d66c1a9365"
      },
      "execution_count": null,
      "outputs": [
        {
          "output_type": "execute_result",
          "data": {
            "text/plain": [
              "0"
            ]
          },
          "metadata": {},
          "execution_count": 30
        }
      ]
    },
    {
      "cell_type": "code",
      "source": [],
      "metadata": {
        "id": "lwUAEJTGsDt9"
      },
      "execution_count": null,
      "outputs": []
    },
    {
      "cell_type": "code",
      "source": [
        "print(scalar_graph_tensor.node_sets['atom']['atom_features'].shape)\n",
        "print(scalar_graph_tensor.edge_sets['bond']['bond_features'].shape)"
      ],
      "metadata": {
        "id": "O5p4m_SFEfDl",
        "colab": {
          "base_uri": "https://localhost:8080/"
        },
        "outputId": "58db1f84-ddb4-4992-fd9c-ab5b964ec12b"
      },
      "execution_count": null,
      "outputs": [
        {
          "output_type": "stream",
          "name": "stdout",
          "text": [
            "(53117, 1)\n",
            "(54509, 1)\n"
          ]
        }
      ]
    },
    {
      "cell_type": "code",
      "source": [],
      "metadata": {
        "id": "qdZJUhL-zaQg"
      },
      "execution_count": null,
      "outputs": []
    },
    {
      "cell_type": "code",
      "source": [],
      "metadata": {
        "id": "3Io4nIVzzak5"
      },
      "execution_count": null,
      "outputs": []
    },
    {
      "cell_type": "markdown",
      "source": [
        "## Model 1"
      ],
      "metadata": {
        "id": "ejy3sWGvzd2c"
      }
    },
    {
      "cell_type": "code",
      "source": [
        "\n",
        "def _build_model(\n",
        "    graph_tensor_spec,\n",
        "    # Dimensions of initial states.\n",
        "    node_dim=16,\n",
        "    edge_dim=16,\n",
        "    # Dimensions for message passing.\n",
        "    message_dim=64,\n",
        "    next_state_dim=64,\n",
        "    # Dimension for the logits.\n",
        "    num_classes=2,\n",
        "    # Number of message passing steps.\n",
        "    num_message_passing=8,\n",
        "    # Other hyperparameters.\n",
        "    l2_regularization=5e-4,\n",
        "    dropout_rate=0.5,\n",
        "):\n",
        " # input\n",
        "  input_graph = tf.keras.layers.Input(type_spec=graph_tensor_spec)\n",
        "\n",
        "  graph = input_graph.merge_batch_to_components()\n",
        "\n",
        "  # a Dense layer effectively does a lookup in a trainable embedding table.\n",
        "  def set_initial_node_state(node_set, *, node_set_name):\n",
        "    # Since we only have one node set, we can ignore node_set_name.\n",
        "    return tf.keras.layers.Dense(node_dim)(node_set['atom_features'])\n",
        "  def set_initial_edge_state(edge_set, *, edge_set_name):\n",
        "    return tf.keras.layers.Dense(edge_dim)(edge_set['bond_features'])\n",
        "  graph = tfgnn.keras.layers.MapFeatures(\n",
        "      node_sets_fn=set_initial_node_state, edge_sets_fn=set_initial_edge_state)(\n",
        "          graph)\n",
        "\n",
        "  # dense helper function\n",
        "  def dense(units, activation=\"relu\"):\n",
        "    \"\"\"A Dense layer with regularization (L2 and Dropout).\"\"\"\n",
        "    regularizer = tf.keras.regularizers.l2(l2_regularization)\n",
        "    return tf.keras.Sequential([\n",
        "        tf.keras.layers.Dense(\n",
        "            units,\n",
        "            activation=activation,\n",
        "            kernel_regularizer=regularizer,\n",
        "            bias_regularizer=regularizer),\n",
        "        tf.keras.layers.Dropout(dropout_rate)\n",
        "    ])\n",
        "\n",
        " ## message passing\n",
        "  for i in range(num_message_passing):\n",
        "    graph = tfgnn.keras.layers.GraphUpdate(\n",
        "        node_sets={\n",
        "            \"atom\": tfgnn.keras.layers.NodeSetUpdate(\n",
        "                {\"bond\": tfgnn.keras.layers.SimpleConv(\n",
        "                     sender_edge_feature=tfgnn.HIDDEN_STATE,\n",
        "                     message_fn=dense(message_dim),\n",
        "                     reduce_type=\"sum\",\n",
        "                     receiver_tag=tfgnn.TARGET)},\n",
        "                tfgnn.keras.layers.NextStateFromConcat(dense(next_state_dim)))}\n",
        "    )(graph)\n",
        "\n",
        "  # After the GNN has computed a context-aware representation of the \"atoms\",\n",
        "  # the model reads out a representation for the graph as a whole by averaging\n",
        "  # (pooling) nde states into the graph context.\n",
        "\n",
        "  readout_features = tfgnn.keras.layers.Pool(\n",
        "      tfgnn.CONTEXT, \"mean\", node_set_name=\"atom\")(graph)\n",
        "\n",
        "  # Put a linear classifier on top (not followed by dropout).\n",
        "  logits = tf.keras.layers.Dense(1)(readout_features)\n",
        "\n",
        "  # Build a Keras Model for the transformation from input_graph to logits.\n",
        "  return tf.keras.Model(inputs=[input_graph], outputs=[logits])"
      ],
      "metadata": {
        "id": "PgdJivR8zavE"
      },
      "execution_count": 41,
      "outputs": []
    },
    {
      "cell_type": "code",
      "source": [
        "model_input_graph_spec, label_spec = train_dataset.element_spec\n",
        "del label_spec # Unused.\n",
        "model = _build_model(model_input_graph_spec)"
      ],
      "metadata": {
        "id": "z2N6MJXczbv9"
      },
      "execution_count": 42,
      "outputs": []
    },
    {
      "cell_type": "code",
      "source": [
        "loss = tf.keras.losses.MeanSquaredError()\n",
        "metrics = [tf.keras.metrics.MeanSquaredError(),\n",
        "            tf.keras.metrics.MeanSquaredLogarithmicError()]"
      ],
      "metadata": {
        "id": "exbEUmYtzcIH"
      },
      "execution_count": 43,
      "outputs": []
    },
    {
      "cell_type": "code",
      "source": [
        "model.compile(tf.keras.optimizers.Adam(), loss=loss, metrics=metrics)"
      ],
      "metadata": {
        "id": "sc7330dJzcNf"
      },
      "execution_count": 44,
      "outputs": []
    },
    {
      "cell_type": "code",
      "source": [
        "model.summary()"
      ],
      "metadata": {
        "colab": {
          "base_uri": "https://localhost:8080/"
        },
        "id": "EI7QkczbzcXW",
        "outputId": "e6a38459-f772-4dc1-8bea-503a11bd9c02"
      },
      "execution_count": 45,
      "outputs": [
        {
          "output_type": "stream",
          "name": "stdout",
          "text": [
            "Model: \"model_3\"\n",
            "_________________________________________________________________\n",
            " Layer (type)                Output Shape              Param #   \n",
            "=================================================================\n",
            " input_10 (InputLayer)       [()]                      0         \n",
            "                                                                 \n",
            " input.merge_batch_to_compon  ()                       0         \n",
            " ents_3 (InstanceMethod)                                         \n",
            "                                                                 \n",
            " map_features_3 (MapFeatures  ()                       64        \n",
            " )                                                               \n",
            "                                                                 \n",
            " graph_update_24 (GraphUpdat  ()                       8320      \n",
            " e)                                                              \n",
            "                                                                 \n",
            " graph_update_25 (GraphUpdat  ()                       17536     \n",
            " e)                                                              \n",
            "                                                                 \n",
            " graph_update_26 (GraphUpdat  ()                       17536     \n",
            " e)                                                              \n",
            "                                                                 \n",
            " graph_update_27 (GraphUpdat  ()                       17536     \n",
            " e)                                                              \n",
            "                                                                 \n",
            " graph_update_28 (GraphUpdat  ()                       17536     \n",
            " e)                                                              \n",
            "                                                                 \n",
            " graph_update_29 (GraphUpdat  ()                       17536     \n",
            " e)                                                              \n",
            "                                                                 \n",
            " graph_update_30 (GraphUpdat  ()                       17536     \n",
            " e)                                                              \n",
            "                                                                 \n",
            " graph_update_31 (GraphUpdat  ()                       17536     \n",
            " e)                                                              \n",
            "                                                                 \n",
            " pool_3 (Pool)               (1, 64)                   0         \n",
            "                                                                 \n",
            " dense_67 (Dense)            (1, 1)                    65        \n",
            "                                                                 \n",
            "=================================================================\n",
            "Total params: 131,201\n",
            "Trainable params: 131,201\n",
            "Non-trainable params: 0\n",
            "_________________________________________________________________\n"
          ]
        }
      ]
    },
    {
      "cell_type": "code",
      "source": [
        "history = model.fit(batched_train_dataset,\n",
        "                    steps_per_epoch=10,\n",
        "                    epochs=10,\n",
        "                    validation_data = batched_test_dataset)"
      ],
      "metadata": {
        "id": "3hUhpf_3zckr",
        "colab": {
          "base_uri": "https://localhost:8080/"
        },
        "outputId": "446700c0-5342-44b9-c145-231952add7ea"
      },
      "execution_count": 46,
      "outputs": [
        {
          "output_type": "stream",
          "name": "stdout",
          "text": [
            "Epoch 1/10\n"
          ]
        },
        {
          "output_type": "stream",
          "name": "stderr",
          "text": [
            "/usr/local/lib/python3.7/dist-packages/tensorflow/python/framework/indexed_slices.py:446: UserWarning: Converting sparse IndexedSlices(IndexedSlices(indices=Tensor(\"gradient_tape/model_3/graph_update_31/node_set_update_31/simple_conv_31/Reshape_2:0\", shape=(None,), dtype=int32), values=Tensor(\"gradient_tape/model_3/graph_update_31/node_set_update_31/simple_conv_31/Reshape_1:0\", shape=(None, 64), dtype=float32), dense_shape=Tensor(\"gradient_tape/model_3/graph_update_31/node_set_update_31/simple_conv_31/Cast:0\", shape=(2,), dtype=int32))) to a dense Tensor of unknown shape. This may consume a large amount of memory.\n",
            "  \"shape. This may consume a large amount of memory.\" % value)\n",
            "/usr/local/lib/python3.7/dist-packages/tensorflow/python/framework/indexed_slices.py:446: UserWarning: Converting sparse IndexedSlices(IndexedSlices(indices=Tensor(\"gradient_tape/model_3/graph_update_31/node_set_update_31/simple_conv_31/Reshape_4:0\", shape=(None,), dtype=int32), values=Tensor(\"gradient_tape/model_3/graph_update_31/node_set_update_31/simple_conv_31/Reshape_3:0\", shape=(None, 64), dtype=float32), dense_shape=Tensor(\"gradient_tape/model_3/graph_update_31/node_set_update_31/simple_conv_31/Cast_1:0\", shape=(2,), dtype=int32))) to a dense Tensor of unknown shape. This may consume a large amount of memory.\n",
            "  \"shape. This may consume a large amount of memory.\" % value)\n",
            "/usr/local/lib/python3.7/dist-packages/tensorflow/python/framework/indexed_slices.py:446: UserWarning: Converting sparse IndexedSlices(IndexedSlices(indices=Tensor(\"gradient_tape/model_3/graph_update_30/node_set_update_30/simple_conv_30/Reshape_2:0\", shape=(None,), dtype=int32), values=Tensor(\"gradient_tape/model_3/graph_update_30/node_set_update_30/simple_conv_30/Reshape_1:0\", shape=(None, 64), dtype=float32), dense_shape=Tensor(\"gradient_tape/model_3/graph_update_30/node_set_update_30/simple_conv_30/Cast:0\", shape=(2,), dtype=int32))) to a dense Tensor of unknown shape. This may consume a large amount of memory.\n",
            "  \"shape. This may consume a large amount of memory.\" % value)\n",
            "/usr/local/lib/python3.7/dist-packages/tensorflow/python/framework/indexed_slices.py:446: UserWarning: Converting sparse IndexedSlices(IndexedSlices(indices=Tensor(\"gradient_tape/model_3/graph_update_30/node_set_update_30/simple_conv_30/Reshape_4:0\", shape=(None,), dtype=int32), values=Tensor(\"gradient_tape/model_3/graph_update_30/node_set_update_30/simple_conv_30/Reshape_3:0\", shape=(None, 64), dtype=float32), dense_shape=Tensor(\"gradient_tape/model_3/graph_update_30/node_set_update_30/simple_conv_30/Cast_1:0\", shape=(2,), dtype=int32))) to a dense Tensor of unknown shape. This may consume a large amount of memory.\n",
            "  \"shape. This may consume a large amount of memory.\" % value)\n",
            "/usr/local/lib/python3.7/dist-packages/tensorflow/python/framework/indexed_slices.py:446: UserWarning: Converting sparse IndexedSlices(IndexedSlices(indices=Tensor(\"gradient_tape/model_3/graph_update_29/node_set_update_29/simple_conv_29/Reshape_2:0\", shape=(None,), dtype=int32), values=Tensor(\"gradient_tape/model_3/graph_update_29/node_set_update_29/simple_conv_29/Reshape_1:0\", shape=(None, 64), dtype=float32), dense_shape=Tensor(\"gradient_tape/model_3/graph_update_29/node_set_update_29/simple_conv_29/Cast:0\", shape=(2,), dtype=int32))) to a dense Tensor of unknown shape. This may consume a large amount of memory.\n",
            "  \"shape. This may consume a large amount of memory.\" % value)\n",
            "/usr/local/lib/python3.7/dist-packages/tensorflow/python/framework/indexed_slices.py:446: UserWarning: Converting sparse IndexedSlices(IndexedSlices(indices=Tensor(\"gradient_tape/model_3/graph_update_29/node_set_update_29/simple_conv_29/Reshape_4:0\", shape=(None,), dtype=int32), values=Tensor(\"gradient_tape/model_3/graph_update_29/node_set_update_29/simple_conv_29/Reshape_3:0\", shape=(None, 64), dtype=float32), dense_shape=Tensor(\"gradient_tape/model_3/graph_update_29/node_set_update_29/simple_conv_29/Cast_1:0\", shape=(2,), dtype=int32))) to a dense Tensor of unknown shape. This may consume a large amount of memory.\n",
            "  \"shape. This may consume a large amount of memory.\" % value)\n",
            "/usr/local/lib/python3.7/dist-packages/tensorflow/python/framework/indexed_slices.py:446: UserWarning: Converting sparse IndexedSlices(IndexedSlices(indices=Tensor(\"gradient_tape/model_3/graph_update_28/node_set_update_28/simple_conv_28/Reshape_2:0\", shape=(None,), dtype=int32), values=Tensor(\"gradient_tape/model_3/graph_update_28/node_set_update_28/simple_conv_28/Reshape_1:0\", shape=(None, 64), dtype=float32), dense_shape=Tensor(\"gradient_tape/model_3/graph_update_28/node_set_update_28/simple_conv_28/Cast:0\", shape=(2,), dtype=int32))) to a dense Tensor of unknown shape. This may consume a large amount of memory.\n",
            "  \"shape. This may consume a large amount of memory.\" % value)\n",
            "/usr/local/lib/python3.7/dist-packages/tensorflow/python/framework/indexed_slices.py:446: UserWarning: Converting sparse IndexedSlices(IndexedSlices(indices=Tensor(\"gradient_tape/model_3/graph_update_28/node_set_update_28/simple_conv_28/Reshape_4:0\", shape=(None,), dtype=int32), values=Tensor(\"gradient_tape/model_3/graph_update_28/node_set_update_28/simple_conv_28/Reshape_3:0\", shape=(None, 64), dtype=float32), dense_shape=Tensor(\"gradient_tape/model_3/graph_update_28/node_set_update_28/simple_conv_28/Cast_1:0\", shape=(2,), dtype=int32))) to a dense Tensor of unknown shape. This may consume a large amount of memory.\n",
            "  \"shape. This may consume a large amount of memory.\" % value)\n",
            "/usr/local/lib/python3.7/dist-packages/tensorflow/python/framework/indexed_slices.py:446: UserWarning: Converting sparse IndexedSlices(IndexedSlices(indices=Tensor(\"gradient_tape/model_3/graph_update_27/node_set_update_27/simple_conv_27/Reshape_2:0\", shape=(None,), dtype=int32), values=Tensor(\"gradient_tape/model_3/graph_update_27/node_set_update_27/simple_conv_27/Reshape_1:0\", shape=(None, 64), dtype=float32), dense_shape=Tensor(\"gradient_tape/model_3/graph_update_27/node_set_update_27/simple_conv_27/Cast:0\", shape=(2,), dtype=int32))) to a dense Tensor of unknown shape. This may consume a large amount of memory.\n",
            "  \"shape. This may consume a large amount of memory.\" % value)\n",
            "/usr/local/lib/python3.7/dist-packages/tensorflow/python/framework/indexed_slices.py:446: UserWarning: Converting sparse IndexedSlices(IndexedSlices(indices=Tensor(\"gradient_tape/model_3/graph_update_27/node_set_update_27/simple_conv_27/Reshape_4:0\", shape=(None,), dtype=int32), values=Tensor(\"gradient_tape/model_3/graph_update_27/node_set_update_27/simple_conv_27/Reshape_3:0\", shape=(None, 64), dtype=float32), dense_shape=Tensor(\"gradient_tape/model_3/graph_update_27/node_set_update_27/simple_conv_27/Cast_1:0\", shape=(2,), dtype=int32))) to a dense Tensor of unknown shape. This may consume a large amount of memory.\n",
            "  \"shape. This may consume a large amount of memory.\" % value)\n",
            "/usr/local/lib/python3.7/dist-packages/tensorflow/python/framework/indexed_slices.py:446: UserWarning: Converting sparse IndexedSlices(IndexedSlices(indices=Tensor(\"gradient_tape/model_3/graph_update_26/node_set_update_26/simple_conv_26/Reshape_2:0\", shape=(None,), dtype=int32), values=Tensor(\"gradient_tape/model_3/graph_update_26/node_set_update_26/simple_conv_26/Reshape_1:0\", shape=(None, 64), dtype=float32), dense_shape=Tensor(\"gradient_tape/model_3/graph_update_26/node_set_update_26/simple_conv_26/Cast:0\", shape=(2,), dtype=int32))) to a dense Tensor of unknown shape. This may consume a large amount of memory.\n",
            "  \"shape. This may consume a large amount of memory.\" % value)\n",
            "/usr/local/lib/python3.7/dist-packages/tensorflow/python/framework/indexed_slices.py:446: UserWarning: Converting sparse IndexedSlices(IndexedSlices(indices=Tensor(\"gradient_tape/model_3/graph_update_26/node_set_update_26/simple_conv_26/Reshape_4:0\", shape=(None,), dtype=int32), values=Tensor(\"gradient_tape/model_3/graph_update_26/node_set_update_26/simple_conv_26/Reshape_3:0\", shape=(None, 64), dtype=float32), dense_shape=Tensor(\"gradient_tape/model_3/graph_update_26/node_set_update_26/simple_conv_26/Cast_1:0\", shape=(2,), dtype=int32))) to a dense Tensor of unknown shape. This may consume a large amount of memory.\n",
            "  \"shape. This may consume a large amount of memory.\" % value)\n",
            "/usr/local/lib/python3.7/dist-packages/tensorflow/python/framework/indexed_slices.py:446: UserWarning: Converting sparse IndexedSlices(IndexedSlices(indices=Tensor(\"gradient_tape/model_3/graph_update_25/node_set_update_25/simple_conv_25/Reshape_2:0\", shape=(None,), dtype=int32), values=Tensor(\"gradient_tape/model_3/graph_update_25/node_set_update_25/simple_conv_25/Reshape_1:0\", shape=(None, 64), dtype=float32), dense_shape=Tensor(\"gradient_tape/model_3/graph_update_25/node_set_update_25/simple_conv_25/Cast:0\", shape=(2,), dtype=int32))) to a dense Tensor of unknown shape. This may consume a large amount of memory.\n",
            "  \"shape. This may consume a large amount of memory.\" % value)\n",
            "/usr/local/lib/python3.7/dist-packages/tensorflow/python/framework/indexed_slices.py:446: UserWarning: Converting sparse IndexedSlices(IndexedSlices(indices=Tensor(\"gradient_tape/model_3/graph_update_25/node_set_update_25/simple_conv_25/Reshape_4:0\", shape=(None,), dtype=int32), values=Tensor(\"gradient_tape/model_3/graph_update_25/node_set_update_25/simple_conv_25/Reshape_3:0\", shape=(None, 64), dtype=float32), dense_shape=Tensor(\"gradient_tape/model_3/graph_update_25/node_set_update_25/simple_conv_25/Cast_1:0\", shape=(2,), dtype=int32))) to a dense Tensor of unknown shape. This may consume a large amount of memory.\n",
            "  \"shape. This may consume a large amount of memory.\" % value)\n",
            "/usr/local/lib/python3.7/dist-packages/tensorflow/python/framework/indexed_slices.py:446: UserWarning: Converting sparse IndexedSlices(IndexedSlices(indices=Tensor(\"gradient_tape/model_3/graph_update_24/node_set_update_24/simple_conv_24/Reshape_2:0\", shape=(None,), dtype=int32), values=Tensor(\"gradient_tape/model_3/graph_update_24/node_set_update_24/simple_conv_24/Reshape_1:0\", shape=(None, 16), dtype=float32), dense_shape=Tensor(\"gradient_tape/model_3/graph_update_24/node_set_update_24/simple_conv_24/Cast:0\", shape=(2,), dtype=int32))) to a dense Tensor of unknown shape. This may consume a large amount of memory.\n",
            "  \"shape. This may consume a large amount of memory.\" % value)\n",
            "/usr/local/lib/python3.7/dist-packages/tensorflow/python/framework/indexed_slices.py:446: UserWarning: Converting sparse IndexedSlices(IndexedSlices(indices=Tensor(\"gradient_tape/model_3/graph_update_24/node_set_update_24/simple_conv_24/Reshape_4:0\", shape=(None,), dtype=int32), values=Tensor(\"gradient_tape/model_3/graph_update_24/node_set_update_24/simple_conv_24/Reshape_3:0\", shape=(None, 16), dtype=float32), dense_shape=Tensor(\"gradient_tape/model_3/graph_update_24/node_set_update_24/simple_conv_24/Cast_1:0\", shape=(2,), dtype=int32))) to a dense Tensor of unknown shape. This may consume a large amount of memory.\n",
            "  \"shape. This may consume a large amount of memory.\" % value)\n"
          ]
        },
        {
          "output_type": "stream",
          "name": "stdout",
          "text": [
            "10/10 [==============================] - 33s 3s/step - loss: 1990.2748 - mean_squared_error: 1989.6041 - mean_squared_logarithmic_error: 3.9051 - val_loss: 1643.8931 - val_mean_squared_error: 1643.2223 - val_mean_squared_logarithmic_error: 3.4550\n",
            "Epoch 2/10\n",
            "10/10 [==============================] - 26s 3s/step - loss: 611.2599 - mean_squared_error: 610.5900 - mean_squared_logarithmic_error: 0.3167 - val_loss: 1831.5199 - val_mean_squared_error: 1830.8503 - val_mean_squared_logarithmic_error: 4.9168\n",
            "Epoch 3/10\n",
            "10/10 [==============================] - 28s 3s/step - loss: 1168.0017 - mean_squared_error: 1167.3320 - mean_squared_logarithmic_error: 0.1137 - val_loss: 1604.2965 - val_mean_squared_error: 1603.6272 - val_mean_squared_logarithmic_error: 3.2182\n",
            "Epoch 4/10\n",
            "10/10 [==============================] - 28s 3s/step - loss: 231.5464 - mean_squared_error: 230.8776 - mean_squared_logarithmic_error: 0.0779 - val_loss: 1428.5936 - val_mean_squared_error: 1427.9248 - val_mean_squared_logarithmic_error: 2.3834\n",
            "Epoch 5/10\n",
            "10/10 [==============================] - 28s 3s/step - loss: 286.2713 - mean_squared_error: 285.6028 - mean_squared_logarithmic_error: 0.0519 - val_loss: 1509.3605 - val_mean_squared_error: 1508.6925 - val_mean_squared_logarithmic_error: 2.7316\n",
            "Epoch 6/10\n",
            "10/10 [==============================] - 29s 3s/step - loss: 169.0580 - mean_squared_error: 168.3902 - mean_squared_logarithmic_error: 0.0449 - val_loss: 1285.2603 - val_mean_squared_error: 1284.5927 - val_mean_squared_logarithmic_error: 1.8747\n",
            "Epoch 7/10\n",
            "10/10 [==============================] - 28s 3s/step - loss: 153.2916 - mean_squared_error: 152.6243 - mean_squared_logarithmic_error: 0.0395 - val_loss: 1358.0498 - val_mean_squared_error: 1357.3829 - val_mean_squared_logarithmic_error: 2.1175\n",
            "Epoch 8/10\n",
            "10/10 [==============================] - 26s 3s/step - loss: 265.1950 - mean_squared_error: 264.5283 - mean_squared_logarithmic_error: 0.0475 - val_loss: 1462.0256 - val_mean_squared_error: 1461.3595 - val_mean_squared_logarithmic_error: 2.5209\n",
            "Epoch 9/10\n",
            "10/10 [==============================] - 29s 3s/step - loss: 162.7552 - mean_squared_error: 162.0891 - mean_squared_logarithmic_error: 0.0506 - val_loss: 1153.8215 - val_mean_squared_error: 1153.1553 - val_mean_squared_logarithmic_error: 1.5008\n",
            "Epoch 10/10\n",
            "10/10 [==============================] - 26s 3s/step - loss: 116.3463 - mean_squared_error: 115.6806 - mean_squared_logarithmic_error: 0.0369 - val_loss: 1281.0656 - val_mean_squared_error: 1280.3999 - val_mean_squared_logarithmic_error: 1.8613\n"
          ]
        }
      ]
    },
    {
      "cell_type": "code",
      "source": [
        "import keras\n",
        "from matplotlib import pyplot as plt\n",
        "plt.plot(history.history['loss'])\n",
        "plt.plot(history.history['val_loss'])\n",
        "plt.title('model loss')\n",
        "plt.ylabel('loss')\n",
        "plt.xlabel('epoch')\n",
        "plt.legend(['train', 'val'], loc='upper left')\n",
        "plt.show()"
      ],
      "metadata": {
        "colab": {
          "base_uri": "https://localhost:8080/",
          "height": 295
        },
        "id": "Zm72-fhBzcrf",
        "outputId": "9665d683-b0f1-4dc9-e3eb-9533774c3f21"
      },
      "execution_count": 47,
      "outputs": [
        {
          "output_type": "display_data",
          "data": {
            "text/plain": [
              "<Figure size 432x288 with 1 Axes>"
            ],
            "image/png": "[encoded data removed]"
          },
          "metadata": {
            "needs_background": "light"
          }
        }
      ]
    },
    {
      "cell_type": "code",
      "source": [
        "for k, hist in history.history.items():\n",
        "  plt.plot(hist)\n",
        "  plt.title(k)\n",
        "  plt.show()"
      ],
      "metadata": {
        "colab": {
          "base_uri": "https://localhost:8080/",
          "height": 1000
        },
        "id": "aYTaamijYjsH",
        "outputId": "52303ddf-9540-4bf0-b8ff-457fdb37e969"
      },
      "execution_count": 48,
      "outputs": [
        {
          "output_type": "display_data",
          "data": {
            "text/plain": [
              "<Figure size 432x288 with 1 Axes>"
            ],
            "image/png": "[encoded data removed]"
          },
          "metadata": {
            "needs_background": "light"
          }
        },
        {
          "output_type": "display_data",
          "data": {
            "text/plain": [
              "<Figure size 432x288 with 1 Axes>"
            ],
            "image/png": "[encoded data removed]"
          },
          "metadata": {
            "needs_background": "light"
          }
        },
        {
          "output_type": "display_data",
          "data": {
            "text/plain": [
              "<Figure size 432x288 with 1 Axes>"
            ],
            "image/png": "[encoded data removed]"
          },
          "metadata": {
            "needs_background": "light"
          }
        },
        {
          "output_type": "display_data",
          "data": {
            "text/plain": [
              "<Figure size 432x288 with 1 Axes>"
            ],
            "image/png": "[encoded data removed]"
          },
          "metadata": {
            "needs_background": "light"
          }
        },
        {
          "output_type": "display_data",
          "data": {
            "text/plain": [
              "<Figure size 432x288 with 1 Axes>"
            ],
            "image/png": "[encoded data removed]"
          },
          "metadata": {
            "needs_background": "light"
          }
        },
        {
          "output_type": "display_data",
          "data": {
            "text/plain": [
              "<Figure size 432x288 with 1 Axes>"
            ],
            "image/png": "[encoded data removed]"
          },
          "metadata": {
            "needs_background": "light"
          }
        }
      ]
    },
    {
      "cell_type": "code",
      "source": [],
      "metadata": {
        "id": "jYczp9JH2FHK"
      },
      "execution_count": null,
      "outputs": []
    },
    {
      "cell_type": "code",
      "source": [],
      "metadata": {
        "id": "D9yr7_4G2FpX"
      },
      "execution_count": null,
      "outputs": []
    },
    {
      "cell_type": "code",
      "source": [],
      "metadata": {
        "id": "w8uQTFEb2F3p"
      },
      "execution_count": null,
      "outputs": []
    },
    {
      "cell_type": "code",
      "source": [],
      "metadata": {
        "id": "RGVVa18I2GHD"
      },
      "execution_count": null,
      "outputs": []
    },
    {
      "cell_type": "code",
      "source": [],
      "metadata": {
        "id": "anuoeDjd2GQ-"
      },
      "execution_count": null,
      "outputs": []
    },
    {
      "cell_type": "code",
      "source": [],
      "metadata": {
        "id": "wXFR3qJtqffg"
      },
      "execution_count": null,
      "outputs": []
    }
  ]
}