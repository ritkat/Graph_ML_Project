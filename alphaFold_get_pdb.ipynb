{
  "cells": [
    {
      "cell_type": "code",
      "execution_count": 1,
      "metadata": {
        "id": "ea3bZCOorlaX"
      },
      "outputs": [],
      "source": [
        "#@title Install dependencies\n",
        "%%bash -s $use_amber $use_templates\n",
        "\n",
        "set -e\n",
        "\n",
        "USE_AMBER=$1\n",
        "USE_TEMPLATES=$2\n",
        "\n",
        "if [ ! -f COLABFOLD_READY ]; then\n",
        "  # install dependencies\n",
        "  # We have to use \"--no-warn-conflicts\" because colab already has a lot preinstalled with requirements different to ours\n",
        "  pip install -q --no-warn-conflicts \"colabfold[alphafold-minus-jax] @ git+https://github.com/sokrypton/ColabFold\"\n",
        "  # high risk high gain\n",
        "  pip install -q \"jax[cuda11_cudnn805]>=0.3.8,<0.4\" -f https://storage.googleapis.com/jax-releases/jax_releases.html\n",
        "  touch COLABFOLD_READY\n",
        "fi\n",
        "\n",
        "# setup conda\n",
        "if [ ${USE_AMBER} == \"True\" ] || [ ${USE_TEMPLATES} == \"True\" ]; then\n",
        "  if [ ! -f CONDA_READY ]; then\n",
        "    wget -qnc https://repo.anaconda.com/miniconda/Miniconda3-latest-Linux-x86_64.sh\n",
        "    bash Miniconda3-latest-Linux-x86_64.sh -bfp /usr/local 2>&1 1>/dev/null\n",
        "    rm Miniconda3-latest-Linux-x86_64.sh\n",
        "    touch CONDA_READY\n",
        "  fi\n",
        "fi\n",
        "# setup template search\n",
        "if [ ${USE_TEMPLATES} == \"True\" ] && [ ! -f HH_READY ]; then\n",
        "  conda install -y -q -c conda-forge -c bioconda kalign2=2.04 hhsuite=3.3.0 python=3.7 2>&1 1>/dev/null\n",
        "  touch HH_READY\n",
        "fi\n",
        "# setup openmm for amber refinement\n",
        "if [ ${USE_AMBER} == \"True\" ] && [ ! -f AMBER_READY ]; then\n",
        "  conda install -y -q -c conda-forge openmm=7.5.1 python=3.7 pdbfixer 2>&1 1>/dev/null\n",
        "  touch AMBER_READY\n",
        "fi"
      ]
    },
    {
      "cell_type": "code",
      "execution_count": null,
      "metadata": {
        "id": "Lq76nkpqX88R"
      },
      "outputs": [],
      "source": []
    },
    {
      "cell_type": "code",
      "execution_count": 4,
      "metadata": {
        "id": "H_QTu60sRrC_",
        "colab": {
          "base_uri": "https://localhost:8080/"
        },
        "outputId": "5814f87b-4320-4caa-c9c5-c6d9ff25c38a"
      },
      "outputs": [
        {
          "output_type": "stream",
          "name": "stdout",
          "text": [
            "Drive already mounted at /content/drive; to attempt to forcibly remount, call drive.mount(\"/content/drive\", force_remount=True).\n"
          ]
        }
      ],
      "source": [
        "import os\n",
        "from google.colab import drive\n",
        "drive.mount('/content/drive')\n",
        "\n",
        "import shutil\n",
        "if \"alphafold_results\" not in os.listdir(\"/content/drive/MyDrive\"):\n",
        "    os.mkdir(\"/content/drive/MyDrive/alphafold_results\")"
      ]
    },
    {
      "cell_type": "code",
      "execution_count": 1,
      "metadata": {
        "colab": {
          "base_uri": "https://localhost:8080/",
          "height": 424
        },
        "id": "9RM82n3MXpIp",
        "outputId": "1419c883-3100-4ee1-a9f5-7140b6d23028"
      },
      "outputs": [
        {
          "output_type": "execute_result",
          "data": {
            "text/plain": [
              "       seq_id                                   protein_sequence   pH  \\\n",
              "28315   28315  MVAYWRQAGLSYIRFSQICAKAVRDALKTEFKANAEKTSGSSIKIV...  7.0   \n",
              "340       340  ALYVMRLALFNPDVSWDRKNNPEPWNKLGPNEQYKFYSVNVDYSKL...  7.0   \n",
              "19475   19475  MNQREQMEQQCQWRITVWEEENFQGKRCEFRLECPNILDRDFQKIR...  7.0   \n",
              "1158     1158  ECSLVMDAKTGESKGFGFVVMPGPGNGKAAMKSLNATEIAGQIIRV...  7.0   \n",
              "31251   31251  YCLFKKMHSSQDFRQTMSKKFPFILEVYYKSIEQSGMYGVREKDEE...  7.0   \n",
              "...       ...                                                ...  ...   \n",
              "9049     9049  MEHICGTSRIAGFRFSLYPMTDDFISVIKSALKKTDTSKVWTKTDH...  7.0   \n",
              "9824     9824  MERTELLKPRTLADLIRILHELFAGDEVNVEEVQAVLEAYESNPAE...  7.0   \n",
              "19175   19175  MNKPISEACLRNQGPIAAALKERLPNAARLLEIGSGTGQHAVFCAR...  7.0   \n",
              "29660   29660  NLPTYLTIGAVAPTFAHLAAAKLVPIRGGPKEKEVVERNEQFTADS...  7.0   \n",
              "30354   30354  RTWNDVTFLPVNISDEEKRIFEETLKTEVYKISIGNSFLIGSMLSM...  7.0   \n",
              "\n",
              "                             data_source    tm  klen  \n",
              "28315  doi.org/10.1038/s41592-020-0801-4  56.8    51  \n",
              "340    doi.org/10.1038/s41592-020-0801-4  47.9    52  \n",
              "19475  doi.org/10.1038/s41592-020-0801-4  52.0    52  \n",
              "1158   doi.org/10.1038/s41592-020-0801-4  43.1    52  \n",
              "31251  doi.org/10.1038/s41592-020-0801-4  52.4    52  \n",
              "...                                  ...   ...   ...  \n",
              "9049   doi.org/10.1038/s41592-020-0801-4  49.5   199  \n",
              "9824   doi.org/10.1038/s41592-020-0801-4  57.2   199  \n",
              "19175  doi.org/10.1038/s41592-020-0801-4  48.4   199  \n",
              "29660  doi.org/10.1038/s41592-020-0801-4  35.7   199  \n",
              "30354  doi.org/10.1038/s41592-020-0801-4  71.8   199  \n",
              "\n",
              "[7887 rows x 6 columns]"
            ],
            "text/html": [
              "\n",
              "  <div id=\"df-ab1bbc3b-4f4a-4cf4-b68a-292fcdbb7d54\">\n",
              "    <div class=\"colab-df-container\">\n",
              "      <div>\n",
              "<style scoped>\n",
              "    .dataframe tbody tr th:only-of-type {\n",
              "        vertical-align: middle;\n",
              "    }\n",
              "\n",
              "    .dataframe tbody tr th {\n",
              "        vertical-align: top;\n",
              "    }\n",
              "\n",
              "    .dataframe thead th {\n",
              "        text-align: right;\n",
              "    }\n",
              "</style>\n",
              "<table border=\"1\" class=\"dataframe\">\n",
              "  <thead>\n",
              "    <tr style=\"text-align: right;\">\n",
              "      <th></th>\n",
              "      <th>seq_id</th>\n",
              "      <th>protein_sequence</th>\n",
              "      <th>pH</th>\n",
              "      <th>data_source</th>\n",
              "      <th>tm</th>\n",
              "      <th>klen</th>\n",
              "    </tr>\n",
              "  </thead>\n",
              "  <tbody>\n",
              "    <tr>\n",
              "      <th>28315</th>\n",
              "      <td>28315</td>\n",
              "      <td>MVAYWRQAGLSYIRFSQICAKAVRDALKTEFKANAEKTSGSSIKIV...</td>\n",
              "      <td>7.0</td>\n",
              "      <td>doi.org/10.1038/s41592-020-0801-4</td>\n",
              "      <td>56.8</td>\n",
              "      <td>51</td>\n",
              "    </tr>\n",
              "    <tr>\n",
              "      <th>340</th>\n",
              "      <td>340</td>\n",
              "      <td>ALYVMRLALFNPDVSWDRKNNPEPWNKLGPNEQYKFYSVNVDYSKL...</td>\n",
              "      <td>7.0</td>\n",
              "      <td>doi.org/10.1038/s41592-020-0801-4</td>\n",
              "      <td>47.9</td>\n",
              "      <td>52</td>\n",
              "    </tr>\n",
              "    <tr>\n",
              "      <th>19475</th>\n",
              "      <td>19475</td>\n",
              "      <td>MNQREQMEQQCQWRITVWEEENFQGKRCEFRLECPNILDRDFQKIR...</td>\n",
              "      <td>7.0</td>\n",
              "      <td>doi.org/10.1038/s41592-020-0801-4</td>\n",
              "      <td>52.0</td>\n",
              "      <td>52</td>\n",
              "    </tr>\n",
              "    <tr>\n",
              "      <th>1158</th>\n",
              "      <td>1158</td>\n",
              "      <td>ECSLVMDAKTGESKGFGFVVMPGPGNGKAAMKSLNATEIAGQIIRV...</td>\n",
              "      <td>7.0</td>\n",
              "      <td>doi.org/10.1038/s41592-020-0801-4</td>\n",
              "      <td>43.1</td>\n",
              "      <td>52</td>\n",
              "    </tr>\n",
              "    <tr>\n",
              "      <th>31251</th>\n",
              "      <td>31251</td>\n",
              "      <td>YCLFKKMHSSQDFRQTMSKKFPFILEVYYKSIEQSGMYGVREKDEE...</td>\n",
              "      <td>7.0</td>\n",
              "      <td>doi.org/10.1038/s41592-020-0801-4</td>\n",
              "      <td>52.4</td>\n",
              "      <td>52</td>\n",
              "    </tr>\n",
              "    <tr>\n",
              "      <th>...</th>\n",
              "      <td>...</td>\n",
              "      <td>...</td>\n",
              "      <td>...</td>\n",
              "      <td>...</td>\n",
              "      <td>...</td>\n",
              "      <td>...</td>\n",
              "    </tr>\n",
              "    <tr>\n",
              "      <th>9049</th>\n",
              "      <td>9049</td>\n",
              "      <td>MEHICGTSRIAGFRFSLYPMTDDFISVIKSALKKTDTSKVWTKTDH...</td>\n",
              "      <td>7.0</td>\n",
              "      <td>doi.org/10.1038/s41592-020-0801-4</td>\n",
              "      <td>49.5</td>\n",
              "      <td>199</td>\n",
              "    </tr>\n",
              "    <tr>\n",
              "      <th>9824</th>\n",
              "      <td>9824</td>\n",
              "      <td>MERTELLKPRTLADLIRILHELFAGDEVNVEEVQAVLEAYESNPAE...</td>\n",
              "      <td>7.0</td>\n",
              "      <td>doi.org/10.1038/s41592-020-0801-4</td>\n",
              "      <td>57.2</td>\n",
              "      <td>199</td>\n",
              "    </tr>\n",
              "    <tr>\n",
              "      <th>19175</th>\n",
              "      <td>19175</td>\n",
              "      <td>MNKPISEACLRNQGPIAAALKERLPNAARLLEIGSGTGQHAVFCAR...</td>\n",
              "      <td>7.0</td>\n",
              "      <td>doi.org/10.1038/s41592-020-0801-4</td>\n",
              "      <td>48.4</td>\n",
              "      <td>199</td>\n",
              "    </tr>\n",
              "    <tr>\n",
              "      <th>29660</th>\n",
              "      <td>29660</td>\n",
              "      <td>NLPTYLTIGAVAPTFAHLAAAKLVPIRGGPKEKEVVERNEQFTADS...</td>\n",
              "      <td>7.0</td>\n",
              "      <td>doi.org/10.1038/s41592-020-0801-4</td>\n",
              "      <td>35.7</td>\n",
              "      <td>199</td>\n",
              "    </tr>\n",
              "    <tr>\n",
              "      <th>30354</th>\n",
              "      <td>30354</td>\n",
              "      <td>RTWNDVTFLPVNISDEEKRIFEETLKTEVYKISIGNSFLIGSMLSM...</td>\n",
              "      <td>7.0</td>\n",
              "      <td>doi.org/10.1038/s41592-020-0801-4</td>\n",
              "      <td>71.8</td>\n",
              "      <td>199</td>\n",
              "    </tr>\n",
              "  </tbody>\n",
              "</table>\n",
              "<p>7887 rows × 6 columns</p>\n",
              "</div>\n",
              "      <button class=\"colab-df-convert\" onclick=\"convertToInteractive('df-ab1bbc3b-4f4a-4cf4-b68a-292fcdbb7d54')\"\n",
              "              title=\"Convert this dataframe to an interactive table.\"\n",
              "              style=\"display:none;\">\n",
              "        \n",
              "  <svg xmlns=\"http://www.w3.org/2000/svg\" height=\"24px\"viewBox=\"0 0 24 24\"\n",
              "       width=\"24px\">\n",
              "    <path d=\"M0 0h24v24H0V0z\" fill=\"none\"/>\n",
              "    <path d=\"M18.56 5.44l.94 2.06.94-2.06 2.06-.94-2.06-.94-.94-2.06-.94 2.06-2.06.94zm-11 1L8.5 8.5l.94-2.06 2.06-.94-2.06-.94L8.5 2.5l-.94 2.06-2.06.94zm10 10l.94 2.06.94-2.06 2.06-.94-2.06-.94-.94-2.06-.94 2.06-2.06.94z\"/><path d=\"M17.41 7.96l-1.37-1.37c-.4-.4-.92-.59-1.43-.59-.52 0-1.04.2-1.43.59L10.3 9.45l-7.72 7.72c-.78.78-.78 2.05 0 2.83L4 21.41c.39.39.9.59 1.41.59.51 0 1.02-.2 1.41-.59l7.78-7.78 2.81-2.81c.8-.78.8-2.07 0-2.86zM5.41 20L4 18.59l7.72-7.72 1.47 1.35L5.41 20z\"/>\n",
              "  </svg>\n",
              "      </button>\n",
              "      \n",
              "  <style>\n",
              "    .colab-df-container {\n",
              "      display:flex;\n",
              "      flex-wrap:wrap;\n",
              "      gap: 12px;\n",
              "    }\n",
              "\n",
              "    .colab-df-convert {\n",
              "      background-color: #E8F0FE;\n",
              "      border: none;\n",
              "      border-radius: 50%;\n",
              "      cursor: pointer;\n",
              "      display: none;\n",
              "      fill: #1967D2;\n",
              "      height: 32px;\n",
              "      padding: 0 0 0 0;\n",
              "      width: 32px;\n",
              "    }\n",
              "\n",
              "    .colab-df-convert:hover {\n",
              "      background-color: #E2EBFA;\n",
              "      box-shadow: 0px 1px 2px rgba(60, 64, 67, 0.3), 0px 1px 3px 1px rgba(60, 64, 67, 0.15);\n",
              "      fill: #174EA6;\n",
              "    }\n",
              "\n",
              "    [theme=dark] .colab-df-convert {\n",
              "      background-color: #3B4455;\n",
              "      fill: #D2E3FC;\n",
              "    }\n",
              "\n",
              "    [theme=dark] .colab-df-convert:hover {\n",
              "      background-color: #434B5C;\n",
              "      box-shadow: 0px 1px 3px 1px rgba(0, 0, 0, 0.15);\n",
              "      filter: drop-shadow(0px 1px 2px rgba(0, 0, 0, 0.3));\n",
              "      fill: #FFFFFF;\n",
              "    }\n",
              "  </style>\n",
              "\n",
              "      <script>\n",
              "        const buttonEl =\n",
              "          document.querySelector('#df-ab1bbc3b-4f4a-4cf4-b68a-292fcdbb7d54 button.colab-df-convert');\n",
              "        buttonEl.style.display =\n",
              "          google.colab.kernel.accessAllowed ? 'block' : 'none';\n",
              "\n",
              "        async function convertToInteractive(key) {\n",
              "          const element = document.querySelector('#df-ab1bbc3b-4f4a-4cf4-b68a-292fcdbb7d54');\n",
              "          const dataTable =\n",
              "            await google.colab.kernel.invokeFunction('convertToInteractive',\n",
              "                                                     [key], {});\n",
              "          if (!dataTable) return;\n",
              "\n",
              "          const docLinkHtml = 'Like what you see? Visit the ' +\n",
              "            '<a target=\"_blank\" href=https://colab.research.google.com/notebooks/data_table.ipynb>data table notebook</a>'\n",
              "            + ' to learn more about interactive tables.';\n",
              "          element.innerHTML = '';\n",
              "          dataTable['output_type'] = 'display_data';\n",
              "          await google.colab.output.renderOutput(dataTable, element);\n",
              "          const docLink = document.createElement('div');\n",
              "          docLink.innerHTML = docLinkHtml;\n",
              "          element.appendChild(docLink);\n",
              "        }\n",
              "      </script>\n",
              "    </div>\n",
              "  </div>\n",
              "  "
            ]
          },
          "metadata": {},
          "execution_count": 1
        }
      ],
      "source": [
        "import pandas as pd\n",
        "data = pd.read_csv(\"/content/drive/MyDrive/alphafold_results/train.csv\")\n",
        "data[\"klen\"] = data[\"protein_sequence\"].apply(lambda x: len(x))\n",
        "dataf = data[(data[\"klen\"]>50) & (data[\"klen\"]<200)].sort_values(by = \"klen\")\n",
        "dataf"
      ]
    },
    {
      "cell_type": "code",
      "execution_count": 2,
      "metadata": {
        "id": "vZH60OtarKBV"
      },
      "outputs": [],
      "source": [
        "list_sequences = list(data[\"protein_sequence\"])[15:100]\n",
        "# list_sequences"
      ]
    },
    {
      "cell_type": "code",
      "execution_count": null,
      "metadata": {
        "colab": {
          "base_uri": "https://localhost:8080/"
        },
        "id": "4vPOgh4UqC6v",
        "outputId": "5168c041-f8fc-4d57-b715-8df681b926d0"
      },
      "outputs": [
        {
          "metadata": {
            "tags": null
          },
          "name": "stderr",
          "output_type": "stream",
          "text": [
            "\r  0%|          | 0/85 [00:00<?, ?it/s]"
          ]
        },
        {
          "metadata": {
            "tags": null
          },
          "name": "stdout",
          "output_type": "stream",
          "text": [
            "######################################## 0\n"
          ]
        },
        {
          "metadata": {
            "tags": null
          },
          "name": "stderr",
          "output_type": "stream",
          "text": [
            "  0%|          | 0/85 [00:00<?, ?it/s]"
          ]
        },
        {
          "metadata": {
            "tags": null
          },
          "name": "stdout",
          "output_type": "stream",
          "text": [
            "2022-11-10 16:06:35,862 Found 5 citations for tools or databases\n"
          ]
        },
        {
          "metadata": {
            "tags": null
          },
          "name": "stderr",
          "output_type": "stream",
          "text": [
            "  0%|          | 0/85 [00:05<?, ?it/s]"
          ]
        },
        {
          "metadata": {
            "tags": null
          },
          "name": "stdout",
          "output_type": "stream",
          "text": [
            "2022-11-10 16:06:40,796 Query 1/1: test_73f8c (length 228)\n"
          ]
        },
        {
          "metadata": {
            "tags": null
          },
          "name": "stderr",
          "output_type": "stream",
          "text": [
            "\n",
            "  0%|          | 0/150 [elapsed: 00:00 remaining: ?]\u001b[A\n",
            "SUBMIT:   0%|          | 0/150 [elapsed: 00:00 remaining: ?]\u001b[A\n",
            "COMPLETE:   0%|          | 0/150 [elapsed: 00:00 remaining: ?]\u001b[A\n",
            "COMPLETE: 100%|██████████| 150/150 [elapsed: 00:02 remaining: 00:00]\n",
            "  0%|          | 0/85 [00:07<?, ?it/s]"
          ]
        },
        {
          "metadata": {
            "tags": null
          },
          "name": "stdout",
          "output_type": "stream",
          "text": [
            "2022-11-10 16:06:43,619 Running model_1\n"
          ]
        },
        {
          "metadata": {
            "tags": null
          },
          "name": "stderr",
          "output_type": "stream",
          "text": [
            "  0%|          | 0/85 [01:51<?, ?it/s]"
          ]
        },
        {
          "metadata": {
            "tags": null
          },
          "name": "stdout",
          "output_type": "stream",
          "text": [
            "2022-11-10 16:08:27,193 model_1 took 99.9s (3 recycles) with pLDDT 88.5 and ptmscore 0.831\n"
          ]
        },
        {
          "metadata": {
            "tags": null
          },
          "name": "stderr",
          "output_type": "stream",
          "text": [
            "  0%|          | 0/85 [01:56<?, ?it/s]"
          ]
        },
        {
          "metadata": {
            "tags": null
          },
          "name": "stdout",
          "output_type": "stream",
          "text": [
            "2022-11-10 16:08:32,475 reranking models by plddt\n"
          ]
        },
        {
          "metadata": {
            "tags": null
          },
          "name": "stderr",
          "output_type": "stream",
          "text": [
            "  0%|          | 0/85 [01:58<?, ?it/s]"
          ]
        },
        {
          "metadata": {
            "tags": null
          },
          "name": "stdout",
          "output_type": "stream",
          "text": [
            "2022-11-10 16:08:33,913 Done\n",
            "  adding: config.json (deflated 48%)\n",
            "  adding: test_73f8c_predicted_aligned_error_v1.json (deflated 90%)\n",
            "  adding: test_73f8c_unrelaxed_rank_1_model_1_scores.json (deflated 71%)\n",
            "  adding: test_73f8c.a3m (deflated 63%)\n",
            "  adding: test_73f8c_unrelaxed_rank_1_model_1.pdb (deflated 78%)\n",
            "  adding: cite.bibtex (deflated 52%)\n",
            "  adding: test_73f8c_coverage.png (deflated 5%)\n",
            "  adding: test_73f8c_PAE.png (deflated 2%)\n",
            "  adding: test_73f8c_plddt.png (deflated 10%)\n"
          ]
        },
        {
          "metadata": {
            "tags": null
          },
          "name": "stderr",
          "output_type": "stream",
          "text": [
            "\r  1%|          | 1/85 [01:58<2:45:59, 118.56s/it]"
          ]
        },
        {
          "metadata": {
            "tags": null
          },
          "name": "stdout",
          "output_type": "stream",
          "text": [
            "######################################## 1\n"
          ]
        },
        {
          "metadata": {
            "tags": null
          },
          "name": "stderr",
          "output_type": "stream",
          "text": [
            "  1%|          | 1/85 [01:58<2:45:59, 118.56s/it]"
          ]
        },
        {
          "metadata": {
            "tags": null
          },
          "name": "stdout",
          "output_type": "stream",
          "text": [
            "2022-11-10 16:08:34,425 Found 5 citations for tools or databases\n"
          ]
        },
        {
          "metadata": {
            "tags": null
          },
          "name": "stderr",
          "output_type": "stream",
          "text": [
            "  1%|          | 1/85 [02:03<2:45:59, 118.56s/it]"
          ]
        },
        {
          "metadata": {
            "tags": null
          },
          "name": "stdout",
          "output_type": "stream",
          "text": [
            "2022-11-10 16:08:39,561 Query 1/1: test_4eed2 (length 114)\n"
          ]
        },
        {
          "metadata": {
            "tags": null
          },
          "name": "stderr",
          "output_type": "stream",
          "text": [
            "\n",
            "  0%|          | 0/150 [elapsed: 00:00 remaining: ?]\u001b[A\n",
            "SUBMIT:   0%|          | 0/150 [elapsed: 00:00 remaining: ?]\u001b[A\n",
            "COMPLETE:   0%|          | 0/150 [elapsed: 00:00 remaining: ?]\u001b[A\n",
            "COMPLETE: 100%|██████████| 150/150 [elapsed: 00:01 remaining: 00:00]\n",
            "  1%|          | 1/85 [02:05<2:45:59, 118.56s/it]"
          ]
        },
        {
          "metadata": {
            "tags": null
          },
          "name": "stdout",
          "output_type": "stream",
          "text": [
            "2022-11-10 16:08:40,761 Running model_1\n"
          ]
        },
        {
          "metadata": {
            "tags": null
          },
          "name": "stderr",
          "output_type": "stream",
          "text": [
            "  1%|          | 1/85 [03:06<2:45:59, 118.56s/it]"
          ]
        },
        {
          "metadata": {
            "tags": null
          },
          "name": "stdout",
          "output_type": "stream",
          "text": [
            "2022-11-10 16:09:42,119 model_1 took 60.0s (3 recycles) with pLDDT 83.3 and ptmscore 0.652\n"
          ]
        },
        {
          "metadata": {
            "tags": null
          },
          "name": "stderr",
          "output_type": "stream",
          "text": [
            "  1%|          | 1/85 [03:12<2:45:59, 118.56s/it]"
          ]
        },
        {
          "metadata": {
            "tags": null
          },
          "name": "stdout",
          "output_type": "stream",
          "text": [
            "2022-11-10 16:09:47,841 reranking models by plddt\n"
          ]
        },
        {
          "metadata": {
            "tags": null
          },
          "name": "stderr",
          "output_type": "stream",
          "text": [
            "  1%|          | 1/85 [03:13<2:45:59, 118.56s/it]"
          ]
        },
        {
          "metadata": {
            "tags": null
          },
          "name": "stdout",
          "output_type": "stream",
          "text": [
            "2022-11-10 16:09:48,696 Done\n",
            "  adding: config.json (deflated 48%)\n",
            "  adding: test_4eed2_predicted_aligned_error_v1.json (deflated 87%)\n",
            "  adding: test_4eed2_unrelaxed_rank_1_model_1_scores.json (deflated 69%)\n",
            "  adding: test_4eed2.a3m (deflated 64%)\n",
            "  adding: test_4eed2_unrelaxed_rank_1_model_1.pdb (deflated 77%)\n",
            "  adding: cite.bibtex (deflated 52%)\n",
            "  adding: test_4eed2_coverage.png (deflated 10%)\n",
            "  adding: test_4eed2_PAE.png (deflated 4%)\n",
            "  adding: test_4eed2_plddt.png (deflated 11%)\n"
          ]
        },
        {
          "metadata": {
            "tags": null
          },
          "name": "stderr",
          "output_type": "stream",
          "text": [
            "\r  2%|▏         | 2/85 [03:13<2:08:17, 92.74s/it] "
          ]
        },
        {
          "metadata": {
            "tags": null
          },
          "name": "stdout",
          "output_type": "stream",
          "text": [
            "######################################## 2\n"
          ]
        },
        {
          "metadata": {
            "tags": null
          },
          "name": "stderr",
          "output_type": "stream",
          "text": [
            "  2%|▏         | 2/85 [03:13<2:08:17, 92.74s/it]"
          ]
        },
        {
          "metadata": {
            "tags": null
          },
          "name": "stdout",
          "output_type": "stream",
          "text": [
            "2022-11-10 16:09:49,097 Found 5 citations for tools or databases\n"
          ]
        },
        {
          "metadata": {
            "tags": null
          },
          "name": "stderr",
          "output_type": "stream",
          "text": [
            "  2%|▏         | 2/85 [03:18<2:08:17, 92.74s/it]"
          ]
        },
        {
          "metadata": {
            "tags": null
          },
          "name": "stdout",
          "output_type": "stream",
          "text": [
            "2022-11-10 16:09:53,995 Query 1/1: test_814f1 (length 380)\n"
          ]
        },
        {
          "metadata": {
            "tags": null
          },
          "name": "stderr",
          "output_type": "stream",
          "text": [
            "\n",
            "  0%|          | 0/150 [elapsed: 00:00 remaining: ?]\u001b[A\n",
            "SUBMIT:   0%|          | 0/150 [elapsed: 00:00 remaining: ?]\u001b[A\n",
            "COMPLETE:   0%|          | 0/150 [elapsed: 00:00 remaining: ?]\u001b[A\n",
            "COMPLETE: 100%|██████████| 150/150 [elapsed: 00:02 remaining: 00:00]\n",
            "  2%|▏         | 2/85 [03:22<2:08:17, 92.74s/it]"
          ]
        },
        {
          "metadata": {
            "tags": null
          },
          "name": "stdout",
          "output_type": "stream",
          "text": [
            "2022-11-10 16:09:57,721 Running model_1\n"
          ]
        },
        {
          "metadata": {
            "tags": null
          },
          "name": "stderr",
          "output_type": "stream",
          "text": [
            "  2%|▏         | 2/85 [07:41<2:08:17, 92.74s/it]"
          ]
        },
        {
          "metadata": {
            "tags": null
          },
          "name": "stdout",
          "output_type": "stream",
          "text": [
            "2022-11-10 16:14:17,093 model_1 took 251.4s (3 recycles) with pLDDT 90 and ptmscore 0.86\n"
          ]
        },
        {
          "metadata": {
            "tags": null
          },
          "name": "stderr",
          "output_type": "stream",
          "text": [
            "  2%|▏         | 2/85 [08:18<2:08:17, 92.74s/it]"
          ]
        },
        {
          "metadata": {
            "tags": null
          },
          "name": "stdout",
          "output_type": "stream",
          "text": [
            "2022-11-10 16:14:53,708 reranking models by plddt\n"
          ]
        },
        {
          "metadata": {
            "tags": null
          },
          "name": "stderr",
          "output_type": "stream",
          "text": [
            "  2%|▏         | 2/85 [08:20<2:08:17, 92.74s/it]"
          ]
        },
        {
          "metadata": {
            "tags": null
          },
          "name": "stdout",
          "output_type": "stream",
          "text": [
            "2022-11-10 16:14:56,330 Done\n",
            "  adding: config.json (deflated 48%)\n",
            "  adding: test_814f1_predicted_aligned_error_v1.json (deflated 91%)\n",
            "  adding: test_814f1_unrelaxed_rank_1_model_1_scores.json (deflated 71%)\n",
            "  adding: test_814f1.a3m (deflated 57%)\n",
            "  adding: test_814f1_unrelaxed_rank_1_model_1.pdb (deflated 78%)\n",
            "  adding: cite.bibtex (deflated 52%)\n",
            "  adding: test_814f1_coverage.png (deflated 5%)\n",
            "  adding: test_814f1_PAE.png (deflated 1%)\n",
            "  adding: test_814f1_plddt.png (deflated 10%)\n"
          ]
        },
        {
          "metadata": {
            "tags": null
          },
          "name": "stderr",
          "output_type": "stream",
          "text": [
            "\r  4%|▎         | 3/85 [08:21<4:21:06, 191.06s/it]"
          ]
        },
        {
          "metadata": {
            "tags": null
          },
          "name": "stdout",
          "output_type": "stream",
          "text": [
            "######################################## 3\n"
          ]
        },
        {
          "metadata": {
            "tags": null
          },
          "name": "stderr",
          "output_type": "stream",
          "text": [
            "  4%|▎         | 3/85 [08:21<4:21:06, 191.06s/it]"
          ]
        },
        {
          "metadata": {
            "tags": null
          },
          "name": "stdout",
          "output_type": "stream",
          "text": [
            "2022-11-10 16:14:57,157 Found 5 citations for tools or databases\n"
          ]
        },
        {
          "metadata": {
            "tags": null
          },
          "name": "stderr",
          "output_type": "stream",
          "text": [
            "  4%|▎         | 3/85 [08:26<4:21:06, 191.06s/it]"
          ]
        },
        {
          "metadata": {
            "tags": null
          },
          "name": "stdout",
          "output_type": "stream",
          "text": [
            "2022-11-10 16:15:02,040 Query 1/1: test_c696b (length 904)\n"
          ]
        },
        {
          "metadata": {
            "tags": null
          },
          "name": "stderr",
          "output_type": "stream",
          "text": [
            "\n",
            "  0%|          | 0/150 [elapsed: 00:00 remaining: ?]\u001b[A\n",
            "SUBMIT:   0%|          | 0/150 [elapsed: 00:00 remaining: ?]\u001b[A\n",
            "COMPLETE:   0%|          | 0/150 [elapsed: 00:00 remaining: ?]\u001b[A\n",
            "COMPLETE: 100%|██████████| 150/150 [elapsed: 00:02 remaining: 00:00]\n",
            "  4%|▎         | 3/85 [08:29<4:21:06, 191.06s/it]"
          ]
        },
        {
          "metadata": {
            "tags": null
          },
          "name": "stdout",
          "output_type": "stream",
          "text": [
            "2022-11-10 16:15:05,490 Running model_1\n"
          ]
        },
        {
          "metadata": {
            "tags": null
          },
          "name": "stderr",
          "output_type": "stream",
          "text": [
            "  4%|▎         | 3/85 [28:49<4:21:06, 191.06s/it]"
          ]
        },
        {
          "metadata": {
            "tags": null
          },
          "name": "stdout",
          "output_type": "stream",
          "text": [
            "2022-11-10 16:35:25,628 model_1 took 1210.8s (3 recycles) with pLDDT 88.4 and ptmscore 0.74\n"
          ]
        },
        {
          "metadata": {
            "tags": null
          },
          "name": "stderr",
          "output_type": "stream",
          "text": [
            "  4%|▎         | 3/85 [30:30<4:21:06, 191.06s/it]"
          ]
        },
        {
          "metadata": {
            "tags": null
          },
          "name": "stdout",
          "output_type": "stream",
          "text": [
            "2022-11-10 16:37:06,121 reranking models by plddt\n"
          ]
        },
        {
          "metadata": {
            "tags": null
          },
          "name": "stderr",
          "output_type": "stream",
          "text": [
            "  4%|▎         | 3/85 [30:34<4:21:06, 191.06s/it]"
          ]
        },
        {
          "metadata": {
            "tags": null
          },
          "name": "stdout",
          "output_type": "stream",
          "text": [
            "2022-11-10 16:37:09,820 Done\n",
            "  adding: config.json (deflated 48%)\n",
            "  adding: test_c696b_predicted_aligned_error_v1.json (deflated 90%)\n",
            "  adding: test_c696b_unrelaxed_rank_1_model_1_scores.json (deflated 70%)\n",
            "  adding: test_c696b.a3m (deflated 86%)\n",
            "  adding: test_c696b_unrelaxed_rank_1_model_1.pdb (deflated 78%)\n",
            "  adding: cite.bibtex (deflated 52%)\n",
            "  adding: test_c696b_coverage.png (deflated 10%)\n",
            "  adding: test_c696b_PAE.png (deflated 1%)\n",
            "  adding: test_c696b_plddt.png (deflated 7%)\n"
          ]
        },
        {
          "metadata": {
            "tags": null
          },
          "name": "stderr",
          "output_type": "stream",
          "text": [
            "\r  5%|▍         | 4/85 [30:35<14:27:14, 642.41s/it]"
          ]
        },
        {
          "metadata": {
            "tags": null
          },
          "name": "stdout",
          "output_type": "stream",
          "text": [
            "######################################## 4\n"
          ]
        },
        {
          "metadata": {
            "tags": null
          },
          "name": "stderr",
          "output_type": "stream",
          "text": [
            "  5%|▍         | 4/85 [30:35<14:27:14, 642.41s/it]"
          ]
        },
        {
          "metadata": {
            "tags": null
          },
          "name": "stdout",
          "output_type": "stream",
          "text": [
            "2022-11-10 16:37:11,498 Found 5 citations for tools or databases\n"
          ]
        },
        {
          "metadata": {
            "tags": null
          },
          "name": "stderr",
          "output_type": "stream",
          "text": [
            "  5%|▍         | 4/85 [30:40<14:27:14, 642.41s/it]"
          ]
        },
        {
          "metadata": {
            "tags": null
          },
          "name": "stdout",
          "output_type": "stream",
          "text": [
            "2022-11-10 16:37:16,116 Query 1/1: test_4d043 (length 284)\n"
          ]
        },
        {
          "metadata": {
            "tags": null
          },
          "name": "stderr",
          "output_type": "stream",
          "text": [
            "\n",
            "  0%|          | 0/150 [elapsed: 00:00 remaining: ?]\u001b[A\n",
            "SUBMIT:   0%|          | 0/150 [elapsed: 00:00 remaining: ?]\u001b[A\n",
            "COMPLETE:   0%|          | 0/150 [elapsed: 00:00 remaining: ?]\u001b[A\n",
            "COMPLETE: 100%|██████████| 150/150 [elapsed: 00:02 remaining: 00:00]\n",
            "  5%|▍         | 4/85 [30:44<14:27:14, 642.41s/it]"
          ]
        },
        {
          "metadata": {
            "tags": null
          },
          "name": "stdout",
          "output_type": "stream",
          "text": [
            "2022-11-10 16:37:20,161 Running model_1\n"
          ]
        },
        {
          "metadata": {
            "tags": null
          },
          "name": "stderr",
          "output_type": "stream",
          "text": [
            "  5%|▍         | 4/85 [33:30<14:27:14, 642.41s/it]"
          ]
        },
        {
          "metadata": {
            "tags": null
          },
          "name": "stdout",
          "output_type": "stream",
          "text": [
            "2022-11-10 16:40:05,809 model_1 took 157.3s (3 recycles) with pLDDT 95 and ptmscore 0.908\n"
          ]
        },
        {
          "metadata": {
            "tags": null
          },
          "name": "stderr",
          "output_type": "stream",
          "text": [
            "  5%|▍         | 4/85 [33:42<14:27:14, 642.41s/it]"
          ]
        },
        {
          "metadata": {
            "tags": null
          },
          "name": "stdout",
          "output_type": "stream",
          "text": [
            "2022-11-10 16:40:18,637 reranking models by plddt\n"
          ]
        },
        {
          "metadata": {
            "tags": null
          },
          "name": "stderr",
          "output_type": "stream",
          "text": [
            "  5%|▍         | 4/85 [33:46<14:27:14, 642.41s/it]"
          ]
        },
        {
          "metadata": {
            "tags": null
          },
          "name": "stdout",
          "output_type": "stream",
          "text": [
            "2022-11-10 16:40:21,684 Done\n",
            "  adding: config.json (deflated 48%)\n",
            "  adding: test_4d043_predicted_aligned_error_v1.json (deflated 92%)\n",
            "  adding: test_4d043_unrelaxed_rank_1_model_1_scores.json (deflated 72%)\n",
            "  adding: test_4d043.a3m (deflated 61%)\n",
            "  adding: test_4d043_unrelaxed_rank_1_model_1.pdb (deflated 78%)\n",
            "  adding: cite.bibtex (deflated 52%)\n",
            "  adding: test_4d043_coverage.png (deflated 6%)\n",
            "  adding: test_4d043_PAE.png (deflated 1%)\n",
            "  adding: test_4d043_plddt.png (deflated 11%)\n"
          ]
        },
        {
          "metadata": {
            "tags": null
          },
          "name": "stderr",
          "output_type": "stream",
          "text": [
            "\r  6%|▌         | 5/85 [33:46<10:39:29, 479.61s/it]"
          ]
        },
        {
          "metadata": {
            "tags": null
          },
          "name": "stdout",
          "output_type": "stream",
          "text": [
            "######################################## 5\n"
          ]
        },
        {
          "metadata": {
            "tags": null
          },
          "name": "stderr",
          "output_type": "stream",
          "text": [
            "  6%|▌         | 5/85 [33:46<10:39:29, 479.61s/it]"
          ]
        },
        {
          "metadata": {
            "tags": null
          },
          "name": "stdout",
          "output_type": "stream",
          "text": [
            "2022-11-10 16:40:22,481 Found 5 citations for tools or databases\n"
          ]
        },
        {
          "metadata": {
            "tags": null
          },
          "name": "stderr",
          "output_type": "stream",
          "text": [
            "  6%|▌         | 5/85 [33:51<10:39:29, 479.61s/it]"
          ]
        },
        {
          "metadata": {
            "tags": null
          },
          "name": "stdout",
          "output_type": "stream",
          "text": [
            "2022-11-10 16:40:27,128 Query 1/1: test_fda0c (length 203)\n"
          ]
        },
        {
          "metadata": {
            "tags": null
          },
          "name": "stderr",
          "output_type": "stream",
          "text": [
            "\n",
            "  0%|          | 0/150 [elapsed: 00:00 remaining: ?]\u001b[A\n",
            "SUBMIT:   0%|          | 0/150 [elapsed: 00:00 remaining: ?]\u001b[A\n",
            "COMPLETE:   0%|          | 0/150 [elapsed: 00:00 remaining: ?]\u001b[A\n",
            "COMPLETE: 100%|██████████| 150/150 [elapsed: 00:02 remaining: 00:00]\n",
            "  6%|▌         | 5/85 [33:55<10:39:29, 479.61s/it]"
          ]
        },
        {
          "metadata": {
            "tags": null
          },
          "name": "stdout",
          "output_type": "stream",
          "text": [
            "2022-11-10 16:40:30,957 Running model_1\n"
          ]
        },
        {
          "metadata": {
            "tags": null
          },
          "name": "stderr",
          "output_type": "stream",
          "text": [
            "  6%|▌         | 5/85 [35:50<10:39:29, 479.61s/it]"
          ]
        },
        {
          "metadata": {
            "tags": null
          },
          "name": "stdout",
          "output_type": "stream",
          "text": [
            "2022-11-10 16:42:25,991 model_1 took 105.9s (3 recycles) with pLDDT 79.2 and ptmscore 0.748\n"
          ]
        },
        {
          "metadata": {
            "tags": null
          },
          "name": "stderr",
          "output_type": "stream",
          "text": [
            "  6%|▌         | 5/85 [35:59<10:39:29, 479.61s/it]"
          ]
        },
        {
          "metadata": {
            "tags": null
          },
          "name": "stdout",
          "output_type": "stream",
          "text": [
            "2022-11-10 16:42:35,288 reranking models by plddt\n"
          ]
        },
        {
          "metadata": {
            "tags": null
          },
          "name": "stderr",
          "output_type": "stream",
          "text": [
            "  6%|▌         | 5/85 [36:01<10:39:29, 479.61s/it]"
          ]
        },
        {
          "metadata": {
            "tags": null
          },
          "name": "stdout",
          "output_type": "stream",
          "text": [
            "2022-11-10 16:42:37,609 Done\n",
            "  adding: config.json (deflated 48%)\n",
            "  adding: test_fda0c_predicted_aligned_error_v1.json (deflated 89%)\n",
            "  adding: test_fda0c_unrelaxed_rank_1_model_1_scores.json (deflated 70%)\n",
            "  adding: test_fda0c.a3m (deflated 57%)\n",
            "  adding: test_fda0c_unrelaxed_rank_1_model_1.pdb (deflated 78%)\n",
            "  adding: cite.bibtex (deflated 52%)\n",
            "  adding: test_fda0c_coverage.png (deflated 7%)\n",
            "  adding: test_fda0c_PAE.png (deflated 2%)\n",
            "  adding: test_fda0c_plddt.png (deflated 9%)\n"
          ]
        },
        {
          "metadata": {
            "tags": null
          },
          "name": "stderr",
          "output_type": "stream",
          "text": [
            "\r  7%|▋         | 6/85 [36:02<7:57:37, 362.75s/it] "
          ]
        },
        {
          "metadata": {
            "tags": null
          },
          "name": "stdout",
          "output_type": "stream",
          "text": [
            "######################################## 6\n"
          ]
        },
        {
          "metadata": {
            "tags": null
          },
          "name": "stderr",
          "output_type": "stream",
          "text": [
            "  7%|▋         | 6/85 [36:02<7:57:37, 362.75s/it]"
          ]
        },
        {
          "metadata": {
            "tags": null
          },
          "name": "stdout",
          "output_type": "stream",
          "text": [
            "2022-11-10 16:42:38,378 Found 5 citations for tools or databases\n"
          ]
        },
        {
          "metadata": {
            "tags": null
          },
          "name": "stderr",
          "output_type": "stream",
          "text": [
            "  7%|▋         | 6/85 [36:07<7:57:37, 362.75s/it]"
          ]
        },
        {
          "metadata": {
            "tags": null
          },
          "name": "stdout",
          "output_type": "stream",
          "text": [
            "2022-11-10 16:42:42,999 Query 1/1: test_c459a (length 645)\n"
          ]
        },
        {
          "metadata": {
            "tags": null
          },
          "name": "stderr",
          "output_type": "stream",
          "text": [
            "\n",
            "  0%|          | 0/150 [elapsed: 00:00 remaining: ?]\u001b[A\n",
            "SUBMIT:   0%|          | 0/150 [elapsed: 00:00 remaining: ?]\u001b[A\n",
            "COMPLETE:   0%|          | 0/150 [elapsed: 00:00 remaining: ?]\u001b[A\n",
            "COMPLETE: 100%|██████████| 150/150 [elapsed: 00:03 remaining: 00:00]\n",
            "  7%|▋         | 6/85 [36:14<7:57:37, 362.75s/it]"
          ]
        },
        {
          "metadata": {
            "tags": null
          },
          "name": "stdout",
          "output_type": "stream",
          "text": [
            "2022-11-10 16:42:50,230 Running model_1\n"
          ]
        },
        {
          "metadata": {
            "tags": null
          },
          "name": "stderr",
          "output_type": "stream",
          "text": [
            "  7%|▋         | 6/85 [47:10<7:57:37, 362.75s/it]"
          ]
        },
        {
          "metadata": {
            "tags": null
          },
          "name": "stdout",
          "output_type": "stream",
          "text": [
            "2022-11-10 16:53:46,636 model_1 took 637.3s (3 recycles) with pLDDT 82.1 and ptmscore 0.776\n"
          ]
        },
        {
          "metadata": {
            "tags": null
          },
          "name": "stderr",
          "output_type": "stream",
          "text": [
            "  7%|▋         | 6/85 [47:40<7:57:37, 362.75s/it]"
          ]
        },
        {
          "metadata": {
            "tags": null
          },
          "name": "stdout",
          "output_type": "stream",
          "text": [
            "2022-11-10 16:54:15,868 reranking models by plddt\n"
          ]
        },
        {
          "metadata": {
            "tags": null
          },
          "name": "stderr",
          "output_type": "stream",
          "text": [
            "  7%|▋         | 6/85 [47:46<7:57:37, 362.75s/it]"
          ]
        },
        {
          "metadata": {
            "tags": null
          },
          "name": "stdout",
          "output_type": "stream",
          "text": [
            "2022-11-10 16:54:21,991 Done\n",
            "  adding: config.json (deflated 48%)\n",
            "  adding: test_c459a_predicted_aligned_error_v1.json (deflated 90%)\n",
            "  adding: test_c459a_unrelaxed_rank_1_model_1_scores.json (deflated 70%)\n",
            "  adding: test_c459a.a3m (deflated 65%)\n",
            "  adding: test_c459a_unrelaxed_rank_1_model_1.pdb (deflated 78%)\n",
            "  adding: cite.bibtex (deflated 52%)\n",
            "  adding: test_c459a_coverage.png (deflated 6%)\n",
            "  adding: test_c459a_PAE.png (deflated 1%)\n",
            "  adding: test_c459a_plddt.png (deflated 8%)\n"
          ]
        },
        {
          "metadata": {
            "tags": null
          },
          "name": "stderr",
          "output_type": "stream",
          "text": [
            "\r  8%|▊         | 7/85 [47:47<10:17:05, 474.68s/it]"
          ]
        },
        {
          "metadata": {
            "tags": null
          },
          "name": "stdout",
          "output_type": "stream",
          "text": [
            "######################################## 7\n"
          ]
        },
        {
          "metadata": {
            "tags": null
          },
          "name": "stderr",
          "output_type": "stream",
          "text": [
            "  8%|▊         | 7/85 [47:47<10:17:05, 474.68s/it]"
          ]
        },
        {
          "metadata": {
            "tags": null
          },
          "name": "stdout",
          "output_type": "stream",
          "text": [
            "2022-11-10 16:54:23,530 Found 5 citations for tools or databases\n"
          ]
        },
        {
          "metadata": {
            "tags": null
          },
          "name": "stderr",
          "output_type": "stream",
          "text": [
            "  8%|▊         | 7/85 [47:52<10:17:05, 474.68s/it]"
          ]
        },
        {
          "metadata": {
            "tags": null
          },
          "name": "stdout",
          "output_type": "stream",
          "text": [
            "2022-11-10 16:54:28,194 Query 1/1: test_9b167 (length 213)\n"
          ]
        },
        {
          "metadata": {
            "tags": null
          },
          "name": "stderr",
          "output_type": "stream",
          "text": [
            "\n",
            "  0%|          | 0/150 [elapsed: 00:00 remaining: ?]\u001b[A\n",
            "SUBMIT:   0%|          | 0/150 [elapsed: 00:00 remaining: ?]\u001b[A\n",
            "COMPLETE:   0%|          | 0/150 [elapsed: 00:00 remaining: ?]\u001b[A\n",
            "COMPLETE: 100%|██████████| 150/150 [elapsed: 00:01 remaining: 00:00]\n",
            "  8%|▊         | 7/85 [47:54<10:17:05, 474.68s/it]"
          ]
        },
        {
          "metadata": {
            "tags": null
          },
          "name": "stdout",
          "output_type": "stream",
          "text": [
            "2022-11-10 16:54:30,084 Running model_1\n"
          ]
        },
        {
          "metadata": {
            "tags": null
          },
          "name": "stderr",
          "output_type": "stream",
          "text": [
            "  8%|▊         | 7/85 [49:50<10:17:05, 474.68s/it]"
          ]
        },
        {
          "metadata": {
            "tags": null
          },
          "name": "stdout",
          "output_type": "stream",
          "text": [
            "2022-11-10 16:56:25,794 model_1 took 113.8s (3 recycles) with pLDDT 91.2 and ptmscore 0.89\n"
          ]
        },
        {
          "metadata": {
            "tags": null
          },
          "name": "stderr",
          "output_type": "stream",
          "text": [
            "  8%|▊         | 7/85 [50:00<10:17:05, 474.68s/it]"
          ]
        },
        {
          "metadata": {
            "tags": null
          },
          "name": "stdout",
          "output_type": "stream",
          "text": [
            "2022-11-10 16:56:35,670 reranking models by plddt\n"
          ]
        },
        {
          "metadata": {
            "tags": null
          },
          "name": "stderr",
          "output_type": "stream",
          "text": [
            "  8%|▊         | 7/85 [50:01<10:17:05, 474.68s/it]"
          ]
        },
        {
          "metadata": {
            "tags": null
          },
          "name": "stdout",
          "output_type": "stream",
          "text": [
            "2022-11-10 16:56:36,655 Done\n",
            "  adding: config.json (deflated 48%)\n",
            "  adding: test_9b167_predicted_aligned_error_v1.json (deflated 90%)\n",
            "  adding: test_9b167_unrelaxed_rank_1_model_1_scores.json (deflated 71%)\n",
            "  adding: test_9b167.a3m (deflated 71%)\n",
            "  adding: test_9b167_unrelaxed_rank_1_model_1.pdb (deflated 78%)\n",
            "  adding: cite.bibtex (deflated 52%)\n",
            "  adding: test_9b167_coverage.png (deflated 9%)\n",
            "  adding: test_9b167_PAE.png (deflated 2%)\n",
            "  adding: test_9b167_plddt.png (deflated 10%)\n"
          ]
        },
        {
          "metadata": {
            "tags": null
          },
          "name": "stderr",
          "output_type": "stream",
          "text": [
            "\r  9%|▉         | 8/85 [50:01<7:49:50, 366.11s/it] "
          ]
        },
        {
          "metadata": {
            "tags": null
          },
          "name": "stdout",
          "output_type": "stream",
          "text": [
            "######################################## 8\n"
          ]
        },
        {
          "metadata": {
            "tags": null
          },
          "name": "stderr",
          "output_type": "stream",
          "text": [
            "  9%|▉         | 8/85 [50:01<7:49:50, 366.11s/it]"
          ]
        },
        {
          "metadata": {
            "tags": null
          },
          "name": "stdout",
          "output_type": "stream",
          "text": [
            "2022-11-10 16:56:37,164 Found 5 citations for tools or databases\n"
          ]
        },
        {
          "metadata": {
            "tags": null
          },
          "name": "stderr",
          "output_type": "stream",
          "text": [
            "  9%|▉         | 8/85 [50:06<7:49:50, 366.11s/it]"
          ]
        },
        {
          "metadata": {
            "tags": null
          },
          "name": "stdout",
          "output_type": "stream",
          "text": [
            "2022-11-10 16:56:41,800 Query 1/1: test_d2b3a (length 192)\n"
          ]
        },
        {
          "metadata": {
            "tags": null
          },
          "name": "stderr",
          "output_type": "stream",
          "text": [
            "\n",
            "  0%|          | 0/150 [elapsed: 00:00 remaining: ?]\u001b[A\n",
            "SUBMIT:   0%|          | 0/150 [elapsed: 00:00 remaining: ?]\u001b[A\n",
            "COMPLETE:   0%|          | 0/150 [elapsed: 00:00 remaining: ?]\u001b[A\n",
            "COMPLETE: 100%|██████████| 150/150 [elapsed: 00:02 remaining: 00:00]\n",
            "  9%|▉         | 8/85 [50:09<7:49:50, 366.11s/it]"
          ]
        },
        {
          "metadata": {
            "tags": null
          },
          "name": "stdout",
          "output_type": "stream",
          "text": [
            "2022-11-10 16:56:44,803 Running model_1\n"
          ]
        },
        {
          "metadata": {
            "tags": null
          },
          "name": "stderr",
          "output_type": "stream",
          "text": [
            "  9%|▉         | 8/85 [51:48<7:49:50, 366.11s/it]"
          ]
        },
        {
          "metadata": {
            "tags": null
          },
          "name": "stdout",
          "output_type": "stream",
          "text": [
            "2022-11-10 16:58:23,677 model_1 took 94.1s (3 recycles) with pLDDT 89.7 and ptmscore 0.836\n"
          ]
        },
        {
          "metadata": {
            "tags": null
          },
          "name": "stderr",
          "output_type": "stream",
          "text": [
            "  9%|▉         | 8/85 [51:56<7:49:50, 366.11s/it]"
          ]
        },
        {
          "metadata": {
            "tags": null
          },
          "name": "stdout",
          "output_type": "stream",
          "text": [
            "2022-11-10 16:58:32,461 reranking models by plddt\n"
          ]
        },
        {
          "metadata": {
            "tags": null
          },
          "name": "stderr",
          "output_type": "stream",
          "text": [
            "  9%|▉         | 8/85 [51:58<7:49:50, 366.11s/it]"
          ]
        },
        {
          "metadata": {
            "tags": null
          },
          "name": "stdout",
          "output_type": "stream",
          "text": [
            "2022-11-10 16:58:34,184 Done\n",
            "  adding: config.json (deflated 48%)\n",
            "  adding: test_d2b3a_predicted_aligned_error_v1.json (deflated 90%)\n",
            "  adding: test_d2b3a_unrelaxed_rank_1_model_1_scores.json (deflated 71%)\n",
            "  adding: test_d2b3a.a3m (deflated 61%)\n",
            "  adding: test_d2b3a_unrelaxed_rank_1_model_1.pdb (deflated 78%)\n",
            "  adding: cite.bibtex (deflated 52%)\n",
            "  adding: test_d2b3a_coverage.png (deflated 7%)\n",
            "  adding: test_d2b3a_PAE.png (deflated 2%)\n",
            "  adding: test_d2b3a_plddt.png (deflated 11%)\n"
          ]
        },
        {
          "metadata": {
            "tags": null
          },
          "name": "stderr",
          "output_type": "stream",
          "text": [
            "\r 11%|█         | 9/85 [51:58<6:05:23, 288.46s/it]"
          ]
        },
        {
          "metadata": {
            "tags": null
          },
          "name": "stdout",
          "output_type": "stream",
          "text": [
            "######################################## 9\n"
          ]
        },
        {
          "metadata": {
            "tags": null
          },
          "name": "stderr",
          "output_type": "stream",
          "text": [
            " 11%|█         | 9/85 [51:59<6:05:23, 288.46s/it]"
          ]
        },
        {
          "metadata": {
            "tags": null
          },
          "name": "stdout",
          "output_type": "stream",
          "text": [
            "2022-11-10 16:58:34,900 Found 5 citations for tools or databases\n"
          ]
        },
        {
          "metadata": {
            "tags": null
          },
          "name": "stderr",
          "output_type": "stream",
          "text": [
            " 11%|█         | 9/85 [52:03<6:05:23, 288.46s/it]"
          ]
        },
        {
          "metadata": {
            "tags": null
          },
          "name": "stdout",
          "output_type": "stream",
          "text": [
            "2022-11-10 16:58:39,605 Query 1/1: test_ae7c8 (length 341)\n"
          ]
        },
        {
          "metadata": {
            "tags": null
          },
          "name": "stderr",
          "output_type": "stream",
          "text": [
            "\n",
            "  0%|          | 0/150 [elapsed: 00:00 remaining: ?]\u001b[A\n",
            "SUBMIT:   0%|          | 0/150 [elapsed: 00:00 remaining: ?]\u001b[A\n",
            "COMPLETE:   0%|          | 0/150 [elapsed: 00:00 remaining: ?]\u001b[A\n",
            "COMPLETE: 100%|██████████| 150/150 [elapsed: 00:01 remaining: 00:00]\n",
            " 11%|█         | 9/85 [52:05<6:05:23, 288.46s/it]"
          ]
        },
        {
          "metadata": {
            "tags": null
          },
          "name": "stdout",
          "output_type": "stream",
          "text": [
            "2022-11-10 16:58:41,328 Running model_1\n"
          ]
        },
        {
          "metadata": {
            "tags": null
          },
          "name": "stderr",
          "output_type": "stream",
          "text": [
            " 11%|█         | 9/85 [55:41<6:05:23, 288.46s/it]"
          ]
        },
        {
          "metadata": {
            "tags": null
          },
          "name": "stdout",
          "output_type": "stream",
          "text": [
            "2022-11-10 17:02:16,903 model_1 took 213.8s (3 recycles) with pLDDT 59.1 and ptmscore 0.542\n"
          ]
        },
        {
          "metadata": {
            "tags": null
          },
          "name": "stderr",
          "output_type": "stream",
          "text": [
            " 11%|█         | 9/85 [55:56<6:05:23, 288.46s/it]"
          ]
        },
        {
          "metadata": {
            "tags": null
          },
          "name": "stdout",
          "output_type": "stream",
          "text": [
            "2022-11-10 17:02:32,354 reranking models by plddt\n"
          ]
        },
        {
          "metadata": {
            "tags": null
          },
          "name": "stderr",
          "output_type": "stream",
          "text": [
            " 11%|█         | 9/85 [55:57<6:05:23, 288.46s/it]"
          ]
        },
        {
          "metadata": {
            "tags": null
          },
          "name": "stdout",
          "output_type": "stream",
          "text": [
            "2022-11-10 17:02:33,431 Done\n",
            "  adding: config.json (deflated 48%)\n",
            "  adding: test_ae7c8_predicted_aligned_error_v1.json (deflated 89%)\n",
            "  adding: test_ae7c8_unrelaxed_rank_1_model_1_scores.json (deflated 70%)\n",
            "  adding: test_ae7c8.a3m (deflated 76%)\n",
            "  adding: test_ae7c8_unrelaxed_rank_1_model_1.pdb (deflated 78%)\n",
            "  adding: cite.bibtex (deflated 52%)\n",
            "  adding: test_ae7c8_coverage.png (deflated 8%)\n",
            "  adding: test_ae7c8_PAE.png (deflated 1%)\n",
            "  adding: test_ae7c8_plddt.png (deflated 7%)\n"
          ]
        },
        {
          "metadata": {
            "tags": null
          },
          "name": "stderr",
          "output_type": "stream",
          "text": [
            "\r 12%|█▏        | 10/85 [55:58<5:41:35, 273.27s/it]"
          ]
        },
        {
          "metadata": {
            "tags": null
          },
          "name": "stdout",
          "output_type": "stream",
          "text": [
            "######################################## 10\n"
          ]
        },
        {
          "metadata": {
            "tags": null
          },
          "name": "stderr",
          "output_type": "stream",
          "text": [
            " 12%|█▏        | 10/85 [55:58<5:41:35, 273.27s/it]"
          ]
        },
        {
          "metadata": {
            "tags": null
          },
          "name": "stdout",
          "output_type": "stream",
          "text": [
            "2022-11-10 17:02:34,142 Found 5 citations for tools or databases\n"
          ]
        },
        {
          "metadata": {
            "tags": null
          },
          "name": "stderr",
          "output_type": "stream",
          "text": [
            " 12%|█▏        | 10/85 [56:03<5:41:35, 273.27s/it]"
          ]
        },
        {
          "metadata": {
            "tags": null
          },
          "name": "stdout",
          "output_type": "stream",
          "text": [
            "2022-11-10 17:02:38,797 Query 1/1: test_1dfaf (length 501)\n"
          ]
        },
        {
          "metadata": {
            "tags": null
          },
          "name": "stderr",
          "output_type": "stream",
          "text": [
            "\n",
            "  0%|          | 0/150 [elapsed: 00:00 remaining: ?]\u001b[A\n",
            "SUBMIT:   0%|          | 0/150 [elapsed: 00:00 remaining: ?]\u001b[A\n",
            "COMPLETE:   0%|          | 0/150 [elapsed: 00:00 remaining: ?]\u001b[A\n",
            "COMPLETE: 100%|██████████| 150/150 [elapsed: 00:02 remaining: 00:00]\n",
            " 12%|█▏        | 10/85 [56:06<5:41:35, 273.27s/it]"
          ]
        },
        {
          "metadata": {
            "tags": null
          },
          "name": "stdout",
          "output_type": "stream",
          "text": [
            "2022-11-10 17:02:42,030 Running model_1\n"
          ]
        },
        {
          "metadata": {
            "tags": null
          },
          "name": "stderr",
          "output_type": "stream",
          "text": [
            " 12%|█▏        | 10/85 [1:02:53<5:41:35, 273.27s/it]"
          ]
        },
        {
          "metadata": {
            "tags": null
          },
          "name": "stdout",
          "output_type": "stream",
          "text": [
            "2022-11-10 17:09:29,513 model_1 took 401.0s (3 recycles) with pLDDT 95.6 and ptmscore 0.889\n"
          ]
        },
        {
          "metadata": {
            "tags": null
          },
          "name": "stderr",
          "output_type": "stream",
          "text": [
            " 12%|█▏        | 10/85 [1:03:16<5:41:35, 273.27s/it]"
          ]
        },
        {
          "metadata": {
            "tags": null
          },
          "name": "stdout",
          "output_type": "stream",
          "text": [
            "2022-11-10 17:09:52,429 reranking models by plddt\n"
          ]
        },
        {
          "metadata": {
            "tags": null
          },
          "name": "stderr",
          "output_type": "stream",
          "text": [
            " 12%|█▏        | 10/85 [1:03:19<5:41:35, 273.27s/it]"
          ]
        },
        {
          "metadata": {
            "tags": null
          },
          "name": "stdout",
          "output_type": "stream",
          "text": [
            "2022-11-10 17:09:54,783 Done\n",
            "  adding: config.json (deflated 48%)\n",
            "  adding: test_1dfaf_predicted_aligned_error_v1.json (deflated 92%)\n",
            "  adding: test_1dfaf_unrelaxed_rank_1_model_1_scores.json (deflated 72%)\n",
            "  adding: test_1dfaf.a3m (deflated 72%)\n",
            "  adding: test_1dfaf_unrelaxed_rank_1_model_1.pdb (deflated 78%)\n",
            "  adding: cite.bibtex (deflated 52%)\n",
            "  adding: test_1dfaf_coverage.png (deflated 7%)\n",
            "  adding: test_1dfaf_PAE.png (deflated 1%)\n",
            "  adding: test_1dfaf_plddt.png (deflated 10%)\n"
          ]
        },
        {
          "metadata": {
            "tags": null
          },
          "name": "stderr",
          "output_type": "stream",
          "text": [
            "\r 13%|█▎        | 11/85 [1:03:19<6:40:33, 324.78s/it]"
          ]
        },
        {
          "metadata": {
            "tags": null
          },
          "name": "stdout",
          "output_type": "stream",
          "text": [
            "######################################## 11\n"
          ]
        },
        {
          "metadata": {
            "tags": null
          },
          "name": "stderr",
          "output_type": "stream",
          "text": [
            " 13%|█▎        | 11/85 [1:03:20<6:40:33, 324.78s/it]"
          ]
        },
        {
          "metadata": {
            "tags": null
          },
          "name": "stdout",
          "output_type": "stream",
          "text": [
            "2022-11-10 17:09:55,722 Found 5 citations for tools or databases\n"
          ]
        },
        {
          "metadata": {
            "tags": null
          },
          "name": "stderr",
          "output_type": "stream",
          "text": [
            " 13%|█▎        | 11/85 [1:03:24<6:40:33, 324.78s/it]"
          ]
        },
        {
          "metadata": {
            "tags": null
          },
          "name": "stdout",
          "output_type": "stream",
          "text": [
            "2022-11-10 17:10:00,324 Query 1/1: test_28371 (length 400)\n"
          ]
        },
        {
          "metadata": {
            "tags": null
          },
          "name": "stderr",
          "output_type": "stream",
          "text": [
            "\n",
            "  0%|          | 0/150 [elapsed: 00:00 remaining: ?]\u001b[A\n",
            "SUBMIT:   0%|          | 0/150 [elapsed: 00:00 remaining: ?]\u001b[A\n",
            "COMPLETE:   0%|          | 0/150 [elapsed: 00:00 remaining: ?]\u001b[A\n",
            "COMPLETE: 100%|██████████| 150/150 [elapsed: 00:02 remaining: 00:00]\n",
            " 13%|█▎        | 11/85 [1:03:28<6:40:33, 324.78s/it]"
          ]
        },
        {
          "metadata": {
            "tags": null
          },
          "name": "stdout",
          "output_type": "stream",
          "text": [
            "2022-11-10 17:10:04,104 Running model_1\n"
          ]
        },
        {
          "metadata": {
            "tags": null
          },
          "name": "stderr",
          "output_type": "stream",
          "text": [
            " 13%|█▎        | 11/85 [1:08:02<6:40:33, 324.78s/it]"
          ]
        },
        {
          "metadata": {
            "tags": null
          },
          "name": "stdout",
          "output_type": "stream",
          "text": [
            "2022-11-10 17:14:38,625 model_1 took 266.9s (3 recycles) with pLDDT 83.7 and ptmscore 0.787\n"
          ]
        },
        {
          "metadata": {
            "tags": null
          },
          "name": "stderr",
          "output_type": "stream",
          "text": [
            " 13%|█▎        | 11/85 [1:08:21<6:40:33, 324.78s/it]"
          ]
        },
        {
          "metadata": {
            "tags": null
          },
          "name": "stdout",
          "output_type": "stream",
          "text": [
            "2022-11-10 17:14:56,900 reranking models by plddt\n"
          ]
        },
        {
          "metadata": {
            "tags": null
          },
          "name": "stderr",
          "output_type": "stream",
          "text": [
            " 13%|█▎        | 11/85 [1:08:23<6:40:33, 324.78s/it]"
          ]
        },
        {
          "metadata": {
            "tags": null
          },
          "name": "stdout",
          "output_type": "stream",
          "text": [
            "2022-11-10 17:14:59,348 Done\n",
            "  adding: config.json (deflated 48%)\n",
            "  adding: test_28371_predicted_aligned_error_v1.json (deflated 90%)\n",
            "  adding: test_28371_unrelaxed_rank_1_model_1_scores.json (deflated 70%)\n",
            "  adding: test_28371.a3m (deflated 63%)\n",
            "  adding: test_28371_unrelaxed_rank_1_model_1.pdb (deflated 78%)\n",
            "  adding: cite.bibtex (deflated 52%)\n",
            "  adding: test_28371_coverage.png (deflated 6%)\n",
            "  adding: test_28371_PAE.png (deflated 1%)\n",
            "  adding: test_28371_plddt.png (deflated 9%)\n"
          ]
        },
        {
          "metadata": {
            "tags": null
          },
          "name": "stderr",
          "output_type": "stream",
          "text": [
            "\r 14%|█▍        | 12/85 [1:08:24<6:27:39, 318.62s/it]"
          ]
        },
        {
          "metadata": {
            "tags": null
          },
          "name": "stdout",
          "output_type": "stream",
          "text": [
            "######################################## 12\n"
          ]
        },
        {
          "metadata": {
            "tags": null
          },
          "name": "stderr",
          "output_type": "stream",
          "text": [
            " 14%|█▍        | 12/85 [1:08:24<6:27:39, 318.62s/it]"
          ]
        },
        {
          "metadata": {
            "tags": null
          },
          "name": "stdout",
          "output_type": "stream",
          "text": [
            "2022-11-10 17:15:00,270 Found 5 citations for tools or databases\n"
          ]
        },
        {
          "metadata": {
            "tags": null
          },
          "name": "stderr",
          "output_type": "stream",
          "text": [
            " 14%|█▍        | 12/85 [1:08:29<6:27:39, 318.62s/it]"
          ]
        },
        {
          "metadata": {
            "tags": null
          },
          "name": "stdout",
          "output_type": "stream",
          "text": [
            "2022-11-10 17:15:04,829 Query 1/1: test_7fc81 (length 206)\n"
          ]
        },
        {
          "metadata": {
            "tags": null
          },
          "name": "stderr",
          "output_type": "stream",
          "text": [
            "\n",
            "  0%|          | 0/150 [elapsed: 00:00 remaining: ?]\u001b[A\n",
            "SUBMIT:   0%|          | 0/150 [elapsed: 00:00 remaining: ?]\u001b[A\n",
            "COMPLETE:   0%|          | 0/150 [elapsed: 00:00 remaining: ?]\u001b[A\n",
            "COMPLETE: 100%|██████████| 150/150 [elapsed: 00:02 remaining: 00:00]\n",
            " 14%|█▍        | 12/85 [1:08:33<6:27:39, 318.62s/it]"
          ]
        },
        {
          "metadata": {
            "tags": null
          },
          "name": "stdout",
          "output_type": "stream",
          "text": [
            "2022-11-10 17:15:09,298 Running model_1\n"
          ]
        },
        {
          "metadata": {
            "tags": null
          },
          "name": "stderr",
          "output_type": "stream",
          "text": [
            " 14%|█▍        | 12/85 [1:10:29<6:27:39, 318.62s/it]"
          ]
        },
        {
          "metadata": {
            "tags": null
          },
          "name": "stdout",
          "output_type": "stream",
          "text": [
            "2022-11-10 17:17:05,371 model_1 took 108.4s (3 recycles) with pLDDT 82.4 and ptmscore 0.763\n"
          ]
        },
        {
          "metadata": {
            "tags": null
          },
          "name": "stderr",
          "output_type": "stream",
          "text": [
            " 14%|█▍        | 12/85 [1:10:39<6:27:39, 318.62s/it]"
          ]
        },
        {
          "metadata": {
            "tags": null
          },
          "name": "stdout",
          "output_type": "stream",
          "text": [
            "2022-11-10 17:17:14,862 reranking models by plddt\n"
          ]
        },
        {
          "metadata": {
            "tags": null
          },
          "name": "stderr",
          "output_type": "stream",
          "text": [
            " 14%|█▍        | 12/85 [1:10:41<6:27:39, 318.62s/it]"
          ]
        },
        {
          "metadata": {
            "tags": null
          },
          "name": "stdout",
          "output_type": "stream",
          "text": [
            "2022-11-10 17:17:17,419 Done\n",
            "  adding: config.json (deflated 48%)\n",
            "  adding: test_7fc81_predicted_aligned_error_v1.json (deflated 90%)\n",
            "  adding: test_7fc81_unrelaxed_rank_1_model_1_scores.json (deflated 70%)\n",
            "  adding: test_7fc81.a3m (deflated 58%)\n",
            "  adding: test_7fc81_unrelaxed_rank_1_model_1.pdb (deflated 78%)\n",
            "  adding: cite.bibtex (deflated 52%)\n",
            "  adding: test_7fc81_coverage.png (deflated 7%)\n",
            "  adding: test_7fc81_PAE.png (deflated 2%)\n",
            "  adding: test_7fc81_plddt.png (deflated 10%)\n"
          ]
        },
        {
          "metadata": {
            "tags": null
          },
          "name": "stderr",
          "output_type": "stream",
          "text": [
            "\r 15%|█▌        | 13/85 [1:10:42<5:16:40, 263.90s/it]"
          ]
        },
        {
          "metadata": {
            "tags": null
          },
          "name": "stdout",
          "output_type": "stream",
          "text": [
            "######################################## 13\n"
          ]
        },
        {
          "metadata": {
            "tags": null
          },
          "name": "stderr",
          "output_type": "stream",
          "text": [
            " 15%|█▌        | 13/85 [1:10:42<5:16:40, 263.90s/it]"
          ]
        },
        {
          "metadata": {
            "tags": null
          },
          "name": "stdout",
          "output_type": "stream",
          "text": [
            "2022-11-10 17:17:18,243 Found 5 citations for tools or databases\n"
          ]
        },
        {
          "metadata": {
            "tags": null
          },
          "name": "stderr",
          "output_type": "stream",
          "text": [
            " 15%|█▌        | 13/85 [1:10:47<5:16:40, 263.90s/it]"
          ]
        },
        {
          "metadata": {
            "tags": null
          },
          "name": "stdout",
          "output_type": "stream",
          "text": [
            "2022-11-10 17:17:22,841 Query 1/1: test_10d8b (length 313)\n"
          ]
        },
        {
          "metadata": {
            "tags": null
          },
          "name": "stderr",
          "output_type": "stream",
          "text": [
            "\n",
            "  0%|          | 0/150 [elapsed: 00:00 remaining: ?]\u001b[A\n",
            "SUBMIT:   0%|          | 0/150 [elapsed: 00:00 remaining: ?]\u001b[A\n",
            "COMPLETE:   0%|          | 0/150 [elapsed: 00:00 remaining: ?]\u001b[A\n",
            "COMPLETE: 100%|██████████| 150/150 [elapsed: 00:03 remaining: 00:00]\n",
            " 15%|█▌        | 13/85 [1:10:51<5:16:40, 263.90s/it]"
          ]
        },
        {
          "metadata": {
            "tags": null
          },
          "name": "stdout",
          "output_type": "stream",
          "text": [
            "2022-11-10 17:17:27,486 Running model_1\n"
          ]
        },
        {
          "metadata": {
            "tags": null
          },
          "name": "stderr",
          "output_type": "stream",
          "text": [
            " 15%|█▌        | 13/85 [1:14:05<5:16:40, 263.90s/it]"
          ]
        },
        {
          "metadata": {
            "tags": null
          },
          "name": "stdout",
          "output_type": "stream",
          "text": [
            "2022-11-10 17:20:41,010 model_1 took 184.2s (3 recycles) with pLDDT 86.7 and ptmscore 0.868\n"
          ]
        },
        {
          "metadata": {
            "tags": null
          },
          "name": "stderr",
          "output_type": "stream",
          "text": [
            " 15%|█▌        | 13/85 [1:14:19<5:16:40, 263.90s/it]"
          ]
        },
        {
          "metadata": {
            "tags": null
          },
          "name": "stdout",
          "output_type": "stream",
          "text": [
            "2022-11-10 17:20:55,423 reranking models by plddt\n"
          ]
        },
        {
          "metadata": {
            "tags": null
          },
          "name": "stderr",
          "output_type": "stream",
          "text": [
            " 15%|█▌        | 13/85 [1:14:23<5:16:40, 263.90s/it]"
          ]
        },
        {
          "metadata": {
            "tags": null
          },
          "name": "stdout",
          "output_type": "stream",
          "text": [
            "2022-11-10 17:20:58,786 Done\n",
            "  adding: config.json (deflated 48%)\n",
            "  adding: test_10d8b_predicted_aligned_error_v1.json (deflated 91%)\n",
            "  adding: test_10d8b_unrelaxed_rank_1_model_1_scores.json (deflated 71%)\n",
            "  adding: test_10d8b.a3m (deflated 55%)\n",
            "  adding: test_10d8b_unrelaxed_rank_1_model_1.pdb (deflated 78%)\n",
            "  adding: cite.bibtex (deflated 52%)\n",
            "  adding: test_10d8b_coverage.png (deflated 6%)\n",
            "  adding: test_10d8b_PAE.png (deflated 1%)\n",
            "  adding: test_10d8b_plddt.png (deflated 9%)\n"
          ]
        },
        {
          "metadata": {
            "tags": null
          },
          "name": "stderr",
          "output_type": "stream",
          "text": [
            "\r 16%|█▋        | 14/85 [1:14:23<4:57:06, 251.08s/it]"
          ]
        },
        {
          "metadata": {
            "tags": null
          },
          "name": "stdout",
          "output_type": "stream",
          "text": [
            "######################################## 14\n"
          ]
        },
        {
          "metadata": {
            "tags": null
          },
          "name": "stderr",
          "output_type": "stream",
          "text": [
            " 16%|█▋        | 14/85 [1:14:24<4:57:06, 251.08s/it]"
          ]
        },
        {
          "metadata": {
            "tags": null
          },
          "name": "stdout",
          "output_type": "stream",
          "text": [
            "2022-11-10 17:20:59,713 Found 5 citations for tools or databases\n"
          ]
        },
        {
          "metadata": {
            "tags": null
          },
          "name": "stderr",
          "output_type": "stream",
          "text": [
            " 16%|█▋        | 14/85 [1:14:28<4:57:06, 251.08s/it]"
          ]
        },
        {
          "metadata": {
            "tags": null
          },
          "name": "stdout",
          "output_type": "stream",
          "text": [
            "2022-11-10 17:21:04,325 Query 1/1: test_338db (length 109)\n"
          ]
        },
        {
          "metadata": {
            "tags": null
          },
          "name": "stderr",
          "output_type": "stream",
          "text": [
            "\n",
            "  0%|          | 0/150 [elapsed: 00:00 remaining: ?]\u001b[A\n",
            "SUBMIT:   0%|          | 0/150 [elapsed: 00:00 remaining: ?]\u001b[A\n",
            "COMPLETE:   0%|          | 0/150 [elapsed: 00:00 remaining: ?]\u001b[A\n",
            "COMPLETE: 100%|██████████| 150/150 [elapsed: 00:02 remaining: 00:00]\n",
            " 16%|█▋        | 14/85 [1:14:31<4:57:06, 251.08s/it]"
          ]
        },
        {
          "metadata": {
            "tags": null
          },
          "name": "stdout",
          "output_type": "stream",
          "text": [
            "2022-11-10 17:21:07,174 Running model_1\n"
          ]
        },
        {
          "metadata": {
            "tags": null
          },
          "name": "stderr",
          "output_type": "stream",
          "text": [
            " 16%|█▋        | 14/85 [1:15:32<4:57:06, 251.08s/it]"
          ]
        },
        {
          "metadata": {
            "tags": null
          },
          "name": "stdout",
          "output_type": "stream",
          "text": [
            "2022-11-10 17:22:08,201 model_1 took 57.6s (3 recycles) with pLDDT 89.1 and ptmscore 0.797\n"
          ]
        },
        {
          "metadata": {
            "tags": null
          },
          "name": "stderr",
          "output_type": "stream",
          "text": [
            " 16%|█▋        | 14/85 [1:15:37<4:57:06, 251.08s/it]"
          ]
        },
        {
          "metadata": {
            "tags": null
          },
          "name": "stdout",
          "output_type": "stream",
          "text": [
            "2022-11-10 17:22:13,200 reranking models by plddt\n"
          ]
        },
        {
          "metadata": {
            "tags": null
          },
          "name": "stderr",
          "output_type": "stream",
          "text": [
            " 16%|█▋        | 14/85 [1:15:39<4:57:06, 251.08s/it]"
          ]
        },
        {
          "metadata": {
            "tags": null
          },
          "name": "stdout",
          "output_type": "stream",
          "text": [
            "2022-11-10 17:22:14,722 Done\n",
            "  adding: config.json (deflated 48%)\n",
            "  adding: test_338db_predicted_aligned_error_v1.json (deflated 89%)\n",
            "  adding: test_338db_unrelaxed_rank_1_model_1_scores.json (deflated 70%)\n",
            "  adding: test_338db.a3m (deflated 59%)\n",
            "  adding: test_338db_unrelaxed_rank_1_model_1.pdb (deflated 78%)\n",
            "  adding: cite.bibtex (deflated 52%)\n",
            "  adding: test_338db_coverage.png (deflated 8%)\n",
            "  adding: test_338db_PAE.png (deflated 5%)\n",
            "  adding: test_338db_plddt.png (deflated 12%)\n"
          ]
        },
        {
          "metadata": {
            "tags": null
          },
          "name": "stderr",
          "output_type": "stream",
          "text": [
            "\r 18%|█▊        | 15/85 [1:15:39<3:51:14, 198.20s/it]"
          ]
        },
        {
          "metadata": {
            "tags": null
          },
          "name": "stdout",
          "output_type": "stream",
          "text": [
            "######################################## 15\n"
          ]
        },
        {
          "metadata": {
            "tags": null
          },
          "name": "stderr",
          "output_type": "stream",
          "text": [
            " 18%|█▊        | 15/85 [1:15:39<3:51:14, 198.20s/it]"
          ]
        },
        {
          "metadata": {
            "tags": null
          },
          "name": "stdout",
          "output_type": "stream",
          "text": [
            "2022-11-10 17:22:15,350 Found 5 citations for tools or databases\n"
          ]
        },
        {
          "metadata": {
            "tags": null
          },
          "name": "stderr",
          "output_type": "stream",
          "text": [
            " 18%|█▊        | 15/85 [1:15:44<3:51:14, 198.20s/it]"
          ]
        },
        {
          "metadata": {
            "tags": null
          },
          "name": "stdout",
          "output_type": "stream",
          "text": [
            "2022-11-10 17:22:19,959 Query 1/1: test_ab46c (length 329)\n"
          ]
        },
        {
          "metadata": {
            "tags": null
          },
          "name": "stderr",
          "output_type": "stream",
          "text": [
            "\n",
            "  0%|          | 0/150 [elapsed: 00:00 remaining: ?]\u001b[A\n",
            "SUBMIT:   0%|          | 0/150 [elapsed: 00:00 remaining: ?]\u001b[A\n",
            "COMPLETE:   0%|          | 0/150 [elapsed: 00:00 remaining: ?]\u001b[A\n",
            "COMPLETE: 100%|██████████| 150/150 [elapsed: 00:02 remaining: 00:00]\n",
            " 18%|█▊        | 15/85 [1:15:48<3:51:14, 198.20s/it]"
          ]
        },
        {
          "metadata": {
            "tags": null
          },
          "name": "stdout",
          "output_type": "stream",
          "text": [
            "2022-11-10 17:22:24,230 Running model_1\n"
          ]
        },
        {
          "metadata": {
            "tags": null
          },
          "name": "stderr",
          "output_type": "stream",
          "text": [
            " 18%|█▊        | 15/85 [1:19:23<3:51:14, 198.20s/it]"
          ]
        },
        {
          "metadata": {
            "tags": null
          },
          "name": "stdout",
          "output_type": "stream",
          "text": [
            "2022-11-10 17:25:58,800 model_1 took 205.9s (3 recycles) with pLDDT 89.5 and ptmscore 0.863\n"
          ]
        },
        {
          "metadata": {
            "tags": null
          },
          "name": "stderr",
          "output_type": "stream",
          "text": [
            " 18%|█▊        | 15/85 [1:19:38<3:51:14, 198.20s/it]"
          ]
        },
        {
          "metadata": {
            "tags": null
          },
          "name": "stdout",
          "output_type": "stream",
          "text": [
            "2022-11-10 17:26:13,875 reranking models by plddt\n"
          ]
        },
        {
          "metadata": {
            "tags": null
          },
          "name": "stderr",
          "output_type": "stream",
          "text": [
            " 18%|█▊        | 15/85 [1:19:41<3:51:14, 198.20s/it]"
          ]
        },
        {
          "metadata": {
            "tags": null
          },
          "name": "stdout",
          "output_type": "stream",
          "text": [
            "2022-11-10 17:26:16,664 Done\n",
            "  adding: config.json (deflated 48%)\n",
            "  adding: test_ab46c_predicted_aligned_error_v1.json (deflated 91%)\n",
            "  adding: test_ab46c_unrelaxed_rank_1_model_1_scores.json (deflated 73%)\n",
            "  adding: test_ab46c.a3m (deflated 65%)\n",
            "  adding: test_ab46c_unrelaxed_rank_1_model_1.pdb (deflated 78%)\n",
            "  adding: cite.bibtex (deflated 52%)\n",
            "  adding: test_ab46c_coverage.png (deflated 6%)\n",
            "  adding: test_ab46c_PAE.png (deflated 1%)\n",
            "  adding: test_ab46c_plddt.png (deflated 11%)\n"
          ]
        },
        {
          "metadata": {
            "tags": null
          },
          "name": "stderr",
          "output_type": "stream",
          "text": [
            "\r 19%|█▉        | 16/85 [1:19:41<4:03:08, 211.43s/it]"
          ]
        },
        {
          "metadata": {
            "tags": null
          },
          "name": "stdout",
          "output_type": "stream",
          "text": [
            "######################################## 16\n"
          ]
        },
        {
          "metadata": {
            "tags": null
          },
          "name": "stderr",
          "output_type": "stream",
          "text": [
            " 19%|█▉        | 16/85 [1:19:41<4:03:08, 211.43s/it]"
          ]
        },
        {
          "metadata": {
            "tags": null
          },
          "name": "stdout",
          "output_type": "stream",
          "text": [
            "2022-11-10 17:26:17,496 Found 5 citations for tools or databases\n"
          ]
        },
        {
          "metadata": {
            "tags": null
          },
          "name": "stderr",
          "output_type": "stream",
          "text": [
            " 19%|█▉        | 16/85 [1:19:46<4:03:08, 211.43s/it]"
          ]
        },
        {
          "metadata": {
            "tags": null
          },
          "name": "stdout",
          "output_type": "stream",
          "text": [
            "2022-11-10 17:26:22,111 Query 1/1: test_2ff52 (length 354)\n"
          ]
        },
        {
          "metadata": {
            "tags": null
          },
          "name": "stderr",
          "output_type": "stream",
          "text": [
            "\n",
            "  0%|          | 0/150 [elapsed: 00:00 remaining: ?]\u001b[A\n",
            "SUBMIT:   0%|          | 0/150 [elapsed: 00:00 remaining: ?]\u001b[A\n",
            "COMPLETE:   0%|          | 0/150 [elapsed: 00:00 remaining: ?]\u001b[A\n",
            "COMPLETE: 100%|██████████| 150/150 [elapsed: 00:02 remaining: 00:00]\n",
            " 19%|█▉        | 16/85 [1:19:49<4:03:08, 211.43s/it]"
          ]
        },
        {
          "metadata": {
            "tags": null
          },
          "name": "stdout",
          "output_type": "stream",
          "text": [
            "2022-11-10 17:26:25,508 Running model_1\n"
          ]
        },
        {
          "metadata": {
            "tags": null
          },
          "name": "stderr",
          "output_type": "stream",
          "text": [
            " 19%|█▉        | 16/85 [1:23:43<4:03:08, 211.43s/it]"
          ]
        },
        {
          "metadata": {
            "tags": null
          },
          "name": "stdout",
          "output_type": "stream",
          "text": [
            "2022-11-10 17:30:19,009 model_1 took 227.2s (3 recycles) with pLDDT 87 and ptmscore 0.847\n"
          ]
        },
        {
          "metadata": {
            "tags": null
          },
          "name": "stderr",
          "output_type": "stream",
          "text": [
            " 19%|█▉        | 16/85 [1:23:59<4:03:08, 211.43s/it]"
          ]
        },
        {
          "metadata": {
            "tags": null
          },
          "name": "stdout",
          "output_type": "stream",
          "text": [
            "2022-11-10 17:30:35,307 reranking models by plddt\n"
          ]
        },
        {
          "metadata": {
            "tags": null
          },
          "name": "stderr",
          "output_type": "stream",
          "text": [
            " 19%|█▉        | 16/85 [1:24:01<4:03:08, 211.43s/it]"
          ]
        },
        {
          "metadata": {
            "tags": null
          },
          "name": "stdout",
          "output_type": "stream",
          "text": [
            "2022-11-10 17:30:37,529 Done\n",
            "  adding: config.json (deflated 48%)\n",
            "  adding: test_2ff52_predicted_aligned_error_v1.json (deflated 91%)\n",
            "  adding: test_2ff52_unrelaxed_rank_1_model_1_scores.json (deflated 71%)\n",
            "  adding: test_2ff52.a3m (deflated 63%)\n",
            "  adding: test_2ff52_unrelaxed_rank_1_model_1.pdb (deflated 78%)\n",
            "  adding: cite.bibtex (deflated 52%)\n",
            "  adding: test_2ff52_coverage.png (deflated 6%)\n",
            "  adding: test_2ff52_PAE.png (deflated 1%)\n",
            "  adding: test_2ff52_plddt.png (deflated 9%)\n"
          ]
        },
        {
          "metadata": {
            "tags": null
          },
          "name": "stderr",
          "output_type": "stream",
          "text": [
            "\r 20%|██        | 17/85 [1:24:02<4:16:27, 226.29s/it]"
          ]
        },
        {
          "metadata": {
            "tags": null
          },
          "name": "stdout",
          "output_type": "stream",
          "text": [
            "######################################## 17\n"
          ]
        },
        {
          "metadata": {
            "tags": null
          },
          "name": "stderr",
          "output_type": "stream",
          "text": [
            " 20%|██        | 17/85 [1:24:02<4:16:27, 226.29s/it]"
          ]
        },
        {
          "metadata": {
            "tags": null
          },
          "name": "stdout",
          "output_type": "stream",
          "text": [
            "2022-11-10 17:30:38,346 Found 5 citations for tools or databases\n"
          ]
        },
        {
          "metadata": {
            "tags": null
          },
          "name": "stderr",
          "output_type": "stream",
          "text": [
            " 20%|██        | 17/85 [1:24:07<4:16:27, 226.29s/it]"
          ]
        },
        {
          "metadata": {
            "tags": null
          },
          "name": "stdout",
          "output_type": "stream",
          "text": [
            "2022-11-10 17:30:42,974 Query 1/1: test_46b15 (length 324)\n"
          ]
        },
        {
          "metadata": {
            "tags": null
          },
          "name": "stderr",
          "output_type": "stream",
          "text": [
            "\n",
            "  0%|          | 0/150 [elapsed: 00:00 remaining: ?]\u001b[A\n",
            "SUBMIT:   0%|          | 0/150 [elapsed: 00:00 remaining: ?]\u001b[A\n",
            "COMPLETE:   0%|          | 0/150 [elapsed: 00:00 remaining: ?]\u001b[A\n",
            "COMPLETE: 100%|██████████| 150/150 [elapsed: 00:01 remaining: 00:00]\n",
            " 20%|██        | 17/85 [1:24:08<4:16:27, 226.29s/it]"
          ]
        },
        {
          "metadata": {
            "tags": null
          },
          "name": "stdout",
          "output_type": "stream",
          "text": [
            "2022-11-10 17:30:44,372 Running model_1\n"
          ]
        },
        {
          "metadata": {
            "tags": null
          },
          "name": "stderr",
          "output_type": "stream",
          "text": [
            " 20%|██        | 17/85 [1:27:22<4:16:27, 226.29s/it]"
          ]
        },
        {
          "metadata": {
            "tags": null
          },
          "name": "stdout",
          "output_type": "stream",
          "text": [
            "2022-11-10 17:33:57,669 model_1 took 191.8s (3 recycles) with pLDDT 79.6 and ptmscore 0.526\n"
          ]
        },
        {
          "metadata": {
            "tags": null
          },
          "name": "stderr",
          "output_type": "stream",
          "text": [
            " 20%|██        | 17/85 [1:27:36<4:16:27, 226.29s/it]"
          ]
        },
        {
          "metadata": {
            "tags": null
          },
          "name": "stdout",
          "output_type": "stream",
          "text": [
            "2022-11-10 17:34:12,595 reranking models by plddt\n"
          ]
        },
        {
          "metadata": {
            "tags": null
          },
          "name": "stderr",
          "output_type": "stream",
          "text": [
            " 20%|██        | 17/85 [1:27:37<4:16:27, 226.29s/it]"
          ]
        },
        {
          "metadata": {
            "tags": null
          },
          "name": "stdout",
          "output_type": "stream",
          "text": [
            "2022-11-10 17:34:13,573 Done\n",
            "  adding: config.json (deflated 48%)\n",
            "  adding: test_46b15_predicted_aligned_error_v1.json (deflated 89%)\n",
            "  adding: test_46b15_unrelaxed_rank_1_model_1_scores.json (deflated 69%)\n",
            "  adding: test_46b15.a3m (deflated 71%)\n",
            "  adding: test_46b15_unrelaxed_rank_1_model_1.pdb (deflated 77%)\n",
            "  adding: cite.bibtex (deflated 52%)\n",
            "  adding: test_46b15_coverage.png (deflated 9%)\n",
            "  adding: test_46b15_PAE.png (deflated 1%)\n",
            "  adding: test_46b15_plddt.png (deflated 8%)\n"
          ]
        },
        {
          "metadata": {
            "tags": null
          },
          "name": "stderr",
          "output_type": "stream",
          "text": [
            "\r 21%|██        | 18/85 [1:27:38<4:09:10, 223.15s/it]"
          ]
        },
        {
          "metadata": {
            "tags": null
          },
          "name": "stdout",
          "output_type": "stream",
          "text": [
            "######################################## 18\n"
          ]
        },
        {
          "metadata": {
            "tags": null
          },
          "name": "stderr",
          "output_type": "stream",
          "text": [
            " 21%|██        | 18/85 [1:27:38<4:09:10, 223.15s/it]"
          ]
        },
        {
          "metadata": {
            "tags": null
          },
          "name": "stdout",
          "output_type": "stream",
          "text": [
            "2022-11-10 17:34:14,184 Found 5 citations for tools or databases\n"
          ]
        },
        {
          "metadata": {
            "tags": null
          },
          "name": "stderr",
          "output_type": "stream",
          "text": [
            " 21%|██        | 18/85 [1:27:43<4:09:10, 223.15s/it]"
          ]
        },
        {
          "metadata": {
            "tags": null
          },
          "name": "stdout",
          "output_type": "stream",
          "text": [
            "2022-11-10 17:34:18,818 Query 1/1: test_f7da8 (length 278)\n"
          ]
        },
        {
          "metadata": {
            "tags": null
          },
          "name": "stderr",
          "output_type": "stream",
          "text": [
            "\n",
            "  0%|          | 0/150 [elapsed: 00:00 remaining: ?]\u001b[A\n",
            "SUBMIT:   0%|          | 0/150 [elapsed: 00:00 remaining: ?]\u001b[A\n",
            "COMPLETE:   0%|          | 0/150 [elapsed: 00:00 remaining: ?]\u001b[A\n",
            "COMPLETE: 100%|██████████| 150/150 [elapsed: 00:02 remaining: 00:00]\n",
            " 21%|██        | 18/85 [1:27:45<4:09:10, 223.15s/it]"
          ]
        },
        {
          "metadata": {
            "tags": null
          },
          "name": "stdout",
          "output_type": "stream",
          "text": [
            "2022-11-10 17:34:21,484 Running model_1\n"
          ]
        },
        {
          "metadata": {
            "tags": null
          },
          "name": "stderr",
          "output_type": "stream",
          "text": [
            " 21%|██        | 18/85 [1:30:27<4:09:10, 223.15s/it]"
          ]
        },
        {
          "metadata": {
            "tags": null
          },
          "name": "stdout",
          "output_type": "stream",
          "text": [
            "2022-11-10 17:37:03,154 model_1 took 157.4s (3 recycles) with pLDDT 67.1 and ptmscore 0.334\n"
          ]
        },
        {
          "metadata": {
            "tags": null
          },
          "name": "stderr",
          "output_type": "stream",
          "text": [
            " 21%|██        | 18/85 [1:30:40<4:09:10, 223.15s/it]"
          ]
        },
        {
          "metadata": {
            "tags": null
          },
          "name": "stdout",
          "output_type": "stream",
          "text": [
            "2022-11-10 17:37:16,452 reranking models by plddt\n"
          ]
        },
        {
          "metadata": {
            "tags": null
          },
          "name": "stderr",
          "output_type": "stream",
          "text": [
            " 21%|██        | 18/85 [1:30:42<4:09:10, 223.15s/it]"
          ]
        },
        {
          "metadata": {
            "tags": null
          },
          "name": "stdout",
          "output_type": "stream",
          "text": [
            "2022-11-10 17:37:18,115 Done\n",
            "  adding: config.json (deflated 48%)\n",
            "  adding: test_f7da8_predicted_aligned_error_v1.json (deflated 89%)\n",
            "  adding: test_f7da8_unrelaxed_rank_1_model_1_scores.json (deflated 71%)\n",
            "  adding: test_f7da8.a3m (deflated 77%)\n",
            "  adding: test_f7da8_unrelaxed_rank_1_model_1.pdb (deflated 78%)\n",
            "  adding: cite.bibtex (deflated 52%)\n",
            "  adding: test_f7da8_coverage.png (deflated 9%)\n",
            "  adding: test_f7da8_PAE.png (deflated 1%)\n",
            "  adding: test_f7da8_plddt.png (deflated 7%)\n"
          ]
        },
        {
          "metadata": {
            "tags": null
          },
          "name": "stderr",
          "output_type": "stream",
          "text": [
            "\r 22%|██▏       | 19/85 [1:30:42<3:52:42, 211.56s/it]"
          ]
        },
        {
          "metadata": {
            "tags": null
          },
          "name": "stdout",
          "output_type": "stream",
          "text": [
            "######################################## 19\n"
          ]
        },
        {
          "metadata": {
            "tags": null
          },
          "name": "stderr",
          "output_type": "stream",
          "text": [
            " 22%|██▏       | 19/85 [1:30:43<3:52:42, 211.56s/it]"
          ]
        },
        {
          "metadata": {
            "tags": null
          },
          "name": "stdout",
          "output_type": "stream",
          "text": [
            "2022-11-10 17:37:18,748 Found 5 citations for tools or databases\n"
          ]
        },
        {
          "metadata": {
            "tags": null
          },
          "name": "stderr",
          "output_type": "stream",
          "text": [
            " 22%|██▏       | 19/85 [1:30:47<3:52:42, 211.56s/it]"
          ]
        },
        {
          "metadata": {
            "tags": null
          },
          "name": "stdout",
          "output_type": "stream",
          "text": [
            "2022-11-10 17:37:23,415 Query 1/1: test_85408 (length 506)\n"
          ]
        },
        {
          "metadata": {
            "tags": null
          },
          "name": "stderr",
          "output_type": "stream",
          "text": [
            "\n",
            "  0%|          | 0/150 [elapsed: 00:00 remaining: ?]\u001b[A\n",
            "SUBMIT:   0%|          | 0/150 [elapsed: 00:00 remaining: ?]\u001b[A\n",
            "COMPLETE:   0%|          | 0/150 [elapsed: 00:00 remaining: ?]\u001b[A\n",
            "COMPLETE: 100%|██████████| 150/150 [elapsed: 00:01 remaining: 00:00]\n",
            " 22%|██▏       | 19/85 [1:30:48<3:52:42, 211.56s/it]"
          ]
        },
        {
          "metadata": {
            "tags": null
          },
          "name": "stdout",
          "output_type": "stream",
          "text": [
            "2022-11-10 17:37:24,622 Running model_1\n"
          ]
        },
        {
          "metadata": {
            "tags": null
          },
          "name": "stderr",
          "output_type": "stream",
          "text": [
            " 22%|██▏       | 19/85 [1:37:27<3:52:42, 211.56s/it]"
          ]
        },
        {
          "metadata": {
            "tags": null
          },
          "name": "stdout",
          "output_type": "stream",
          "text": [
            "2022-11-10 17:44:02,689 model_1 took 396.6s (3 recycles) with pLDDT 45.5 and ptmscore 0.296\n"
          ]
        },
        {
          "metadata": {
            "tags": null
          },
          "name": "stderr",
          "output_type": "stream",
          "text": [
            " 22%|██▏       | 19/85 [1:37:50<3:52:42, 211.56s/it]"
          ]
        },
        {
          "metadata": {
            "tags": null
          },
          "name": "stdout",
          "output_type": "stream",
          "text": [
            "2022-11-10 17:44:25,754 reranking models by plddt\n"
          ]
        },
        {
          "metadata": {
            "tags": null
          },
          "name": "stderr",
          "output_type": "stream",
          "text": [
            " 22%|██▏       | 19/85 [1:37:51<3:52:42, 211.56s/it]"
          ]
        },
        {
          "metadata": {
            "tags": null
          },
          "name": "stdout",
          "output_type": "stream",
          "text": [
            "2022-11-10 17:44:26,967 Done\n",
            "  adding: config.json (deflated 48%)\n",
            "  adding: test_85408_predicted_aligned_error_v1.json (deflated 90%)\n",
            "  adding: test_85408_unrelaxed_rank_1_model_1_scores.json (deflated 73%)\n",
            "  adding: test_85408.a3m (deflated 76%)\n",
            "  adding: test_85408_unrelaxed_rank_1_model_1.pdb (deflated 78%)\n",
            "  adding: cite.bibtex (deflated 52%)\n",
            "  adding: test_85408_coverage.png (deflated 9%)\n",
            "  adding: test_85408_PAE.png (deflated 1%)\n",
            "  adding: test_85408_plddt.png (deflated 8%)\n"
          ]
        },
        {
          "metadata": {
            "tags": null
          },
          "name": "stderr",
          "output_type": "stream",
          "text": [
            "\r 24%|██▎       | 20/85 [1:37:51<4:59:55, 276.86s/it]"
          ]
        },
        {
          "metadata": {
            "tags": null
          },
          "name": "stdout",
          "output_type": "stream",
          "text": [
            "######################################## 20\n"
          ]
        },
        {
          "metadata": {
            "tags": null
          },
          "name": "stderr",
          "output_type": "stream",
          "text": [
            " 24%|██▎       | 20/85 [1:37:52<4:59:55, 276.86s/it]"
          ]
        },
        {
          "metadata": {
            "tags": null
          },
          "name": "stdout",
          "output_type": "stream",
          "text": [
            "2022-11-10 17:44:27,786 Found 5 citations for tools or databases\n"
          ]
        },
        {
          "metadata": {
            "tags": null
          },
          "name": "stderr",
          "output_type": "stream",
          "text": [
            " 24%|██▎       | 20/85 [1:37:56<4:59:55, 276.86s/it]"
          ]
        },
        {
          "metadata": {
            "tags": null
          },
          "name": "stdout",
          "output_type": "stream",
          "text": [
            "2022-11-10 17:44:32,404 Query 1/1: test_d65b5 (length 150)\n"
          ]
        },
        {
          "metadata": {
            "tags": null
          },
          "name": "stderr",
          "output_type": "stream",
          "text": [
            "\n",
            "  0%|          | 0/150 [elapsed: 00:00 remaining: ?]\u001b[A\n",
            "SUBMIT:   0%|          | 0/150 [elapsed: 00:00 remaining: ?]\u001b[A\n",
            "COMPLETE:   0%|          | 0/150 [elapsed: 00:00 remaining: ?]\u001b[A\n",
            "COMPLETE: 100%|██████████| 150/150 [elapsed: 00:01 remaining: 00:00]\n",
            " 24%|██▎       | 20/85 [1:37:58<4:59:55, 276.86s/it]"
          ]
        },
        {
          "metadata": {
            "tags": null
          },
          "name": "stdout",
          "output_type": "stream",
          "text": [
            "2022-11-10 17:44:33,850 Running model_1\n"
          ]
        },
        {
          "metadata": {
            "tags": null
          },
          "name": "stderr",
          "output_type": "stream",
          "text": [
            " 24%|██▎       | 20/85 [1:39:13<4:59:55, 276.86s/it]"
          ]
        },
        {
          "metadata": {
            "tags": null
          },
          "name": "stdout",
          "output_type": "stream",
          "text": [
            "2022-11-10 17:45:48,903 model_1 took 73.6s (3 recycles) with pLDDT 78.1 and ptmscore 0.63\n"
          ]
        },
        {
          "metadata": {
            "tags": null
          },
          "name": "stderr",
          "output_type": "stream",
          "text": [
            " 24%|██▎       | 20/85 [1:39:20<4:59:55, 276.86s/it]"
          ]
        },
        {
          "metadata": {
            "tags": null
          },
          "name": "stdout",
          "output_type": "stream",
          "text": [
            "2022-11-10 17:45:56,590 reranking models by plddt\n"
          ]
        },
        {
          "metadata": {
            "tags": null
          },
          "name": "stderr",
          "output_type": "stream",
          "text": [
            " 24%|██▎       | 20/85 [1:39:22<4:59:55, 276.86s/it]"
          ]
        },
        {
          "metadata": {
            "tags": null
          },
          "name": "stdout",
          "output_type": "stream",
          "text": [
            "2022-11-10 17:45:57,795 Done\n",
            "  adding: config.json (deflated 48%)\n",
            "  adding: test_d65b5_predicted_aligned_error_v1.json (deflated 88%)\n",
            "  adding: test_d65b5_unrelaxed_rank_1_model_1_scores.json (deflated 69%)\n",
            "  adding: test_d65b5.a3m (deflated 76%)\n",
            "  adding: test_d65b5_unrelaxed_rank_1_model_1.pdb (deflated 78%)\n",
            "  adding: cite.bibtex (deflated 52%)\n",
            "  adding: test_d65b5_coverage.png (deflated 11%)\n",
            "  adding: test_d65b5_PAE.png (deflated 3%)\n",
            "  adding: test_d65b5_plddt.png (deflated 10%)\n"
          ]
        },
        {
          "metadata": {
            "tags": null
          },
          "name": "stderr",
          "output_type": "stream",
          "text": [
            "\r 25%|██▍       | 21/85 [1:39:22<3:55:39, 220.94s/it]"
          ]
        },
        {
          "metadata": {
            "tags": null
          },
          "name": "stdout",
          "output_type": "stream",
          "text": [
            "######################################## 21\n"
          ]
        },
        {
          "metadata": {
            "tags": null
          },
          "name": "stderr",
          "output_type": "stream",
          "text": [
            " 25%|██▍       | 21/85 [1:39:22<3:55:39, 220.94s/it]"
          ]
        },
        {
          "metadata": {
            "tags": null
          },
          "name": "stdout",
          "output_type": "stream",
          "text": [
            "2022-11-10 17:45:58,401 Found 5 citations for tools or databases\n"
          ]
        },
        {
          "metadata": {
            "tags": null
          },
          "name": "stderr",
          "output_type": "stream",
          "text": [
            " 25%|██▍       | 21/85 [1:39:27<3:55:39, 220.94s/it]"
          ]
        },
        {
          "metadata": {
            "tags": null
          },
          "name": "stdout",
          "output_type": "stream",
          "text": [
            "2022-11-10 17:46:03,524 Query 1/1: test_35045 (length 448)\n"
          ]
        },
        {
          "metadata": {
            "tags": null
          },
          "name": "stderr",
          "output_type": "stream",
          "text": [
            "\n",
            "  0%|          | 0/150 [elapsed: 00:00 remaining: ?]\u001b[A\n",
            "SUBMIT:   0%|          | 0/150 [elapsed: 00:00 remaining: ?]\u001b[A\n",
            "COMPLETE:   0%|          | 0/150 [elapsed: 00:00 remaining: ?]\u001b[A\n",
            "COMPLETE: 100%|██████████| 150/150 [elapsed: 00:01 remaining: 00:00]\n",
            " 25%|██▍       | 21/85 [1:39:30<3:55:39, 220.94s/it]"
          ]
        },
        {
          "metadata": {
            "tags": null
          },
          "name": "stdout",
          "output_type": "stream",
          "text": [
            "2022-11-10 17:46:05,728 Running model_1\n"
          ]
        },
        {
          "metadata": {
            "tags": null
          },
          "name": "stderr",
          "output_type": "stream",
          "text": [
            " 25%|██▍       | 21/85 [1:44:52<3:55:39, 220.94s/it]"
          ]
        },
        {
          "metadata": {
            "tags": null
          },
          "name": "stdout",
          "output_type": "stream",
          "text": [
            "2022-11-10 17:51:27,732 model_1 took 319.1s (3 recycles) with pLDDT 86.4 and ptmscore 0.669\n"
          ]
        },
        {
          "metadata": {
            "tags": null
          },
          "name": "stderr",
          "output_type": "stream",
          "text": [
            " 25%|██▍       | 21/85 [1:45:12<3:55:39, 220.94s/it]"
          ]
        },
        {
          "metadata": {
            "tags": null
          },
          "name": "stdout",
          "output_type": "stream",
          "text": [
            "2022-11-10 17:51:48,353 reranking models by plddt\n"
          ]
        },
        {
          "metadata": {
            "tags": null
          },
          "name": "stderr",
          "output_type": "stream",
          "text": [
            " 25%|██▍       | 21/85 [1:45:14<3:55:39, 220.94s/it]"
          ]
        },
        {
          "metadata": {
            "tags": null
          },
          "name": "stdout",
          "output_type": "stream",
          "text": [
            "2022-11-10 17:51:49,802 Done\n",
            "  adding: config.json (deflated 48%)\n",
            "  adding: test_35045_predicted_aligned_error_v1.json (deflated 90%)\n",
            "  adding: test_35045_unrelaxed_rank_1_model_1_scores.json (deflated 70%)\n",
            "  adding: test_35045.a3m (deflated 79%)\n",
            "  adding: test_35045_unrelaxed_rank_1_model_1.pdb (deflated 78%)\n",
            "  adding: cite.bibtex (deflated 52%)\n",
            "  adding: test_35045_coverage.png (deflated 8%)\n",
            "  adding: test_35045_PAE.png (deflated 1%)\n",
            "  adding: test_35045_plddt.png (deflated 7%)\n"
          ]
        },
        {
          "metadata": {
            "tags": null
          },
          "name": "stderr",
          "output_type": "stream",
          "text": [
            "\r 26%|██▌       | 22/85 [1:45:14<4:33:22, 260.35s/it]"
          ]
        },
        {
          "metadata": {
            "tags": null
          },
          "name": "stdout",
          "output_type": "stream",
          "text": [
            "######################################## 22\n"
          ]
        },
        {
          "metadata": {
            "tags": null
          },
          "name": "stderr",
          "output_type": "stream",
          "text": [
            " 26%|██▌       | 22/85 [1:45:14<4:33:22, 260.35s/it]"
          ]
        },
        {
          "metadata": {
            "tags": null
          },
          "name": "stdout",
          "output_type": "stream",
          "text": [
            "2022-11-10 17:51:50,615 Found 5 citations for tools or databases\n"
          ]
        },
        {
          "metadata": {
            "tags": null
          },
          "name": "stderr",
          "output_type": "stream",
          "text": [
            " 26%|██▌       | 22/85 [1:45:19<4:33:22, 260.35s/it]"
          ]
        },
        {
          "metadata": {
            "tags": null
          },
          "name": "stdout",
          "output_type": "stream",
          "text": [
            "2022-11-10 17:51:55,225 Query 1/1: test_342b4 (length 155)\n"
          ]
        },
        {
          "metadata": {
            "tags": null
          },
          "name": "stderr",
          "output_type": "stream",
          "text": [
            "\n",
            "  0%|          | 0/150 [elapsed: 00:00 remaining: ?]\u001b[A\n",
            "SUBMIT:   0%|          | 0/150 [elapsed: 00:00 remaining: ?]\u001b[A\n",
            "COMPLETE:   0%|          | 0/150 [elapsed: 00:00 remaining: ?]\u001b[A\n",
            "COMPLETE: 100%|██████████| 150/150 [elapsed: 00:02 remaining: 00:00]\n",
            " 26%|██▌       | 22/85 [1:45:22<4:33:22, 260.35s/it]"
          ]
        },
        {
          "metadata": {
            "tags": null
          },
          "name": "stdout",
          "output_type": "stream",
          "text": [
            "2022-11-10 17:51:57,672 Running model_1\n"
          ]
        },
        {
          "metadata": {
            "tags": null
          },
          "name": "stderr",
          "output_type": "stream",
          "text": [
            " 26%|██▌       | 22/85 [1:46:41<4:33:22, 260.35s/it]"
          ]
        },
        {
          "metadata": {
            "tags": null
          },
          "name": "stdout",
          "output_type": "stream",
          "text": [
            "2022-11-10 17:53:17,092 model_1 took 76.5s (3 recycles) with pLDDT 84.4 and ptmscore 0.756\n"
          ]
        },
        {
          "metadata": {
            "tags": null
          },
          "name": "stderr",
          "output_type": "stream",
          "text": [
            " 26%|██▌       | 22/85 [1:46:48<4:33:22, 260.35s/it]"
          ]
        },
        {
          "metadata": {
            "tags": null
          },
          "name": "stdout",
          "output_type": "stream",
          "text": [
            "2022-11-10 17:53:24,196 reranking models by plddt\n"
          ]
        },
        {
          "metadata": {
            "tags": null
          },
          "name": "stderr",
          "output_type": "stream",
          "text": [
            " 26%|██▌       | 22/85 [1:46:49<4:33:22, 260.35s/it]"
          ]
        },
        {
          "metadata": {
            "tags": null
          },
          "name": "stdout",
          "output_type": "stream",
          "text": [
            "2022-11-10 17:53:25,443 Done\n",
            "  adding: config.json (deflated 48%)\n",
            "  adding: test_342b4_predicted_aligned_error_v1.json (deflated 89%)\n",
            "  adding: test_342b4_unrelaxed_rank_1_model_1_scores.json (deflated 70%)\n",
            "  adding: test_342b4.a3m (deflated 61%)\n",
            "  adding: test_342b4_unrelaxed_rank_1_model_1.pdb (deflated 78%)\n",
            "  adding: cite.bibtex (deflated 52%)\n",
            "  adding: test_342b4_coverage.png (deflated 6%)\n",
            "  adding: test_342b4_PAE.png (deflated 4%)\n",
            "  adding: test_342b4_plddt.png (deflated 11%)\n"
          ]
        },
        {
          "metadata": {
            "tags": null
          },
          "name": "stderr",
          "output_type": "stream",
          "text": [
            "\r 27%|██▋       | 23/85 [1:46:50<3:37:53, 210.87s/it]"
          ]
        },
        {
          "metadata": {
            "tags": null
          },
          "name": "stdout",
          "output_type": "stream",
          "text": [
            "######################################## 23\n"
          ]
        },
        {
          "metadata": {
            "tags": null
          },
          "name": "stderr",
          "output_type": "stream",
          "text": [
            " 27%|██▋       | 23/85 [1:46:50<3:37:53, 210.87s/it]"
          ]
        },
        {
          "metadata": {
            "tags": null
          },
          "name": "stdout",
          "output_type": "stream",
          "text": [
            "2022-11-10 17:53:26,065 Found 5 citations for tools or databases\n"
          ]
        },
        {
          "metadata": {
            "tags": null
          },
          "name": "stderr",
          "output_type": "stream",
          "text": [
            " 27%|██▋       | 23/85 [1:46:55<3:37:53, 210.87s/it]"
          ]
        },
        {
          "metadata": {
            "tags": null
          },
          "name": "stdout",
          "output_type": "stream",
          "text": [
            "2022-11-10 17:53:30,725 Query 1/1: test_f0c24 (length 477)\n"
          ]
        },
        {
          "metadata": {
            "tags": null
          },
          "name": "stderr",
          "output_type": "stream",
          "text": [
            "\n",
            "  0%|          | 0/150 [elapsed: 00:00 remaining: ?]\u001b[A\n",
            "SUBMIT:   0%|          | 0/150 [elapsed: 00:00 remaining: ?]\u001b[A\n",
            "COMPLETE:   0%|          | 0/150 [elapsed: 00:00 remaining: ?]\u001b[A\n",
            "COMPLETE: 100%|██████████| 150/150 [elapsed: 00:01 remaining: 00:00]\n",
            " 27%|██▋       | 23/85 [1:46:57<3:37:53, 210.87s/it]"
          ]
        },
        {
          "metadata": {
            "tags": null
          },
          "name": "stdout",
          "output_type": "stream",
          "text": [
            "2022-11-10 17:53:32,766 Running model_1\n"
          ]
        },
        {
          "metadata": {
            "tags": null
          },
          "name": "stderr",
          "output_type": "stream",
          "text": [
            " 27%|██▋       | 23/85 [1:53:03<3:37:53, 210.87s/it]"
          ]
        },
        {
          "metadata": {
            "tags": null
          },
          "name": "stdout",
          "output_type": "stream",
          "text": [
            "2022-11-10 17:59:39,497 model_1 took 363.7s (3 recycles) with pLDDT 84.9 and ptmscore 0.647\n"
          ]
        },
        {
          "metadata": {
            "tags": null
          },
          "name": "stderr",
          "output_type": "stream",
          "text": [
            " 27%|██▋       | 23/85 [1:53:25<3:37:53, 210.87s/it]"
          ]
        },
        {
          "metadata": {
            "tags": null
          },
          "name": "stdout",
          "output_type": "stream",
          "text": [
            "2022-11-10 18:00:01,407 reranking models by plddt\n"
          ]
        },
        {
          "metadata": {
            "tags": null
          },
          "name": "stderr",
          "output_type": "stream",
          "text": [
            " 27%|██▋       | 23/85 [1:53:27<3:37:53, 210.87s/it]"
          ]
        },
        {
          "metadata": {
            "tags": null
          },
          "name": "stdout",
          "output_type": "stream",
          "text": [
            "2022-11-10 18:00:02,922 Done\n",
            "  adding: config.json (deflated 48%)\n",
            "  adding: test_f0c24_predicted_aligned_error_v1.json (deflated 90%)\n",
            "  adding: test_f0c24_unrelaxed_rank_1_model_1_scores.json (deflated 71%)\n",
            "  adding: test_f0c24.a3m (deflated 79%)\n",
            "  adding: test_f0c24_unrelaxed_rank_1_model_1.pdb (deflated 78%)\n",
            "  adding: cite.bibtex (deflated 52%)\n",
            "  adding: test_f0c24_coverage.png (deflated 8%)\n",
            "  adding: test_f0c24_PAE.png (deflated 1%)\n",
            "  adding: test_f0c24_plddt.png (deflated 8%)\n"
          ]
        },
        {
          "metadata": {
            "tags": null
          },
          "name": "stderr",
          "output_type": "stream",
          "text": [
            "\r 28%|██▊       | 24/85 [1:53:27<4:31:22, 266.92s/it]"
          ]
        },
        {
          "metadata": {
            "tags": null
          },
          "name": "stdout",
          "output_type": "stream",
          "text": [
            "######################################## 24\n"
          ]
        },
        {
          "metadata": {
            "tags": null
          },
          "name": "stderr",
          "output_type": "stream",
          "text": [
            " 28%|██▊       | 24/85 [1:53:28<4:31:22, 266.92s/it]"
          ]
        },
        {
          "metadata": {
            "tags": null
          },
          "name": "stdout",
          "output_type": "stream",
          "text": [
            "2022-11-10 18:00:03,753 Found 5 citations for tools or databases\n"
          ]
        },
        {
          "metadata": {
            "tags": null
          },
          "name": "stderr",
          "output_type": "stream",
          "text": [
            " 28%|██▊       | 24/85 [1:53:32<4:31:22, 266.92s/it]"
          ]
        },
        {
          "metadata": {
            "tags": null
          },
          "name": "stdout",
          "output_type": "stream",
          "text": [
            "2022-11-10 18:00:08,466 Query 1/1: test_36d17 (length 352)\n"
          ]
        },
        {
          "metadata": {
            "tags": null
          },
          "name": "stderr",
          "output_type": "stream",
          "text": [
            "\n",
            "  0%|          | 0/150 [elapsed: 00:00 remaining: ?]\u001b[A\n",
            "SUBMIT:   0%|          | 0/150 [elapsed: 00:00 remaining: ?]\u001b[A\n",
            "COMPLETE:   0%|          | 0/150 [elapsed: 00:00 remaining: ?]\u001b[A\n",
            "COMPLETE: 100%|██████████| 150/150 [elapsed: 00:03 remaining: 00:00]\n",
            " 28%|██▊       | 24/85 [1:53:37<4:31:22, 266.92s/it]"
          ]
        },
        {
          "metadata": {
            "tags": null
          },
          "name": "stdout",
          "output_type": "stream",
          "text": [
            "2022-11-10 18:00:13,570 Running model_1\n"
          ]
        },
        {
          "metadata": {
            "tags": null
          },
          "name": "stderr",
          "output_type": "stream",
          "text": [
            " 28%|██▊       | 24/85 [1:57:27<4:31:22, 266.92s/it]"
          ]
        },
        {
          "metadata": {
            "tags": null
          },
          "name": "stdout",
          "output_type": "stream",
          "text": [
            "2022-11-10 18:04:02,850 model_1 took 218.0s (3 recycles) with pLDDT 88.9 and ptmscore 0.88\n"
          ]
        },
        {
          "metadata": {
            "tags": null
          },
          "name": "stderr",
          "output_type": "stream",
          "text": [
            " 28%|██▊       | 24/85 [1:57:43<4:31:22, 266.92s/it]"
          ]
        },
        {
          "metadata": {
            "tags": null
          },
          "name": "stdout",
          "output_type": "stream",
          "text": [
            "2022-11-10 18:04:19,192 reranking models by plddt\n"
          ]
        },
        {
          "metadata": {
            "tags": null
          },
          "name": "stderr",
          "output_type": "stream",
          "text": [
            " 28%|██▊       | 24/85 [1:57:47<4:31:22, 266.92s/it]"
          ]
        },
        {
          "metadata": {
            "tags": null
          },
          "name": "stdout",
          "output_type": "stream",
          "text": [
            "2022-11-10 18:04:22,721 Done\n",
            "  adding: config.json (deflated 48%)\n",
            "  adding: test_36d17_predicted_aligned_error_v1.json (deflated 91%)\n",
            "  adding: test_36d17_unrelaxed_rank_1_model_1_scores.json (deflated 71%)\n",
            "  adding: test_36d17.a3m (deflated 62%)\n",
            "  adding: test_36d17_unrelaxed_rank_1_model_1.pdb (deflated 78%)\n",
            "  adding: cite.bibtex (deflated 52%)\n",
            "  adding: test_36d17_coverage.png (deflated 5%)\n",
            "  adding: test_36d17_PAE.png (deflated 1%)\n",
            "  adding: test_36d17_plddt.png (deflated 9%)\n"
          ]
        },
        {
          "metadata": {
            "tags": null
          },
          "name": "stderr",
          "output_type": "stream",
          "text": [
            "\r 29%|██▉       | 25/85 [1:57:47<4:24:49, 264.82s/it]"
          ]
        },
        {
          "metadata": {
            "tags": null
          },
          "name": "stdout",
          "output_type": "stream",
          "text": [
            "######################################## 25\n"
          ]
        },
        {
          "metadata": {
            "tags": null
          },
          "name": "stderr",
          "output_type": "stream",
          "text": [
            " 29%|██▉       | 25/85 [1:57:48<4:24:49, 264.82s/it]"
          ]
        },
        {
          "metadata": {
            "tags": null
          },
          "name": "stdout",
          "output_type": "stream",
          "text": [
            "2022-11-10 18:04:23,664 Found 5 citations for tools or databases\n"
          ]
        },
        {
          "metadata": {
            "tags": null
          },
          "name": "stderr",
          "output_type": "stream",
          "text": [
            " 29%|██▉       | 25/85 [1:57:52<4:24:49, 264.82s/it]"
          ]
        },
        {
          "metadata": {
            "tags": null
          },
          "name": "stdout",
          "output_type": "stream",
          "text": [
            "2022-11-10 18:04:28,302 Query 1/1: test_ee447 (length 449)\n"
          ]
        },
        {
          "metadata": {
            "tags": null
          },
          "name": "stderr",
          "output_type": "stream",
          "text": [
            "\n",
            "  0%|          | 0/150 [elapsed: 00:00 remaining: ?]\u001b[A\n",
            "SUBMIT:   0%|          | 0/150 [elapsed: 00:00 remaining: ?]\u001b[A\n",
            "COMPLETE:   0%|          | 0/150 [elapsed: 00:00 remaining: ?]\u001b[A\n",
            "COMPLETE: 100%|██████████| 150/150 [elapsed: 00:01 remaining: 00:00]\n",
            " 29%|██▉       | 25/85 [1:57:54<4:24:49, 264.82s/it]"
          ]
        },
        {
          "metadata": {
            "tags": null
          },
          "name": "stdout",
          "output_type": "stream",
          "text": [
            "2022-11-10 18:04:30,305 Running model_1\n"
          ]
        },
        {
          "output_type": "stream",
          "name": "stderr",
          "text": [
            " 29%|██▉       | 25/85 [2:03:27<4:24:49, 264.82s/it]"
          ]
        },
        {
          "output_type": "stream",
          "name": "stdout",
          "text": [
            "2022-11-10 18:10:03,108 model_1 took 330.2s (3 recycles) with pLDDT 91.1 and ptmscore 0.687\n"
          ]
        },
        {
          "output_type": "stream",
          "name": "stderr",
          "text": [
            " 29%|██▉       | 25/85 [2:03:48<4:24:49, 264.82s/it]"
          ]
        },
        {
          "output_type": "stream",
          "name": "stdout",
          "text": [
            "2022-11-10 18:10:23,672 reranking models by plddt\n"
          ]
        },
        {
          "output_type": "stream",
          "name": "stderr",
          "text": [
            " 29%|██▉       | 25/85 [2:03:49<4:24:49, 264.82s/it]"
          ]
        },
        {
          "output_type": "stream",
          "name": "stdout",
          "text": [
            "2022-11-10 18:10:25,024 Done\n",
            "  adding: config.json (deflated 48%)\n",
            "  adding: test_ee447_predicted_aligned_error_v1.json (deflated 91%)\n",
            "  adding: test_ee447_unrelaxed_rank_1_model_1_scores.json (deflated 71%)\n",
            "  adding: test_ee447.a3m (deflated 78%)\n",
            "  adding: test_ee447_unrelaxed_rank_1_model_1.pdb (deflated 78%)\n",
            "  adding: cite.bibtex (deflated 52%)\n",
            "  adding: test_ee447_coverage.png (deflated 9%)\n",
            "  adding: test_ee447_PAE.png (deflated 1%)\n",
            "  adding: test_ee447_plddt.png (deflated 8%)\n"
          ]
        },
        {
          "output_type": "stream",
          "name": "stderr",
          "text": [
            "\r 31%|███       | 26/85 [2:03:49<4:49:08, 294.03s/it]"
          ]
        },
        {
          "output_type": "stream",
          "name": "stdout",
          "text": [
            "######################################## 26\n"
          ]
        },
        {
          "output_type": "stream",
          "name": "stderr",
          "text": [
            " 31%|███       | 26/85 [2:03:50<4:49:08, 294.03s/it]"
          ]
        },
        {
          "output_type": "stream",
          "name": "stdout",
          "text": [
            "2022-11-10 18:10:25,869 Found 5 citations for tools or databases\n"
          ]
        },
        {
          "output_type": "stream",
          "name": "stderr",
          "text": [
            " 31%|███       | 26/85 [2:03:54<4:49:08, 294.03s/it]"
          ]
        },
        {
          "output_type": "stream",
          "name": "stdout",
          "text": [
            "2022-11-10 18:10:30,506 Query 1/1: test_30ad4 (length 448)\n"
          ]
        },
        {
          "output_type": "stream",
          "name": "stderr",
          "text": [
            "\n",
            "  0%|          | 0/150 [elapsed: 00:00 remaining: ?]\u001b[A\n",
            "SUBMIT:   0%|          | 0/150 [elapsed: 00:00 remaining: ?]\u001b[A\n",
            "COMPLETE:   0%|          | 0/150 [elapsed: 00:00 remaining: ?]\u001b[A\n",
            "COMPLETE: 100%|██████████| 150/150 [elapsed: 00:01 remaining: 00:00]\n",
            " 31%|███       | 26/85 [2:03:56<4:49:08, 294.03s/it]"
          ]
        },
        {
          "output_type": "stream",
          "name": "stdout",
          "text": [
            "2022-11-10 18:10:32,432 Running model_1\n"
          ]
        },
        {
          "output_type": "stream",
          "name": "stderr",
          "text": [
            " 31%|███       | 26/85 [2:08:53<4:49:08, 294.03s/it]"
          ]
        },
        {
          "output_type": "stream",
          "name": "stdout",
          "text": [
            "2022-11-10 18:15:28,765 model_1 took 293.8s (3 recycles) with pLDDT 90.6 and ptmscore 0.691\n"
          ]
        },
        {
          "output_type": "stream",
          "name": "stderr",
          "text": [
            " 31%|███       | 26/85 [2:09:03<4:49:08, 294.03s/it]"
          ]
        },
        {
          "output_type": "stream",
          "name": "stdout",
          "text": [
            "2022-11-10 18:15:38,662 reranking models by plddt\n"
          ]
        },
        {
          "output_type": "stream",
          "name": "stderr",
          "text": [
            " 31%|███       | 26/85 [2:09:04<4:49:08, 294.03s/it]"
          ]
        },
        {
          "output_type": "stream",
          "name": "stdout",
          "text": [
            "2022-11-10 18:15:39,981 Done\n",
            "  adding: config.json (deflated 48%)\n",
            "  adding: test_30ad4_predicted_aligned_error_v1.json (deflated 90%)\n",
            "  adding: test_30ad4_unrelaxed_rank_1_model_1_scores.json (deflated 71%)\n",
            "  adding: test_30ad4.a3m (deflated 77%)\n",
            "  adding: test_30ad4_unrelaxed_rank_1_model_1.pdb (deflated 78%)\n",
            "  adding: cite.bibtex (deflated 52%)\n",
            "  adding: test_30ad4_coverage.png (deflated 8%)\n",
            "  adding: test_30ad4_PAE.png (deflated 1%)\n",
            "  adding: test_30ad4_plddt.png (deflated 8%)\n"
          ]
        },
        {
          "output_type": "stream",
          "name": "stderr",
          "text": [
            "\r 32%|███▏      | 27/85 [2:09:04<4:50:17, 300.31s/it]"
          ]
        },
        {
          "output_type": "stream",
          "name": "stdout",
          "text": [
            "######################################## 27\n"
          ]
        },
        {
          "output_type": "stream",
          "name": "stderr",
          "text": [
            " 32%|███▏      | 27/85 [2:09:05<4:50:17, 300.31s/it]"
          ]
        },
        {
          "output_type": "stream",
          "name": "stdout",
          "text": [
            "2022-11-10 18:15:40,804 Found 5 citations for tools or databases\n"
          ]
        },
        {
          "output_type": "stream",
          "name": "stderr",
          "text": [
            " 32%|███▏      | 27/85 [2:09:09<4:50:17, 300.31s/it]"
          ]
        },
        {
          "output_type": "stream",
          "name": "stdout",
          "text": [
            "2022-11-10 18:15:45,407 Query 1/1: test_bca53 (length 345)\n"
          ]
        },
        {
          "output_type": "stream",
          "name": "stderr",
          "text": [
            "\n",
            "  0%|          | 0/150 [elapsed: 00:00 remaining: ?]\u001b[A\n",
            "SUBMIT:   0%|          | 0/150 [elapsed: 00:00 remaining: ?]\u001b[A\n",
            "COMPLETE:   0%|          | 0/150 [elapsed: 00:00 remaining: ?]\u001b[A\n",
            "COMPLETE: 100%|██████████| 150/150 [elapsed: 00:02 remaining: 00:00]\n",
            " 32%|███▏      | 27/85 [2:09:13<4:50:17, 300.31s/it]"
          ]
        },
        {
          "output_type": "stream",
          "name": "stdout",
          "text": [
            "2022-11-10 18:15:49,137 Running model_1\n"
          ]
        },
        {
          "output_type": "stream",
          "name": "stderr",
          "text": [
            " 32%|███▏      | 27/85 [2:12:59<4:50:17, 300.31s/it]"
          ]
        },
        {
          "output_type": "stream",
          "name": "stdout",
          "text": [
            "2022-11-10 18:19:34,896 model_1 took 219.1s (3 recycles) with pLDDT 93 and ptmscore 0.886\n"
          ]
        },
        {
          "output_type": "stream",
          "name": "stderr",
          "text": [
            " 32%|███▏      | 27/85 [2:13:14<4:50:17, 300.31s/it]"
          ]
        },
        {
          "output_type": "stream",
          "name": "stdout",
          "text": [
            "2022-11-10 18:19:50,586 reranking models by plddt\n"
          ]
        },
        {
          "output_type": "stream",
          "name": "stderr",
          "text": [
            " 32%|███▏      | 27/85 [2:13:17<4:50:17, 300.31s/it]"
          ]
        },
        {
          "output_type": "stream",
          "name": "stdout",
          "text": [
            "2022-11-10 18:19:52,834 Done\n",
            "  adding: config.json (deflated 48%)\n",
            "  adding: test_bca53_predicted_aligned_error_v1.json (deflated 91%)\n",
            "  adding: test_bca53_unrelaxed_rank_1_model_1_scores.json (deflated 71%)\n",
            "  adding: test_bca53.a3m (deflated 60%)\n",
            "  adding: test_bca53_unrelaxed_rank_1_model_1.pdb (deflated 78%)\n",
            "  adding: cite.bibtex (deflated 52%)\n",
            "  adding: test_bca53_coverage.png (deflated 5%)\n",
            "  adding: test_bca53_PAE.png (deflated 1%)\n",
            "  adding: test_bca53_plddt.png (deflated 10%)\n"
          ]
        },
        {
          "output_type": "stream",
          "name": "stderr",
          "text": [
            "\r 33%|███▎      | 28/85 [2:13:17<4:31:46, 286.07s/it]"
          ]
        },
        {
          "output_type": "stream",
          "name": "stdout",
          "text": [
            "######################################## 28\n"
          ]
        },
        {
          "output_type": "stream",
          "name": "stderr",
          "text": [
            " 33%|███▎      | 28/85 [2:13:18<4:31:46, 286.07s/it]"
          ]
        },
        {
          "output_type": "stream",
          "name": "stdout",
          "text": [
            "2022-11-10 18:19:53,676 Found 5 citations for tools or databases\n"
          ]
        },
        {
          "output_type": "stream",
          "name": "stderr",
          "text": [
            " 33%|███▎      | 28/85 [2:13:22<4:31:46, 286.07s/it]"
          ]
        },
        {
          "output_type": "stream",
          "name": "stdout",
          "text": [
            "2022-11-10 18:19:58,381 Query 1/1: test_a942a (length 346)\n"
          ]
        },
        {
          "output_type": "stream",
          "name": "stderr",
          "text": [
            "\n",
            "  0%|          | 0/150 [elapsed: 00:00 remaining: ?]\u001b[A\n",
            "SUBMIT:   0%|          | 0/150 [elapsed: 00:00 remaining: ?]\u001b[A\n",
            "COMPLETE:   0%|          | 0/150 [elapsed: 00:00 remaining: ?]\u001b[A\n",
            "COMPLETE: 100%|██████████| 150/150 [elapsed: 00:02 remaining: 00:00]\n",
            " 33%|███▎      | 28/85 [2:13:25<4:31:46, 286.07s/it]"
          ]
        },
        {
          "output_type": "stream",
          "name": "stdout",
          "text": [
            "2022-11-10 18:20:01,033 Running model_1\n"
          ]
        },
        {
          "output_type": "stream",
          "name": "stderr",
          "text": [
            " 33%|███▎      | 28/85 [2:17:10<4:31:46, 286.07s/it]"
          ]
        },
        {
          "output_type": "stream",
          "name": "stdout",
          "text": [
            "2022-11-10 18:23:45,808 model_1 took 220.7s (3 recycles) with pLDDT 95.9 and ptmscore 0.93\n"
          ]
        },
        {
          "output_type": "stream",
          "name": "stderr",
          "text": [
            " 33%|███▎      | 28/85 [2:17:26<4:31:46, 286.07s/it]"
          ]
        },
        {
          "output_type": "stream",
          "name": "stdout",
          "text": [
            "2022-11-10 18:24:01,786 reranking models by plddt\n"
          ]
        },
        {
          "output_type": "stream",
          "name": "stderr",
          "text": [
            " 33%|███▎      | 28/85 [2:17:27<4:31:46, 286.07s/it]"
          ]
        },
        {
          "output_type": "stream",
          "name": "stdout",
          "text": [
            "2022-11-10 18:24:03,372 Done\n",
            "  adding: config.json (deflated 48%)\n",
            "  adding: test_a942a_predicted_aligned_error_v1.json (deflated 92%)\n",
            "  adding: test_a942a_unrelaxed_rank_1_model_1_scores.json (deflated 73%)\n",
            "  adding: test_a942a.a3m (deflated 67%)\n",
            "  adding: test_a942a_unrelaxed_rank_1_model_1.pdb (deflated 78%)\n",
            "  adding: cite.bibtex (deflated 52%)\n",
            "  adding: test_a942a_coverage.png (deflated 6%)\n",
            "  adding: test_a942a_PAE.png (deflated 1%)\n",
            "  adding: test_a942a_plddt.png (deflated 12%)\n"
          ]
        },
        {
          "output_type": "stream",
          "name": "stderr",
          "text": [
            "\r 34%|███▍      | 29/85 [2:17:28<4:17:01, 275.38s/it]"
          ]
        },
        {
          "output_type": "stream",
          "name": "stdout",
          "text": [
            "######################################## 29\n"
          ]
        },
        {
          "output_type": "stream",
          "name": "stderr",
          "text": [
            " 34%|███▍      | 29/85 [2:17:28<4:17:01, 275.38s/it]"
          ]
        },
        {
          "output_type": "stream",
          "name": "stdout",
          "text": [
            "2022-11-10 18:24:04,109 Found 5 citations for tools or databases\n"
          ]
        },
        {
          "output_type": "stream",
          "name": "stderr",
          "text": [
            " 34%|███▍      | 29/85 [2:17:33<4:17:01, 275.38s/it]"
          ]
        },
        {
          "output_type": "stream",
          "name": "stdout",
          "text": [
            "2022-11-10 18:24:08,671 Query 1/1: test_1e44e (length 330)\n"
          ]
        },
        {
          "output_type": "stream",
          "name": "stderr",
          "text": [
            "\n",
            "  0%|          | 0/150 [elapsed: 00:00 remaining: ?]\u001b[A\n",
            "SUBMIT:   0%|          | 0/150 [elapsed: 00:00 remaining: ?]\u001b[A\n",
            "COMPLETE:   0%|          | 0/150 [elapsed: 00:00 remaining: ?]\u001b[A\n",
            "COMPLETE: 100%|██████████| 150/150 [elapsed: 00:01 remaining: 00:00]\n",
            " 34%|███▍      | 29/85 [2:17:34<4:17:01, 275.38s/it]"
          ]
        },
        {
          "output_type": "stream",
          "name": "stdout",
          "text": [
            "2022-11-10 18:24:10,087 Running model_1\n"
          ]
        },
        {
          "output_type": "stream",
          "name": "stderr",
          "text": [
            " 34%|███▍      | 29/85 [2:20:57<4:17:01, 275.38s/it]"
          ]
        },
        {
          "output_type": "stream",
          "name": "stdout",
          "text": [
            "2022-11-10 18:27:33,253 model_1 took 201.2s (3 recycles) with pLDDT 85.6 and ptmscore 0.781\n"
          ]
        },
        {
          "output_type": "stream",
          "name": "stderr",
          "text": [
            " 34%|███▍      | 29/85 [2:21:12<4:17:01, 275.38s/it]"
          ]
        },
        {
          "output_type": "stream",
          "name": "stdout",
          "text": [
            "2022-11-10 18:27:48,325 reranking models by plddt\n"
          ]
        },
        {
          "output_type": "stream",
          "name": "stderr",
          "text": [
            " 34%|███▍      | 29/85 [2:21:13<4:17:01, 275.38s/it]"
          ]
        },
        {
          "output_type": "stream",
          "name": "stdout",
          "text": [
            "2022-11-10 18:27:49,308 Done\n",
            "  adding: config.json (deflated 48%)\n",
            "  adding: test_1e44e_predicted_aligned_error_v1.json (deflated 90%)\n",
            "  adding: test_1e44e_unrelaxed_rank_1_model_1_scores.json (deflated 70%)\n",
            "  adding: test_1e44e.a3m (deflated 69%)\n",
            "  adding: test_1e44e_unrelaxed_rank_1_model_1.pdb (deflated 78%)\n",
            "  adding: cite.bibtex (deflated 52%)\n",
            "  adding: test_1e44e_coverage.png (deflated 9%)\n",
            "  adding: test_1e44e_PAE.png (deflated 1%)\n",
            "  adding: test_1e44e_plddt.png (deflated 9%)\n"
          ]
        },
        {
          "output_type": "stream",
          "name": "stderr",
          "text": [
            "\r 35%|███▌      | 30/85 [2:21:14<3:58:48, 260.51s/it]"
          ]
        },
        {
          "output_type": "stream",
          "name": "stdout",
          "text": [
            "######################################## 30\n"
          ]
        },
        {
          "output_type": "stream",
          "name": "stderr",
          "text": [
            " 35%|███▌      | 30/85 [2:21:14<3:58:48, 260.51s/it]"
          ]
        },
        {
          "output_type": "stream",
          "name": "stdout",
          "text": [
            "2022-11-10 18:27:49,937 Found 5 citations for tools or databases\n"
          ]
        },
        {
          "output_type": "stream",
          "name": "stderr",
          "text": [
            " 35%|███▌      | 30/85 [2:21:18<3:58:48, 260.51s/it]"
          ]
        },
        {
          "output_type": "stream",
          "name": "stdout",
          "text": [
            "2022-11-10 18:27:54,571 Query 1/1: test_e7dac (length 455)\n"
          ]
        },
        {
          "output_type": "stream",
          "name": "stderr",
          "text": [
            "\n",
            "  0%|          | 0/150 [elapsed: 00:00 remaining: ?]\u001b[A\n",
            "SUBMIT:   0%|          | 0/150 [elapsed: 00:00 remaining: ?]\u001b[A\n",
            "COMPLETE:   0%|          | 0/150 [elapsed: 00:00 remaining: ?]\u001b[A\n",
            "COMPLETE: 100%|██████████| 150/150 [elapsed: 00:01 remaining: 00:00]\n",
            " 35%|███▌      | 30/85 [2:21:20<3:58:48, 260.51s/it]"
          ]
        },
        {
          "output_type": "stream",
          "name": "stdout",
          "text": [
            "2022-11-10 18:27:55,829 Running model_1\n"
          ]
        },
        {
          "output_type": "stream",
          "name": "stderr",
          "text": [
            " 35%|███▌      | 30/85 [2:26:52<3:58:48, 260.51s/it]"
          ]
        },
        {
          "output_type": "stream",
          "name": "stdout",
          "text": [
            "2022-11-10 18:33:28,047 model_1 took 330.8s (3 recycles) with pLDDT 81.4 and ptmscore 0.768\n"
          ]
        },
        {
          "output_type": "stream",
          "name": "stderr",
          "text": [
            " 35%|███▌      | 30/85 [2:27:13<3:58:48, 260.51s/it]"
          ]
        },
        {
          "output_type": "stream",
          "name": "stdout",
          "text": [
            "2022-11-10 18:33:48,937 reranking models by plddt\n"
          ]
        },
        {
          "output_type": "stream",
          "name": "stderr",
          "text": [
            " 35%|███▌      | 30/85 [2:27:14<3:58:48, 260.51s/it]"
          ]
        },
        {
          "output_type": "stream",
          "name": "stdout",
          "text": [
            "2022-11-10 18:33:50,070 Done\n",
            "  adding: config.json (deflated 48%)\n",
            "  adding: test_e7dac_predicted_aligned_error_v1.json (deflated 90%)\n",
            "  adding: test_e7dac_unrelaxed_rank_1_model_1_scores.json (deflated 69%)\n",
            "  adding: test_e7dac.a3m (deflated 79%)\n",
            "  adding: test_e7dac_unrelaxed_rank_1_model_1.pdb (deflated 78%)\n",
            "  adding: cite.bibtex (deflated 52%)\n",
            "  adding: test_e7dac_coverage.png (deflated 13%)\n",
            "  adding: test_e7dac_PAE.png (deflated 1%)\n",
            "  adding: test_e7dac_plddt.png (deflated 6%)\n"
          ]
        },
        {
          "output_type": "stream",
          "name": "stderr",
          "text": [
            "\r 36%|███▋      | 31/85 [2:27:14<4:21:35, 290.65s/it]"
          ]
        },
        {
          "output_type": "stream",
          "name": "stdout",
          "text": [
            "######################################## 31\n"
          ]
        },
        {
          "output_type": "stream",
          "name": "stderr",
          "text": [
            " 36%|███▋      | 31/85 [2:27:15<4:21:35, 290.65s/it]"
          ]
        },
        {
          "output_type": "stream",
          "name": "stdout",
          "text": [
            "2022-11-10 18:33:50,889 Found 5 citations for tools or databases\n"
          ]
        },
        {
          "output_type": "stream",
          "name": "stderr",
          "text": [
            " 36%|███▋      | 31/85 [2:27:19<4:21:35, 290.65s/it]"
          ]
        },
        {
          "output_type": "stream",
          "name": "stdout",
          "text": [
            "2022-11-10 18:33:55,469 Query 1/1: test_c2c01 (length 448)\n"
          ]
        },
        {
          "output_type": "stream",
          "name": "stderr",
          "text": [
            "\n",
            "  0%|          | 0/150 [elapsed: 00:00 remaining: ?]\u001b[A\n",
            "SUBMIT:   0%|          | 0/150 [elapsed: 00:00 remaining: ?]\u001b[A\n",
            "COMPLETE:   0%|          | 0/150 [elapsed: 00:00 remaining: ?]\u001b[A\n",
            "COMPLETE: 100%|██████████| 150/150 [elapsed: 00:02 remaining: 00:00]\n",
            " 36%|███▋      | 31/85 [2:27:24<4:21:35, 290.65s/it]"
          ]
        },
        {
          "output_type": "stream",
          "name": "stdout",
          "text": [
            "2022-11-10 18:33:59,694 Running model_1\n"
          ]
        },
        {
          "output_type": "stream",
          "name": "stderr",
          "text": [
            " 36%|███▋      | 31/85 [2:32:28<4:21:35, 290.65s/it]"
          ]
        },
        {
          "output_type": "stream",
          "name": "stdout",
          "text": [
            "2022-11-10 18:39:04,135 model_1 took 294.1s (3 recycles) with pLDDT 93.7 and ptmscore 0.917\n"
          ]
        },
        {
          "output_type": "stream",
          "name": "stderr",
          "text": [
            " 36%|███▋      | 31/85 [2:32:38<4:21:35, 290.65s/it]"
          ]
        },
        {
          "output_type": "stream",
          "name": "stdout",
          "text": [
            "2022-11-10 18:39:14,119 reranking models by plddt\n"
          ]
        },
        {
          "output_type": "stream",
          "name": "stderr",
          "text": [
            " 36%|███▋      | 31/85 [2:32:41<4:21:35, 290.65s/it]"
          ]
        },
        {
          "output_type": "stream",
          "name": "stdout",
          "text": [
            "2022-11-10 18:39:17,193 Done\n",
            "  adding: config.json (deflated 48%)\n",
            "  adding: test_c2c01_predicted_aligned_error_v1.json (deflated 92%)\n",
            "  adding: test_c2c01_unrelaxed_rank_1_model_1_scores.json (deflated 72%)\n",
            "  adding: test_c2c01.a3m (deflated 71%)\n",
            "  adding: test_c2c01_unrelaxed_rank_1_model_1.pdb (deflated 78%)\n",
            "  adding: cite.bibtex (deflated 52%)\n",
            "  adding: test_c2c01_coverage.png (deflated 5%)\n",
            "  adding: test_c2c01_PAE.png (deflated 1%)\n",
            "  adding: test_c2c01_plddt.png (deflated 10%)\n"
          ]
        },
        {
          "output_type": "stream",
          "name": "stderr",
          "text": [
            "\r 38%|███▊      | 32/85 [2:32:42<4:26:26, 301.62s/it]"
          ]
        },
        {
          "output_type": "stream",
          "name": "stdout",
          "text": [
            "######################################## 32\n"
          ]
        },
        {
          "output_type": "stream",
          "name": "stderr",
          "text": [
            " 38%|███▊      | 32/85 [2:32:42<4:26:26, 301.62s/it]"
          ]
        },
        {
          "output_type": "stream",
          "name": "stdout",
          "text": [
            "2022-11-10 18:39:18,128 Found 5 citations for tools or databases\n"
          ]
        },
        {
          "output_type": "stream",
          "name": "stderr",
          "text": [
            " 38%|███▊      | 32/85 [2:32:47<4:26:26, 301.62s/it]"
          ]
        },
        {
          "output_type": "stream",
          "name": "stdout",
          "text": [
            "2022-11-10 18:39:22,752 Query 1/1: test_c1661 (length 286)\n"
          ]
        },
        {
          "output_type": "stream",
          "name": "stderr",
          "text": [
            "\n",
            "  0%|          | 0/150 [elapsed: 00:00 remaining: ?]\u001b[A\n",
            "SUBMIT:   0%|          | 0/150 [elapsed: 00:00 remaining: ?]\u001b[A\n",
            "COMPLETE:   0%|          | 0/150 [elapsed: 00:00 remaining: ?]\u001b[A\n",
            "COMPLETE: 100%|██████████| 150/150 [elapsed: 00:02 remaining: 00:00]\n",
            " 38%|███▊      | 32/85 [2:32:50<4:26:26, 301.62s/it]"
          ]
        },
        {
          "output_type": "stream",
          "name": "stdout",
          "text": [
            "2022-11-10 18:39:25,796 Running model_1\n"
          ]
        },
        {
          "output_type": "stream",
          "name": "stderr",
          "text": [
            " 38%|███▊      | 32/85 [2:35:39<4:26:26, 301.62s/it]"
          ]
        },
        {
          "output_type": "stream",
          "name": "stdout",
          "text": [
            "2022-11-10 18:42:14,862 model_1 took 164.3s (3 recycles) with pLDDT 89 and ptmscore 0.877\n"
          ]
        },
        {
          "output_type": "stream",
          "name": "stderr",
          "text": [
            " 38%|███▊      | 32/85 [2:35:52<4:26:26, 301.62s/it]"
          ]
        },
        {
          "output_type": "stream",
          "name": "stdout",
          "text": [
            "2022-11-10 18:42:28,040 reranking models by plddt\n"
          ]
        },
        {
          "output_type": "stream",
          "name": "stderr",
          "text": [
            " 38%|███▊      | 32/85 [2:35:54<4:26:26, 301.62s/it]"
          ]
        },
        {
          "output_type": "stream",
          "name": "stdout",
          "text": [
            "2022-11-10 18:42:29,769 Done\n",
            "  adding: config.json (deflated 48%)\n",
            "  adding: test_c1661_predicted_aligned_error_v1.json (deflated 91%)\n",
            "  adding: test_c1661_unrelaxed_rank_1_model_1_scores.json (deflated 71%)\n",
            "  adding: test_c1661.a3m (deflated 60%)\n",
            "  adding: test_c1661_unrelaxed_rank_1_model_1.pdb (deflated 78%)\n",
            "  adding: cite.bibtex (deflated 52%)\n",
            "  adding: test_c1661_coverage.png (deflated 7%)\n",
            "  adding: test_c1661_PAE.png (deflated 1%)\n",
            "  adding: test_c1661_plddt.png (deflated 9%)\n"
          ]
        },
        {
          "output_type": "stream",
          "name": "stderr",
          "text": [
            "\r 39%|███▉      | 33/85 [2:35:54<3:53:00, 268.85s/it]"
          ]
        },
        {
          "output_type": "stream",
          "name": "stdout",
          "text": [
            "######################################## 33\n"
          ]
        },
        {
          "output_type": "stream",
          "name": "stderr",
          "text": [
            " 39%|███▉      | 33/85 [2:35:54<3:53:00, 268.85s/it]"
          ]
        },
        {
          "output_type": "stream",
          "name": "stdout",
          "text": [
            "2022-11-10 18:42:30,501 Found 5 citations for tools or databases\n"
          ]
        },
        {
          "output_type": "stream",
          "name": "stderr",
          "text": [
            " 39%|███▉      | 33/85 [2:35:59<3:53:00, 268.85s/it]"
          ]
        },
        {
          "output_type": "stream",
          "name": "stdout",
          "text": [
            "2022-11-10 18:42:35,043 Query 1/1: test_acfec (length 446)\n"
          ]
        },
        {
          "output_type": "stream",
          "name": "stderr",
          "text": [
            "\n",
            "  0%|          | 0/150 [elapsed: 00:00 remaining: ?]\u001b[A\n",
            "SUBMIT:   0%|          | 0/150 [elapsed: 00:00 remaining: ?]\u001b[A\n",
            "COMPLETE:   0%|          | 0/150 [elapsed: 00:00 remaining: ?]\u001b[A\n",
            "COMPLETE: 100%|██████████| 150/150 [elapsed: 00:02 remaining: 00:00]\n",
            " 39%|███▉      | 33/85 [2:36:04<3:53:00, 268.85s/it]"
          ]
        },
        {
          "output_type": "stream",
          "name": "stdout",
          "text": [
            "2022-11-10 18:42:39,920 Running model_1\n"
          ]
        },
        {
          "output_type": "stream",
          "name": "stderr",
          "text": [
            " 39%|███▉      | 33/85 [2:41:39<3:53:00, 268.85s/it]"
          ]
        },
        {
          "output_type": "stream",
          "name": "stdout",
          "text": [
            "2022-11-10 18:48:15,339 model_1 took 326.8s (3 recycles) with pLDDT 87.5 and ptmscore 0.876\n"
          ]
        },
        {
          "output_type": "stream",
          "name": "stderr",
          "text": [
            " 39%|███▉      | 33/85 [2:42:00<3:53:00, 268.85s/it]"
          ]
        },
        {
          "output_type": "stream",
          "name": "stdout",
          "text": [
            "2022-11-10 18:48:36,063 reranking models by plddt\n"
          ]
        },
        {
          "output_type": "stream",
          "name": "stderr",
          "text": [
            " 39%|███▉      | 33/85 [2:42:03<3:53:00, 268.85s/it]"
          ]
        },
        {
          "output_type": "stream",
          "name": "stdout",
          "text": [
            "2022-11-10 18:48:39,215 Done\n",
            "  adding: config.json (deflated 48%)\n",
            "  adding: test_acfec_predicted_aligned_error_v1.json (deflated 91%)\n",
            "  adding: test_acfec_unrelaxed_rank_1_model_1_scores.json (deflated 71%)\n",
            "  adding: test_acfec.a3m (deflated 65%)\n",
            "  adding: test_acfec_unrelaxed_rank_1_model_1.pdb (deflated 78%)\n",
            "  adding: cite.bibtex (deflated 52%)\n",
            "  adding: test_acfec_coverage.png (deflated 5%)\n",
            "  adding: test_acfec_PAE.png (deflated 1%)\n",
            "  adding: test_acfec_plddt.png (deflated 7%)\n"
          ]
        },
        {
          "output_type": "stream",
          "name": "stderr",
          "text": [
            "\r 40%|████      | 34/85 [2:42:04<4:14:13, 299.10s/it]"
          ]
        },
        {
          "output_type": "stream",
          "name": "stdout",
          "text": [
            "######################################## 34\n"
          ]
        },
        {
          "output_type": "stream",
          "name": "stderr",
          "text": [
            " 40%|████      | 34/85 [2:42:04<4:14:13, 299.10s/it]"
          ]
        },
        {
          "output_type": "stream",
          "name": "stdout",
          "text": [
            "2022-11-10 18:48:40,166 Found 5 citations for tools or databases\n"
          ]
        },
        {
          "output_type": "stream",
          "name": "stderr",
          "text": [
            " 40%|████      | 34/85 [2:42:09<4:14:13, 299.10s/it]"
          ]
        },
        {
          "output_type": "stream",
          "name": "stdout",
          "text": [
            "2022-11-10 18:48:44,777 Query 1/1: test_d4ff7 (length 530)\n"
          ]
        },
        {
          "output_type": "stream",
          "name": "stderr",
          "text": [
            "\n",
            "  0%|          | 0/150 [elapsed: 00:00 remaining: ?]\u001b[A\n",
            "SUBMIT:   0%|          | 0/150 [elapsed: 00:00 remaining: ?]\u001b[A\n",
            "COMPLETE:   0%|          | 0/150 [elapsed: 00:00 remaining: ?]\u001b[A\n",
            "COMPLETE: 100%|██████████| 150/150 [elapsed: 00:02 remaining: 00:00]\n",
            " 40%|████      | 34/85 [2:42:13<4:14:13, 299.10s/it]"
          ]
        },
        {
          "output_type": "stream",
          "name": "stdout",
          "text": [
            "2022-11-10 18:48:48,852 Running model_1\n"
          ]
        },
        {
          "output_type": "stream",
          "name": "stderr",
          "text": [
            " 40%|████      | 34/85 [2:49:38<4:14:13, 299.10s/it]"
          ]
        },
        {
          "output_type": "stream",
          "name": "stdout",
          "text": [
            "2022-11-10 18:56:14,247 model_1 took 436.8s (3 recycles) with pLDDT 84.4 and ptmscore 0.854\n"
          ]
        },
        {
          "output_type": "stream",
          "name": "stderr",
          "text": [
            " 40%|████      | 34/85 [2:50:02<4:14:13, 299.10s/it]"
          ]
        },
        {
          "output_type": "stream",
          "name": "stdout",
          "text": [
            "2022-11-10 18:56:38,224 reranking models by plddt\n"
          ]
        },
        {
          "output_type": "stream",
          "name": "stderr",
          "text": [
            " 40%|████      | 34/85 [2:50:05<4:14:13, 299.10s/it]"
          ]
        },
        {
          "output_type": "stream",
          "name": "stdout",
          "text": [
            "2022-11-10 18:56:41,348 Done\n",
            "  adding: config.json (deflated 48%)\n",
            "  adding: test_d4ff7_predicted_aligned_error_v1.json (deflated 91%)\n",
            "  adding: test_d4ff7_unrelaxed_rank_1_model_1_scores.json (deflated 70%)\n",
            "  adding: test_d4ff7.a3m (deflated 69%)\n",
            "  adding: test_d4ff7_unrelaxed_rank_1_model_1.pdb (deflated 78%)\n",
            "  adding: cite.bibtex (deflated 52%)\n",
            "  adding: test_d4ff7_coverage.png (deflated 7%)\n",
            "  adding: test_d4ff7_PAE.png (deflated 1%)\n",
            "  adding: test_d4ff7_plddt.png (deflated 8%)\n"
          ]
        },
        {
          "output_type": "stream",
          "name": "stderr",
          "text": [
            "\r 41%|████      | 35/85 [2:50:06<4:55:01, 354.03s/it]"
          ]
        },
        {
          "output_type": "stream",
          "name": "stdout",
          "text": [
            "######################################## 35\n"
          ]
        },
        {
          "output_type": "stream",
          "name": "stderr",
          "text": [
            " 41%|████      | 35/85 [2:50:06<4:55:01, 354.03s/it]"
          ]
        },
        {
          "output_type": "stream",
          "name": "stdout",
          "text": [
            "2022-11-10 18:56:42,383 Found 5 citations for tools or databases\n"
          ]
        },
        {
          "output_type": "stream",
          "name": "stderr",
          "text": [
            " 41%|████      | 35/85 [2:50:11<4:55:01, 354.03s/it]"
          ]
        },
        {
          "output_type": "stream",
          "name": "stdout",
          "text": [
            "2022-11-10 18:56:46,921 Query 1/1: test_4d3b7 (length 169)\n"
          ]
        },
        {
          "output_type": "stream",
          "name": "stderr",
          "text": [
            "\n",
            "  0%|          | 0/150 [elapsed: 00:00 remaining: ?]\u001b[A\n",
            "SUBMIT:   0%|          | 0/150 [elapsed: 00:00 remaining: ?]\u001b[A\n",
            "COMPLETE:   0%|          | 0/150 [elapsed: 00:00 remaining: ?]\u001b[A\n",
            "COMPLETE: 100%|██████████| 150/150 [elapsed: 00:01 remaining: 00:00]\n",
            " 41%|████      | 35/85 [2:50:13<4:55:01, 354.03s/it]"
          ]
        },
        {
          "output_type": "stream",
          "name": "stdout",
          "text": [
            "2022-11-10 18:56:49,257 Running model_1\n"
          ]
        },
        {
          "output_type": "stream",
          "name": "stderr",
          "text": [
            " 41%|████      | 35/85 [2:51:42<4:55:01, 354.03s/it]"
          ]
        },
        {
          "output_type": "stream",
          "name": "stdout",
          "text": [
            "2022-11-10 18:58:18,590 model_1 took 86.2s (3 recycles) with pLDDT 86.2 and ptmscore 0.597\n"
          ]
        },
        {
          "output_type": "stream",
          "name": "stderr",
          "text": [
            " 41%|████      | 35/85 [2:51:50<4:55:01, 354.03s/it]"
          ]
        },
        {
          "output_type": "stream",
          "name": "stdout",
          "text": [
            "2022-11-10 18:58:26,335 reranking models by plddt\n"
          ]
        },
        {
          "output_type": "stream",
          "name": "stderr",
          "text": [
            " 41%|████      | 35/85 [2:51:52<4:55:01, 354.03s/it]"
          ]
        },
        {
          "output_type": "stream",
          "name": "stdout",
          "text": [
            "2022-11-10 18:58:28,002 Done\n",
            "  adding: config.json (deflated 48%)\n",
            "  adding: test_4d3b7_predicted_aligned_error_v1.json (deflated 88%)\n",
            "  adding: test_4d3b7_unrelaxed_rank_1_model_1_scores.json (deflated 69%)\n",
            "  adding: test_4d3b7.a3m (deflated 74%)\n",
            "  adding: test_4d3b7_unrelaxed_rank_1_model_1.pdb (deflated 78%)\n",
            "  adding: cite.bibtex (deflated 52%)\n",
            "  adding: test_4d3b7_coverage.png (deflated 9%)\n",
            "  adding: test_4d3b7_PAE.png (deflated 2%)\n",
            "  adding: test_4d3b7_plddt.png (deflated 11%)\n"
          ]
        },
        {
          "output_type": "stream",
          "name": "stderr",
          "text": [
            "\r 42%|████▏     | 36/85 [2:51:52<3:48:25, 279.69s/it]"
          ]
        },
        {
          "output_type": "stream",
          "name": "stdout",
          "text": [
            "######################################## 36\n"
          ]
        },
        {
          "output_type": "stream",
          "name": "stderr",
          "text": [
            " 42%|████▏     | 36/85 [2:51:52<3:48:25, 279.69s/it]"
          ]
        },
        {
          "output_type": "stream",
          "name": "stdout",
          "text": [
            "2022-11-10 18:58:28,619 Found 5 citations for tools or databases\n"
          ]
        },
        {
          "output_type": "stream",
          "name": "stderr",
          "text": [
            " 42%|████▏     | 36/85 [2:51:57<3:48:25, 279.69s/it]"
          ]
        },
        {
          "output_type": "stream",
          "name": "stdout",
          "text": [
            "2022-11-10 18:58:33,295 Query 1/1: test_8d394 (length 88)\n"
          ]
        },
        {
          "output_type": "stream",
          "name": "stderr",
          "text": [
            "\n",
            "  0%|          | 0/150 [elapsed: 00:00 remaining: ?]\u001b[A\n",
            "SUBMIT:   0%|          | 0/150 [elapsed: 00:00 remaining: ?]\u001b[A\n",
            "COMPLETE:   0%|          | 0/150 [elapsed: 00:00 remaining: ?]\u001b[A\n",
            "COMPLETE: 100%|██████████| 150/150 [elapsed: 00:01 remaining: 00:00]\n",
            " 42%|████▏     | 36/85 [2:51:59<3:48:25, 279.69s/it]"
          ]
        },
        {
          "output_type": "stream",
          "name": "stdout",
          "text": [
            "2022-11-10 18:58:34,755 Running model_1\n"
          ]
        },
        {
          "output_type": "stream",
          "name": "stderr",
          "text": [
            " 42%|████▏     | 36/85 [2:52:48<3:48:25, 279.69s/it]"
          ]
        },
        {
          "output_type": "stream",
          "name": "stdout",
          "text": [
            "2022-11-10 18:59:24,248 model_1 took 48.1s (3 recycles) with pLDDT 86.8 and ptmscore 0.773\n"
          ]
        },
        {
          "output_type": "stream",
          "name": "stderr",
          "text": [
            " 42%|████▏     | 36/85 [2:52:53<3:48:25, 279.69s/it]"
          ]
        },
        {
          "output_type": "stream",
          "name": "stdout",
          "text": [
            "2022-11-10 18:59:29,248 reranking models by plddt\n"
          ]
        },
        {
          "output_type": "stream",
          "name": "stderr",
          "text": [
            " 42%|████▏     | 36/85 [2:52:54<3:48:25, 279.69s/it]"
          ]
        },
        {
          "output_type": "stream",
          "name": "stdout",
          "text": [
            "2022-11-10 18:59:30,410 Done\n",
            "  adding: config.json (deflated 48%)\n",
            "  adding: test_8d394_predicted_aligned_error_v1.json (deflated 88%)\n",
            "  adding: test_8d394_unrelaxed_rank_1_model_1_scores.json (deflated 70%)\n",
            "  adding: test_8d394.a3m (deflated 65%)\n",
            "  adding: test_8d394_unrelaxed_rank_1_model_1.pdb (deflated 78%)\n",
            "  adding: cite.bibtex (deflated 52%)\n",
            "  adding: test_8d394_coverage.png (deflated 8%)\n",
            "  adding: test_8d394_PAE.png (deflated 5%)\n",
            "  adding: test_8d394_plddt.png (deflated 13%)\n"
          ]
        },
        {
          "output_type": "stream",
          "name": "stderr",
          "text": [
            "\r 44%|████▎     | 37/85 [2:52:55<2:51:35, 214.48s/it]"
          ]
        },
        {
          "output_type": "stream",
          "name": "stdout",
          "text": [
            "######################################## 37\n"
          ]
        },
        {
          "output_type": "stream",
          "name": "stderr",
          "text": [
            " 44%|████▎     | 37/85 [2:52:55<2:51:35, 214.48s/it]"
          ]
        },
        {
          "output_type": "stream",
          "name": "stdout",
          "text": [
            "2022-11-10 18:59:30,945 Found 5 citations for tools or databases\n"
          ]
        },
        {
          "output_type": "stream",
          "name": "stderr",
          "text": [
            " 44%|████▎     | 37/85 [2:52:59<2:51:35, 214.48s/it]"
          ]
        },
        {
          "output_type": "stream",
          "name": "stdout",
          "text": [
            "2022-11-10 18:59:35,589 Query 1/1: test_bb5df (length 210)\n"
          ]
        },
        {
          "output_type": "stream",
          "name": "stderr",
          "text": [
            "\n",
            "  0%|          | 0/150 [elapsed: 00:00 remaining: ?]\u001b[A\n",
            "SUBMIT:   0%|          | 0/150 [elapsed: 00:00 remaining: ?]\u001b[A\n",
            "COMPLETE:   0%|          | 0/150 [elapsed: 00:00 remaining: ?]\u001b[A\n",
            "COMPLETE: 100%|██████████| 150/150 [elapsed: 00:01 remaining: 00:00]\n",
            " 44%|████▎     | 37/85 [2:53:01<2:51:35, 214.48s/it]"
          ]
        },
        {
          "output_type": "stream",
          "name": "stdout",
          "text": [
            "2022-11-10 18:59:36,993 Running model_1\n"
          ]
        },
        {
          "output_type": "stream",
          "name": "stderr",
          "text": [
            " 44%|████▎     | 37/85 [2:54:50<2:51:35, 214.48s/it]"
          ]
        },
        {
          "output_type": "stream",
          "name": "stdout",
          "text": [
            "2022-11-10 19:01:26,155 model_1 took 107.8s (3 recycles) with pLDDT 94.4 and ptmscore 0.894\n"
          ]
        },
        {
          "output_type": "stream",
          "name": "stderr",
          "text": [
            " 44%|████▎     | 37/85 [2:55:00<2:51:35, 214.48s/it]"
          ]
        },
        {
          "output_type": "stream",
          "name": "stdout",
          "text": [
            "2022-11-10 19:01:35,776 reranking models by plddt\n"
          ]
        },
        {
          "output_type": "stream",
          "name": "stderr",
          "text": [
            " 44%|████▎     | 37/85 [2:55:01<2:51:35, 214.48s/it]"
          ]
        },
        {
          "output_type": "stream",
          "name": "stdout",
          "text": [
            "2022-11-10 19:01:36,673 Done\n",
            "  adding: config.json (deflated 48%)\n",
            "  adding: test_bb5df_predicted_aligned_error_v1.json (deflated 91%)\n",
            "  adding: test_bb5df_unrelaxed_rank_1_model_1_scores.json (deflated 73%)\n",
            "  adding: test_bb5df.a3m (deflated 68%)\n",
            "  adding: test_bb5df_unrelaxed_rank_1_model_1.pdb (deflated 78%)\n",
            "  adding: cite.bibtex (deflated 52%)\n",
            "  adding: test_bb5df_coverage.png (deflated 9%)\n",
            "  adding: test_bb5df_PAE.png (deflated 3%)\n",
            "  adding: test_bb5df_plddt.png (deflated 14%)\n"
          ]
        },
        {
          "output_type": "stream",
          "name": "stderr",
          "text": [
            "\r 45%|████▍     | 38/85 [2:55:01<2:27:16, 188.01s/it]"
          ]
        },
        {
          "output_type": "stream",
          "name": "stdout",
          "text": [
            "######################################## 38\n"
          ]
        },
        {
          "output_type": "stream",
          "name": "stderr",
          "text": [
            " 45%|████▍     | 38/85 [2:55:01<2:27:16, 188.01s/it]"
          ]
        },
        {
          "output_type": "stream",
          "name": "stdout",
          "text": [
            "2022-11-10 19:01:37,205 Found 5 citations for tools or databases\n"
          ]
        },
        {
          "output_type": "stream",
          "name": "stderr",
          "text": [
            " 45%|████▍     | 38/85 [2:55:06<2:27:16, 188.01s/it]"
          ]
        },
        {
          "output_type": "stream",
          "name": "stdout",
          "text": [
            "2022-11-10 19:01:41,968 Query 1/1: test_3e9e4 (length 352)\n"
          ]
        },
        {
          "output_type": "stream",
          "name": "stderr",
          "text": [
            "\n",
            "  0%|          | 0/150 [elapsed: 00:00 remaining: ?]\u001b[A\n",
            "SUBMIT:   0%|          | 0/150 [elapsed: 00:00 remaining: ?]\u001b[A\n",
            "COMPLETE:   0%|          | 0/150 [elapsed: 00:00 remaining: ?]\u001b[A\n",
            "COMPLETE: 100%|██████████| 150/150 [elapsed: 00:02 remaining: 00:00]\n",
            " 45%|████▍     | 38/85 [2:55:10<2:27:16, 188.01s/it]"
          ]
        },
        {
          "output_type": "stream",
          "name": "stdout",
          "text": [
            "2022-11-10 19:01:45,895 Running model_1\n"
          ]
        },
        {
          "output_type": "stream",
          "name": "stderr",
          "text": [
            " 45%|████▍     | 38/85 [2:58:34<2:27:16, 188.01s/it]"
          ]
        },
        {
          "output_type": "stream",
          "name": "stdout",
          "text": [
            "2022-11-10 19:05:10,101 model_1 took 195.9s (3 recycles) with pLDDT 95.2 and ptmscore 0.915\n"
          ]
        },
        {
          "output_type": "stream",
          "name": "stderr",
          "text": [
            " 45%|████▍     | 38/85 [2:58:51<2:27:16, 188.01s/it]"
          ]
        },
        {
          "output_type": "stream",
          "name": "stdout",
          "text": [
            "2022-11-10 19:05:26,958 reranking models by plddt\n"
          ]
        },
        {
          "output_type": "stream",
          "name": "stderr",
          "text": [
            " 45%|████▍     | 38/85 [2:58:54<2:27:16, 188.01s/it]"
          ]
        },
        {
          "output_type": "stream",
          "name": "stdout",
          "text": [
            "2022-11-10 19:05:29,662 Done\n",
            "  adding: config.json (deflated 48%)\n",
            "  adding: test_3e9e4_predicted_aligned_error_v1.json (deflated 91%)\n",
            "  adding: test_3e9e4_unrelaxed_rank_1_model_1_scores.json (deflated 72%)\n",
            "  adding: test_3e9e4.a3m (deflated 76%)\n",
            "  adding: test_3e9e4_unrelaxed_rank_1_model_1.pdb (deflated 78%)\n",
            "  adding: cite.bibtex (deflated 52%)\n",
            "  adding: test_3e9e4_coverage.png (deflated 9%)\n",
            "  adding: test_3e9e4_PAE.png (deflated 1%)\n",
            "  adding: test_3e9e4_plddt.png (deflated 11%)\n"
          ]
        },
        {
          "output_type": "stream",
          "name": "stderr",
          "text": [
            "\r 46%|████▌     | 39/85 [2:58:54<2:34:33, 201.60s/it]"
          ]
        },
        {
          "output_type": "stream",
          "name": "stdout",
          "text": [
            "######################################## 39\n"
          ]
        },
        {
          "output_type": "stream",
          "name": "stderr",
          "text": [
            " 46%|████▌     | 39/85 [2:58:54<2:34:33, 201.60s/it]"
          ]
        },
        {
          "output_type": "stream",
          "name": "stdout",
          "text": [
            "2022-11-10 19:05:30,515 Found 5 citations for tools or databases\n"
          ]
        },
        {
          "output_type": "stream",
          "name": "stderr",
          "text": [
            " 46%|████▌     | 39/85 [2:58:59<2:34:33, 201.60s/it]"
          ]
        },
        {
          "output_type": "stream",
          "name": "stdout",
          "text": [
            "2022-11-10 19:05:35,120 Query 1/1: test_6bd45 (length 499)\n"
          ]
        },
        {
          "output_type": "stream",
          "name": "stderr",
          "text": [
            "\n",
            "  0%|          | 0/150 [elapsed: 00:00 remaining: ?]\u001b[A\n",
            "SUBMIT:   0%|          | 0/150 [elapsed: 00:00 remaining: ?]\u001b[A\n",
            "COMPLETE:   0%|          | 0/150 [elapsed: 00:00 remaining: ?]\u001b[A\n",
            "COMPLETE: 100%|██████████| 150/150 [elapsed: 00:02 remaining: 00:00]\n",
            " 46%|████▌     | 39/85 [2:59:03<2:34:33, 201.60s/it]"
          ]
        },
        {
          "output_type": "stream",
          "name": "stdout",
          "text": [
            "2022-11-10 19:05:39,484 Running model_1\n"
          ]
        },
        {
          "output_type": "stream",
          "name": "stderr",
          "text": [
            " 46%|████▌     | 39/85 [3:05:47<2:34:33, 201.60s/it]"
          ]
        },
        {
          "output_type": "stream",
          "name": "stdout",
          "text": [
            "2022-11-10 19:12:23,023 model_1 took 394.3s (3 recycles) with pLDDT 94.7 and ptmscore 0.932\n"
          ]
        },
        {
          "output_type": "stream",
          "name": "stderr",
          "text": [
            " 46%|████▌     | 39/85 [3:06:10<2:34:33, 201.60s/it]"
          ]
        },
        {
          "output_type": "stream",
          "name": "stdout",
          "text": [
            "2022-11-10 19:12:45,718 reranking models by plddt\n"
          ]
        },
        {
          "output_type": "stream",
          "name": "stderr",
          "text": [
            " 46%|████▌     | 39/85 [3:06:13<2:34:33, 201.60s/it]"
          ]
        },
        {
          "output_type": "stream",
          "name": "stdout",
          "text": [
            "2022-11-10 19:12:48,961 Done\n",
            "  adding: config.json (deflated 48%)\n",
            "  adding: test_6bd45_predicted_aligned_error_v1.json (deflated 92%)\n",
            "  adding: test_6bd45_unrelaxed_rank_1_model_1_scores.json (deflated 73%)\n",
            "  adding: test_6bd45.a3m (deflated 65%)\n",
            "  adding: test_6bd45_unrelaxed_rank_1_model_1.pdb (deflated 78%)\n",
            "  adding: cite.bibtex (deflated 52%)\n",
            "  adding: test_6bd45_coverage.png (deflated 5%)\n",
            "  adding: test_6bd45_PAE.png (deflated 1%)\n",
            "  adding: test_6bd45_plddt.png (deflated 10%)\n"
          ]
        },
        {
          "output_type": "stream",
          "name": "stderr",
          "text": [
            "\r 47%|████▋     | 40/85 [3:06:14<3:24:43, 272.97s/it]"
          ]
        },
        {
          "output_type": "stream",
          "name": "stdout",
          "text": [
            "######################################## 40\n"
          ]
        },
        {
          "output_type": "stream",
          "name": "stderr",
          "text": [
            " 47%|████▋     | 40/85 [3:06:14<3:24:43, 272.97s/it]"
          ]
        },
        {
          "output_type": "stream",
          "name": "stdout",
          "text": [
            "2022-11-10 19:12:50,013 Found 5 citations for tools or databases\n"
          ]
        },
        {
          "output_type": "stream",
          "name": "stderr",
          "text": [
            " 47%|████▋     | 40/85 [3:06:18<3:24:43, 272.97s/it]"
          ]
        },
        {
          "output_type": "stream",
          "name": "stdout",
          "text": [
            "2022-11-10 19:12:54,636 Query 1/1: test_e7401 (length 461)\n"
          ]
        },
        {
          "output_type": "stream",
          "name": "stderr",
          "text": [
            "\n",
            "  0%|          | 0/150 [elapsed: 00:00 remaining: ?]\u001b[A\n",
            "SUBMIT:   0%|          | 0/150 [elapsed: 00:00 remaining: ?]\u001b[A\n",
            "COMPLETE:   0%|          | 0/150 [elapsed: 00:00 remaining: ?]\u001b[A\n",
            "COMPLETE: 100%|██████████| 150/150 [elapsed: 00:03 remaining: 00:00]\n",
            " 47%|████▋     | 40/85 [3:06:24<3:24:43, 272.97s/it]"
          ]
        },
        {
          "output_type": "stream",
          "name": "stdout",
          "text": [
            "2022-11-10 19:13:00,194 Running model_1\n"
          ]
        },
        {
          "output_type": "stream",
          "name": "stderr",
          "text": [
            " 47%|████▋     | 40/85 [3:12:25<3:24:43, 272.97s/it]"
          ]
        },
        {
          "output_type": "stream",
          "name": "stdout",
          "text": [
            "2022-11-10 19:19:01,358 model_1 took 346.5s (3 recycles) with pLDDT 82 and ptmscore 0.645\n"
          ]
        },
        {
          "output_type": "stream",
          "name": "stderr",
          "text": [
            " 47%|████▋     | 40/85 [3:12:46<3:24:43, 272.97s/it]"
          ]
        },
        {
          "output_type": "stream",
          "name": "stdout",
          "text": [
            "2022-11-10 19:19:22,504 reranking models by plddt\n"
          ]
        },
        {
          "output_type": "stream",
          "name": "stderr",
          "text": [
            " 47%|████▋     | 40/85 [3:12:51<3:24:43, 272.97s/it]"
          ]
        },
        {
          "output_type": "stream",
          "name": "stdout",
          "text": [
            "2022-11-10 19:19:27,368 Done\n",
            "  adding: config.json (deflated 48%)\n",
            "  adding: test_e7401_predicted_aligned_error_v1.json (deflated 90%)\n",
            "  adding: test_e7401_unrelaxed_rank_1_model_1_scores.json (deflated 70%)\n",
            "  adding: test_e7401.a3m (deflated 71%)\n",
            "  adding: test_e7401_unrelaxed_rank_1_model_1.pdb (deflated 78%)\n",
            "  adding: cite.bibtex (deflated 52%)\n",
            "  adding: test_e7401_coverage.png (deflated 5%)\n",
            "  adding: test_e7401_PAE.png (deflated 1%)\n",
            "  adding: test_e7401_plddt.png (deflated 8%)\n"
          ]
        },
        {
          "output_type": "stream",
          "name": "stderr",
          "text": [
            "\r 48%|████▊     | 41/85 [3:12:52<3:47:48, 310.64s/it]"
          ]
        },
        {
          "output_type": "stream",
          "name": "stdout",
          "text": [
            "######################################## 41\n"
          ]
        },
        {
          "output_type": "stream",
          "name": "stderr",
          "text": [
            " 48%|████▊     | 41/85 [3:12:52<3:47:48, 310.64s/it]"
          ]
        },
        {
          "output_type": "stream",
          "name": "stdout",
          "text": [
            "2022-11-10 19:19:28,571 Found 5 citations for tools or databases\n"
          ]
        },
        {
          "output_type": "stream",
          "name": "stderr",
          "text": [
            " 48%|████▊     | 41/85 [3:12:57<3:47:48, 310.64s/it]"
          ]
        },
        {
          "output_type": "stream",
          "name": "stdout",
          "text": [
            "2022-11-10 19:19:33,141 Query 1/1: test_1e281 (length 1417)\n"
          ]
        },
        {
          "output_type": "stream",
          "name": "stderr",
          "text": [
            "\n",
            "  0%|          | 0/150 [elapsed: 00:00 remaining: ?]\u001b[A\n",
            "SUBMIT:   0%|          | 0/150 [elapsed: 00:00 remaining: ?]\u001b[A\n",
            "COMPLETE:   0%|          | 0/150 [elapsed: 00:00 remaining: ?]\u001b[A\n",
            "COMPLETE: 100%|██████████| 150/150 [elapsed: 00:02 remaining: 00:00]\n",
            " 48%|████▊     | 41/85 [3:13:05<3:47:48, 310.64s/it]"
          ]
        },
        {
          "output_type": "stream",
          "name": "stdout",
          "text": [
            "2022-11-10 19:19:41,180 Running model_1\n"
          ]
        }
      ],
      "source": [
        "#@title Input protein sequence(s), then hit `Runtime` -> `Run all`\n",
        "from google.colab import files\n",
        "from tqdm import tqdm\n",
        "import os.path\n",
        "import re\n",
        "import hashlib\n",
        "import random\n",
        "\n",
        "def add_hash(x,y):\n",
        "  return x+\"_\"+hashlib.sha1(y.encode()).hexdigest()[:5]\n",
        "\n",
        "\n",
        "for i in tqdm(range(len(list_sequences))):\n",
        "\n",
        "    \n",
        "    print(\"########################################\", i)\n",
        "    # Online Python compiler (interpreter) to run Python online.\n",
        "    query_sequence =  list_sequences[i]\n",
        "    # remove whitespaces\n",
        "    query_sequence = \"\".join(query_sequence.split())\n",
        "    \n",
        "    jobname = 'test' \n",
        "    # remove whitespaces\n",
        "    basejobname = \"\".join(jobname.split())\n",
        "    basejobname = re.sub(r'\\W+', '', basejobname)\n",
        "    jobname = add_hash(basejobname, query_sequence)\n",
        "    while os.path.isfile(f\"{jobname}.csv\"):\n",
        "      jobname = add_hash(basejobname, ''.join(random.sample(query_sequence,len(query_sequence))))\n",
        "    \n",
        "    with open(f\"{jobname}.csv\", \"w\") as text_file:\n",
        "        text_file.write(f\"id,sequence\\n{jobname},{query_sequence}\")\n",
        "    \n",
        "    queries_path=f\"{jobname}.csv\"\n",
        "    \n",
        "    # number of models to use\n",
        "    use_amber = False\n",
        "    template_mode = \"none\" \n",
        "    if template_mode == \"pdb70\":\n",
        "      use_templates = True\n",
        "      custom_template_path = None\n",
        "    elif template_mode == \"custom\":\n",
        "      custom_template_path = f\"{jobname}_template\"\n",
        "      os.mkdir(custom_template_path)\n",
        "      uploaded = files.upload()\n",
        "      use_templates = True\n",
        "      for fn in uploaded.keys():\n",
        "        os.rename(fn, f\"{jobname}_template/{fn}\")\n",
        "    else:\n",
        "      custom_template_path = None\n",
        "      use_templates = False\n",
        "    \n",
        "    \n",
        "    \n",
        "    #@title ### MSA options (custom MSA upload, single sequence, pairing mode)\n",
        "    msa_mode = \"MMseqs2 (UniRef+Environmental)\" \n",
        "    pair_mode = \"unpaired+paired\" \n",
        "    \n",
        "    # decide which a3m to use\n",
        "    if msa_mode.startswith(\"MMseqs2\"):\n",
        "      a3m_file = f\"{jobname}.a3m\"\n",
        "    elif msa_mode == \"custom\":\n",
        "      a3m_file = f\"{jobname}.custom.a3m\"\n",
        "      if not os.path.isfile(a3m_file):\n",
        "        custom_msa_dict = files.upload()\n",
        "        custom_msa = list(custom_msa_dict.keys())[0]\n",
        "        header = 0\n",
        "        import fileinput\n",
        "        for line in fileinput.FileInput(custom_msa,inplace=1):\n",
        "          if line.startswith(\">\"):\n",
        "             header = header + 1\n",
        "          if not line.rstrip():\n",
        "            continue\n",
        "          if line.startswith(\">\") == False and header == 1:\n",
        "             query_sequence = line.rstrip()\n",
        "          print(line, end='')\n",
        "    \n",
        "        os.rename(custom_msa, a3m_file)\n",
        "        queries_path=a3m_file\n",
        "        print(f\"moving {custom_msa} to {a3m_file}\")\n",
        "    else:\n",
        "      a3m_file = f\"{jobname}.single_sequence.a3m\"\n",
        "      with open(a3m_file, \"w\") as text_file:\n",
        "        text_file.write(\">1\\n%s\" % query_sequence)\n",
        "    \n",
        "    \n",
        "    \n",
        "    \n",
        "    \n",
        "    #@title ### Advanced settings\n",
        "    model_type = \"auto\" \n",
        "    num_recycles = 3 \n",
        "    save_to_google_drive = False\n",
        "    \n",
        "    dpi = 200 \n",
        "    \n",
        "    if save_to_google_drive:\n",
        "      from pydrive.drive import GoogleDrive\n",
        "      from pydrive.auth import GoogleAuth\n",
        "      from google.colab import auth\n",
        "      from oauth2client.client import GoogleCredentials\n",
        "      auth.authenticate_user()\n",
        "      gauth = GoogleAuth()\n",
        "      gauth.credentials = GoogleCredentials.get_application_default()\n",
        "      drive = GoogleDrive(gauth)\n",
        "      print(\"You are logged into Google Drive and are good to go!\")\n",
        "    \n",
        "    #@title Run Prediction\n",
        "    import sys\n",
        "    import warnings\n",
        "    warnings.simplefilter(action='ignore', category=FutureWarning)\n",
        "    \n",
        "    from colabfold.download import download_alphafold_params, default_data_dir\n",
        "    from colabfold.utils import setup_logging\n",
        "    from colabfold.batch import get_queries, run, set_model_type\n",
        "    K80_chk = !nvidia-smi | grep \"Tesla K80\" | wc -l\n",
        "    if \"1\" in K80_chk:\n",
        "      print(\"WARNING: found GPU Tesla K80: limited to total length < 1000\")\n",
        "      if \"TF_FORCE_UNIFIED_MEMORY\" in os.environ:\n",
        "        del os.environ[\"TF_FORCE_UNIFIED_MEMORY\"]\n",
        "      if \"XLA_PYTHON_CLIENT_MEM_FRACTION\" in os.environ:\n",
        "        del os.environ[\"XLA_PYTHON_CLIENT_MEM_FRACTION\"]\n",
        "    \n",
        "    from colabfold.colabfold import plot_protein\n",
        "    from pathlib import Path\n",
        "    import matplotlib.pyplot as plt\n",
        "    \n",
        "    \n",
        "    # For some reason we need that to get pdbfixer to import\n",
        "    if use_amber and '/usr/local/lib/python3.7/site-packages/' not in sys.path:\n",
        "        sys.path.insert(0, '/usr/local/lib/python3.7/site-packages/')\n",
        "    \n",
        "    # def prediction_callback(unrelaxed_protein, length, prediction_result, input_features, type):\n",
        "    #   fig = plot_protein(unrelaxed_protein, Ls=length, dpi=150)\n",
        "    #   plt.show()\n",
        "    #   plt.close()\n",
        "    \n",
        "    result_dir=\".\"\n",
        "    if 'logging_setup' not in globals():\n",
        "        setup_logging(Path(\".\").joinpath(\"log.txt\"))\n",
        "        logging_setup = True\n",
        "    \n",
        "    queries, is_complex = get_queries(queries_path)\n",
        "    model_type = set_model_type(is_complex, model_type)\n",
        "    download_alphafold_params(model_type, Path(\".\"))\n",
        "    run(\n",
        "        queries=queries,\n",
        "        result_dir=result_dir,\n",
        "        use_templates=use_templates,\n",
        "        custom_template_path=custom_template_path,\n",
        "        use_amber=use_amber,\n",
        "        msa_mode=msa_mode,    \n",
        "        model_type=model_type,\n",
        "        num_models=1,\n",
        "        num_recycles=num_recycles,\n",
        "        model_order=[1],\n",
        "        is_complex=is_complex,\n",
        "        data_dir=Path(\".\"),\n",
        "        keep_existing_results=False,\n",
        "        recompile_padding=1.0,\n",
        "        rank_by=\"auto\",\n",
        "        pair_mode=pair_mode,\n",
        "        stop_at_score=float(100),\n",
        "        # prediction_callback=prediction_callback,\n",
        "        dpi=dpi\n",
        "    )\n",
        "    \n",
        "    \n",
        "    #@title Package and download results\n",
        "    \n",
        "    if msa_mode == \"custom\":\n",
        "      print(\"Don't forget to cite your custom MSA generation method.\")\n",
        "    \n",
        "    !zip -FSr $jobname\".result.zip\" config.json $jobname*\".json\" $jobname*\".a3m\" $jobname*\"relaxed_rank_\"*\".pdb\" \"cite.bibtex\" $jobname*\".png\"\n",
        "    # files.download(f\"{jobname}.result.zip\")\n",
        "    shutil.copy(f\"{jobname}.result.zip\", \"/content/drive/MyDrive/alphafold_results\")\n",
        "    \n",
        "    \n",
        "    # save_to_google_drive = False\n",
        "    # if save_to_google_drive == True and drive:\n",
        "    #   uploaded = drive.CreateFile({'title': f\"{jobname}.result.zip\"})\n",
        "    #   uploaded.SetContentFile(f\"{jobname}.result.zip\")\n",
        "    #   uploaded.Upload()\n",
        "    #   print(f\"Uploaded {jobname}.result.zip to Google Drive with ID {uploaded.get('id')}\")"
      ]
    },
    {
      "cell_type": "code",
      "execution_count": null,
      "metadata": {
        "id": "WfJ0QLW2q8rQ"
      },
      "outputs": [],
      "source": []
    },
    {
      "cell_type": "code",
      "execution_count": null,
      "metadata": {
        "id": "r4Ao3jI_q9J9"
      },
      "outputs": [],
      "source": []
    },
    {
      "cell_type": "code",
      "execution_count": null,
      "metadata": {
        "id": "IpedGCRxq9QQ"
      },
      "outputs": [],
      "source": []
    },
    {
      "cell_type": "code",
      "execution_count": null,
      "metadata": {
        "id": "RhWI5iEQq9TK"
      },
      "outputs": [],
      "source": []
    },
    {
      "cell_type": "code",
      "execution_count": null,
      "metadata": {
        "id": "0NjiLVbuq9WD"
      },
      "outputs": [],
      "source": []
    },
    {
      "cell_type": "code",
      "execution_count": null,
      "metadata": {
        "id": "CX8rPI3sq9Zr"
      },
      "outputs": [],
      "source": []
    },
    {
      "cell_type": "code",
      "execution_count": null,
      "metadata": {
        "id": "4fXGPAKBq9cR"
      },
      "outputs": [],
      "source": []
    },
    {
      "cell_type": "code",
      "execution_count": null,
      "metadata": {
        "id": "B2RjQmSJq9fg"
      },
      "outputs": [],
      "source": []
    },
    {
      "cell_type": "code",
      "execution_count": null,
      "metadata": {
        "id": "w6IJbatSq9lC"
      },
      "outputs": [],
      "source": []
    },
    {
      "cell_type": "code",
      "execution_count": null,
      "metadata": {
        "id": "hzqV8J1KFMMX"
      },
      "outputs": [],
      "source": []
    },
    {
      "cell_type": "code",
      "execution_count": null,
      "metadata": {
        "id": "dO0AkiyWFMum"
      },
      "outputs": [],
      "source": []
    },
    {
      "cell_type": "code",
      "execution_count": null,
      "metadata": {
        "id": "Gp7ua0kFFMz7"
      },
      "outputs": [],
      "source": []
    },
    {
      "cell_type": "code",
      "execution_count": null,
      "metadata": {
        "id": "0grbjH-0FM3U"
      },
      "outputs": [],
      "source": []
    },
    {
      "cell_type": "code",
      "execution_count": null,
      "metadata": {
        "id": "35FuOdswFM7j"
      },
      "outputs": [],
      "source": []
    },
    {
      "cell_type": "code",
      "execution_count": null,
      "metadata": {
        "id": "E5OsbvczFM_l"
      },
      "outputs": [],
      "source": []
    },
    {
      "cell_type": "code",
      "execution_count": null,
      "metadata": {
        "id": "-AgXB9-2rAIi"
      },
      "outputs": [],
      "source": [
        "#@title ### MSA options (custom MSA upload, single sequence, pairing mode)\n",
        "msa_mode = \"MMseqs2 (UniRef+Environmental)\" \n",
        "pair_mode = \"unpaired+paired\" \n",
        "\n",
        "# decide which a3m to use\n",
        "if msa_mode.startswith(\"MMseqs2\"):\n",
        "  a3m_file = f\"{jobname}.a3m\"\n",
        "elif msa_mode == \"custom\":\n",
        "  a3m_file = f\"{jobname}.custom.a3m\"\n",
        "  if not os.path.isfile(a3m_file):\n",
        "    custom_msa_dict = files.upload()\n",
        "    custom_msa = list(custom_msa_dict.keys())[0]\n",
        "    header = 0\n",
        "    import fileinput\n",
        "    for line in fileinput.FileInput(custom_msa,inplace=1):\n",
        "      if line.startswith(\">\"):\n",
        "         header = header + 1\n",
        "      if not line.rstrip():\n",
        "        continue\n",
        "      if line.startswith(\">\") == False and header == 1:\n",
        "         query_sequence = line.rstrip()\n",
        "      print(line, end='')\n",
        "\n",
        "    os.rename(custom_msa, a3m_file)\n",
        "    queries_path=a3m_file\n",
        "    print(f\"moving {custom_msa} to {a3m_file}\")\n",
        "else:\n",
        "  a3m_file = f\"{jobname}.single_sequence.a3m\"\n",
        "  with open(a3m_file, \"w\") as text_file:\n",
        "    text_file.write(\">1\\n%s\" % query_sequence)"
      ]
    },
    {
      "cell_type": "code",
      "execution_count": null,
      "metadata": {
        "id": "6yJgv4xOrPyo"
      },
      "outputs": [],
      "source": [
        "#@title ### Advanced settings\n",
        "model_type = \"auto\" \n",
        "num_recycles = 3 \n",
        "save_to_google_drive = False\n",
        "\n",
        "dpi = 200 \n",
        "\n",
        "if save_to_google_drive:\n",
        "  from pydrive.drive import GoogleDrive\n",
        "  from pydrive.auth import GoogleAuth\n",
        "  from google.colab import auth\n",
        "  from oauth2client.client import GoogleCredentials\n",
        "  auth.authenticate_user()\n",
        "  gauth = GoogleAuth()\n",
        "  gauth.credentials = GoogleCredentials.get_application_default()\n",
        "  drive = GoogleDrive(gauth)\n",
        "  print(\"You are logged into Google Drive and are good to go!\")"
      ]
    },
    {
      "cell_type": "code",
      "execution_count": null,
      "metadata": {
        "colab": {
          "base_uri": "https://localhost:8080/",
          "height": 415
        },
        "id": "N3erIXxdrg2x",
        "outputId": "0ea78535-0eb1-4813-ae6d-82e0ce6169eb"
      },
      "outputs": [
        {
          "name": "stdout",
          "output_type": "stream",
          "text": [
            "2022-11-01 05:43:54,619 Found 5 citations for tools or databases\n",
            "2022-11-01 05:43:59,597 Query 1/1: test_29f79 (length 59)\n"
          ]
        },
        {
          "name": "stderr",
          "output_type": "stream",
          "text": [
            "SUBMIT:   0%|          | 0/150 [elapsed: 00:00 remaining: ?]\n"
          ]
        },
        {
          "ename": "KeyboardInterrupt",
          "evalue": "ignored",
          "output_type": "error",
          "traceback": [
            "\u001b[0;31m---------------------------------------------------------------------------\u001b[0m",
            "\u001b[0;31mKeyboardInterrupt\u001b[0m                         Traceback (most recent call last)",
            "\u001b[0;32m<ipython-input-34-2d25feb86141>\u001b[0m in \u001b[0;36m<module>\u001b[0;34m\u001b[0m\n\u001b[1;32m     56\u001b[0m     \u001b[0mstop_at_score\u001b[0m\u001b[0;34m=\u001b[0m\u001b[0mfloat\u001b[0m\u001b[0;34m(\u001b[0m\u001b[0;36m100\u001b[0m\u001b[0;34m)\u001b[0m\u001b[0;34m,\u001b[0m\u001b[0;34m\u001b[0m\u001b[0;34m\u001b[0m\u001b[0m\n\u001b[1;32m     57\u001b[0m     \u001b[0;31m# prediction_callback=prediction_callback,\u001b[0m\u001b[0;34m\u001b[0m\u001b[0;34m\u001b[0m\u001b[0;34m\u001b[0m\u001b[0m\n\u001b[0;32m---> 58\u001b[0;31m     \u001b[0mdpi\u001b[0m\u001b[0;34m=\u001b[0m\u001b[0mdpi\u001b[0m\u001b[0;34m\u001b[0m\u001b[0;34m\u001b[0m\u001b[0m\n\u001b[0m\u001b[1;32m     59\u001b[0m )\n",
            "\u001b[0;32m/usr/local/lib/python3.7/dist-packages/colabfold/batch.py\u001b[0m in \u001b[0;36mrun\u001b[0;34m(queries, result_dir, num_models, num_recycles, model_order, is_complex, num_ensemble, model_type, msa_mode, use_templates, custom_template_path, use_amber, keep_existing_results, rank_by, pair_mode, data_dir, host_url, random_seed, stop_at_score, recompile_padding, recompile_all_models, zip_results, prediction_callback, save_single_representations, save_pair_representations, training, use_gpu_relax, stop_at_score_below, dpi, max_msa)\u001b[0m\n\u001b[1;32m   1359\u001b[0m                     \u001b[0mcustom_template_path\u001b[0m\u001b[0;34m,\u001b[0m\u001b[0;34m\u001b[0m\u001b[0;34m\u001b[0m\u001b[0m\n\u001b[1;32m   1360\u001b[0m                     \u001b[0mpair_mode\u001b[0m\u001b[0;34m,\u001b[0m\u001b[0;34m\u001b[0m\u001b[0;34m\u001b[0m\u001b[0m\n\u001b[0;32m-> 1361\u001b[0;31m                     \u001b[0mhost_url\u001b[0m\u001b[0;34m,\u001b[0m\u001b[0;34m\u001b[0m\u001b[0;34m\u001b[0m\u001b[0m\n\u001b[0m\u001b[1;32m   1362\u001b[0m                 )\n\u001b[1;32m   1363\u001b[0m             msa = msa_to_str(\n",
            "\u001b[0;32m/usr/local/lib/python3.7/dist-packages/colabfold/batch.py\u001b[0m in \u001b[0;36mget_msa_and_templates\u001b[0;34m(jobname, query_sequences, result_dir, msa_mode, use_templates, custom_template_path, pair_mode, host_url)\u001b[0m\n\u001b[1;32m    825\u001b[0m                 \u001b[0muse_env\u001b[0m\u001b[0;34m,\u001b[0m\u001b[0;34m\u001b[0m\u001b[0;34m\u001b[0m\u001b[0m\n\u001b[1;32m    826\u001b[0m                 \u001b[0muse_pairing\u001b[0m\u001b[0;34m=\u001b[0m\u001b[0;32mFalse\u001b[0m\u001b[0;34m,\u001b[0m\u001b[0;34m\u001b[0m\u001b[0;34m\u001b[0m\u001b[0m\n\u001b[0;32m--> 827\u001b[0;31m                 \u001b[0mhost_url\u001b[0m\u001b[0;34m=\u001b[0m\u001b[0mhost_url\u001b[0m\u001b[0;34m,\u001b[0m\u001b[0;34m\u001b[0m\u001b[0;34m\u001b[0m\u001b[0m\n\u001b[0m\u001b[1;32m    828\u001b[0m             )\n\u001b[1;32m    829\u001b[0m     \u001b[0;32melse\u001b[0m\u001b[0;34m:\u001b[0m\u001b[0;34m\u001b[0m\u001b[0;34m\u001b[0m\u001b[0m\n",
            "\u001b[0;32m/usr/local/lib/python3.7/dist-packages/colabfold/colabfold.py\u001b[0m in \u001b[0;36mrun_mmseqs2\u001b[0;34m(x, prefix, use_env, use_filter, use_templates, filter, use_pairing, host_url)\u001b[0m\n\u001b[1;32m    156\u001b[0m     \u001b[0;32mwith\u001b[0m \u001b[0mtqdm\u001b[0m\u001b[0;34m(\u001b[0m\u001b[0mtotal\u001b[0m\u001b[0;34m=\u001b[0m\u001b[0mTIME_ESTIMATE\u001b[0m\u001b[0;34m,\u001b[0m \u001b[0mbar_format\u001b[0m\u001b[0;34m=\u001b[0m\u001b[0mTQDM_BAR_FORMAT\u001b[0m\u001b[0;34m)\u001b[0m \u001b[0;32mas\u001b[0m \u001b[0mpbar\u001b[0m\u001b[0;34m:\u001b[0m\u001b[0;34m\u001b[0m\u001b[0;34m\u001b[0m\u001b[0m\n\u001b[1;32m    157\u001b[0m       \u001b[0;32mwhile\u001b[0m \u001b[0mREDO\u001b[0m\u001b[0;34m:\u001b[0m\u001b[0;34m\u001b[0m\u001b[0;34m\u001b[0m\u001b[0m\n\u001b[0;32m--> 158\u001b[0;31m         \u001b[0mpbar\u001b[0m\u001b[0;34m.\u001b[0m\u001b[0mset_description\u001b[0m\u001b[0;34m(\u001b[0m\u001b[0;34m\"SUBMIT\"\u001b[0m\u001b[0;34m)\u001b[0m\u001b[0;34m\u001b[0m\u001b[0;34m\u001b[0m\u001b[0m\n\u001b[0m\u001b[1;32m    159\u001b[0m \u001b[0;34m\u001b[0m\u001b[0m\n\u001b[1;32m    160\u001b[0m         \u001b[0;31m# Resubmit job until it goes through\u001b[0m\u001b[0;34m\u001b[0m\u001b[0;34m\u001b[0m\u001b[0;34m\u001b[0m\u001b[0m\n",
            "\u001b[0;32m/usr/local/lib/python3.7/dist-packages/tqdm/std.py\u001b[0m in \u001b[0;36mset_description\u001b[0;34m(self, desc, refresh)\u001b[0m\n\u001b[1;32m   1406\u001b[0m         \u001b[0mself\u001b[0m\u001b[0;34m.\u001b[0m\u001b[0mdesc\u001b[0m \u001b[0;34m=\u001b[0m \u001b[0mdesc\u001b[0m \u001b[0;34m+\u001b[0m \u001b[0;34m': '\u001b[0m \u001b[0;32mif\u001b[0m \u001b[0mdesc\u001b[0m \u001b[0;32melse\u001b[0m \u001b[0;34m''\u001b[0m\u001b[0;34m\u001b[0m\u001b[0;34m\u001b[0m\u001b[0m\n\u001b[1;32m   1407\u001b[0m         \u001b[0;32mif\u001b[0m \u001b[0mrefresh\u001b[0m\u001b[0;34m:\u001b[0m\u001b[0;34m\u001b[0m\u001b[0;34m\u001b[0m\u001b[0m\n\u001b[0;32m-> 1408\u001b[0;31m             \u001b[0mself\u001b[0m\u001b[0;34m.\u001b[0m\u001b[0mrefresh\u001b[0m\u001b[0;34m(\u001b[0m\u001b[0;34m)\u001b[0m\u001b[0;34m\u001b[0m\u001b[0;34m\u001b[0m\u001b[0m\n\u001b[0m\u001b[1;32m   1409\u001b[0m \u001b[0;34m\u001b[0m\u001b[0m\n\u001b[1;32m   1410\u001b[0m     \u001b[0;32mdef\u001b[0m \u001b[0mset_description_str\u001b[0m\u001b[0;34m(\u001b[0m\u001b[0mself\u001b[0m\u001b[0;34m,\u001b[0m \u001b[0mdesc\u001b[0m\u001b[0;34m=\u001b[0m\u001b[0;32mNone\u001b[0m\u001b[0;34m,\u001b[0m \u001b[0mrefresh\u001b[0m\u001b[0;34m=\u001b[0m\u001b[0;32mTrue\u001b[0m\u001b[0;34m)\u001b[0m\u001b[0;34m:\u001b[0m\u001b[0;34m\u001b[0m\u001b[0;34m\u001b[0m\u001b[0m\n",
            "\u001b[0;32m/usr/local/lib/python3.7/dist-packages/tqdm/std.py\u001b[0m in \u001b[0;36mrefresh\u001b[0;34m(self, nolock, lock_args)\u001b[0m\n\u001b[1;32m   1359\u001b[0m             \u001b[0;32melse\u001b[0m\u001b[0;34m:\u001b[0m\u001b[0;34m\u001b[0m\u001b[0;34m\u001b[0m\u001b[0m\n\u001b[1;32m   1360\u001b[0m                 \u001b[0mself\u001b[0m\u001b[0;34m.\u001b[0m\u001b[0m_lock\u001b[0m\u001b[0;34m.\u001b[0m\u001b[0macquire\u001b[0m\u001b[0;34m(\u001b[0m\u001b[0;34m)\u001b[0m\u001b[0;34m\u001b[0m\u001b[0;34m\u001b[0m\u001b[0m\n\u001b[0;32m-> 1361\u001b[0;31m         \u001b[0mself\u001b[0m\u001b[0;34m.\u001b[0m\u001b[0mdisplay\u001b[0m\u001b[0;34m(\u001b[0m\u001b[0;34m)\u001b[0m\u001b[0;34m\u001b[0m\u001b[0;34m\u001b[0m\u001b[0m\n\u001b[0m\u001b[1;32m   1362\u001b[0m         \u001b[0;32mif\u001b[0m \u001b[0;32mnot\u001b[0m \u001b[0mnolock\u001b[0m\u001b[0;34m:\u001b[0m\u001b[0;34m\u001b[0m\u001b[0;34m\u001b[0m\u001b[0m\n\u001b[1;32m   1363\u001b[0m             \u001b[0mself\u001b[0m\u001b[0;34m.\u001b[0m\u001b[0m_lock\u001b[0m\u001b[0;34m.\u001b[0m\u001b[0mrelease\u001b[0m\u001b[0;34m(\u001b[0m\u001b[0;34m)\u001b[0m\u001b[0;34m\u001b[0m\u001b[0;34m\u001b[0m\u001b[0m\n",
            "\u001b[0;32m/usr/local/lib/python3.7/dist-packages/tqdm/std.py\u001b[0m in \u001b[0;36mdisplay\u001b[0;34m(self, msg, pos)\u001b[0m\n\u001b[1;32m   1507\u001b[0m         \u001b[0;32mif\u001b[0m \u001b[0mpos\u001b[0m\u001b[0;34m:\u001b[0m\u001b[0;34m\u001b[0m\u001b[0;34m\u001b[0m\u001b[0m\n\u001b[1;32m   1508\u001b[0m             \u001b[0mself\u001b[0m\u001b[0;34m.\u001b[0m\u001b[0mmoveto\u001b[0m\u001b[0;34m(\u001b[0m\u001b[0mpos\u001b[0m\u001b[0;34m)\u001b[0m\u001b[0;34m\u001b[0m\u001b[0;34m\u001b[0m\u001b[0m\n\u001b[0;32m-> 1509\u001b[0;31m         \u001b[0mself\u001b[0m\u001b[0;34m.\u001b[0m\u001b[0msp\u001b[0m\u001b[0;34m(\u001b[0m\u001b[0mself\u001b[0m\u001b[0;34m.\u001b[0m\u001b[0m__str__\u001b[0m\u001b[0;34m(\u001b[0m\u001b[0;34m)\u001b[0m \u001b[0;32mif\u001b[0m \u001b[0mmsg\u001b[0m \u001b[0;32mis\u001b[0m \u001b[0;32mNone\u001b[0m \u001b[0;32melse\u001b[0m \u001b[0mmsg\u001b[0m\u001b[0;34m)\u001b[0m\u001b[0;34m\u001b[0m\u001b[0;34m\u001b[0m\u001b[0m\n\u001b[0m\u001b[1;32m   1510\u001b[0m         \u001b[0;32mif\u001b[0m \u001b[0mpos\u001b[0m\u001b[0;34m:\u001b[0m\u001b[0;34m\u001b[0m\u001b[0;34m\u001b[0m\u001b[0m\n\u001b[1;32m   1511\u001b[0m             \u001b[0mself\u001b[0m\u001b[0;34m.\u001b[0m\u001b[0mmoveto\u001b[0m\u001b[0;34m(\u001b[0m\u001b[0;34m-\u001b[0m\u001b[0mpos\u001b[0m\u001b[0;34m)\u001b[0m\u001b[0;34m\u001b[0m\u001b[0;34m\u001b[0m\u001b[0m\n",
            "\u001b[0;32m/usr/local/lib/python3.7/dist-packages/tqdm/std.py\u001b[0m in \u001b[0;36mprint_status\u001b[0;34m(s)\u001b[0m\n\u001b[1;32m    348\u001b[0m         \u001b[0;32mdef\u001b[0m \u001b[0mprint_status\u001b[0m\u001b[0;34m(\u001b[0m\u001b[0ms\u001b[0m\u001b[0;34m)\u001b[0m\u001b[0;34m:\u001b[0m\u001b[0;34m\u001b[0m\u001b[0;34m\u001b[0m\u001b[0m\n\u001b[1;32m    349\u001b[0m             \u001b[0mlen_s\u001b[0m \u001b[0;34m=\u001b[0m \u001b[0mdisp_len\u001b[0m\u001b[0;34m(\u001b[0m\u001b[0ms\u001b[0m\u001b[0;34m)\u001b[0m\u001b[0;34m\u001b[0m\u001b[0;34m\u001b[0m\u001b[0m\n\u001b[0;32m--> 350\u001b[0;31m             \u001b[0mfp_write\u001b[0m\u001b[0;34m(\u001b[0m\u001b[0;34m'\\r'\u001b[0m \u001b[0;34m+\u001b[0m \u001b[0ms\u001b[0m \u001b[0;34m+\u001b[0m \u001b[0;34m(\u001b[0m\u001b[0;34m' '\u001b[0m \u001b[0;34m*\u001b[0m \u001b[0mmax\u001b[0m\u001b[0;34m(\u001b[0m\u001b[0mlast_len\u001b[0m\u001b[0;34m[\u001b[0m\u001b[0;36m0\u001b[0m\u001b[0;34m]\u001b[0m \u001b[0;34m-\u001b[0m \u001b[0mlen_s\u001b[0m\u001b[0;34m,\u001b[0m \u001b[0;36m0\u001b[0m\u001b[0;34m)\u001b[0m\u001b[0;34m)\u001b[0m\u001b[0;34m)\u001b[0m\u001b[0;34m\u001b[0m\u001b[0;34m\u001b[0m\u001b[0m\n\u001b[0m\u001b[1;32m    351\u001b[0m             \u001b[0mlast_len\u001b[0m\u001b[0;34m[\u001b[0m\u001b[0;36m0\u001b[0m\u001b[0;34m]\u001b[0m \u001b[0;34m=\u001b[0m \u001b[0mlen_s\u001b[0m\u001b[0;34m\u001b[0m\u001b[0;34m\u001b[0m\u001b[0m\n\u001b[1;32m    352\u001b[0m \u001b[0;34m\u001b[0m\u001b[0m\n",
            "\u001b[0;32m/usr/local/lib/python3.7/dist-packages/tqdm/std.py\u001b[0m in \u001b[0;36mfp_write\u001b[0;34m(s)\u001b[0m\n\u001b[1;32m    342\u001b[0m         \u001b[0;32mdef\u001b[0m \u001b[0mfp_write\u001b[0m\u001b[0;34m(\u001b[0m\u001b[0ms\u001b[0m\u001b[0;34m)\u001b[0m\u001b[0;34m:\u001b[0m\u001b[0;34m\u001b[0m\u001b[0;34m\u001b[0m\u001b[0m\n\u001b[1;32m    343\u001b[0m             \u001b[0mfp\u001b[0m\u001b[0;34m.\u001b[0m\u001b[0mwrite\u001b[0m\u001b[0;34m(\u001b[0m\u001b[0m_unicode\u001b[0m\u001b[0;34m(\u001b[0m\u001b[0ms\u001b[0m\u001b[0;34m)\u001b[0m\u001b[0;34m)\u001b[0m\u001b[0;34m\u001b[0m\u001b[0;34m\u001b[0m\u001b[0m\n\u001b[0;32m--> 344\u001b[0;31m             \u001b[0mfp_flush\u001b[0m\u001b[0;34m(\u001b[0m\u001b[0;34m)\u001b[0m\u001b[0;34m\u001b[0m\u001b[0;34m\u001b[0m\u001b[0m\n\u001b[0m\u001b[1;32m    345\u001b[0m \u001b[0;34m\u001b[0m\u001b[0m\n\u001b[1;32m    346\u001b[0m         \u001b[0mlast_len\u001b[0m \u001b[0;34m=\u001b[0m \u001b[0;34m[\u001b[0m\u001b[0;36m0\u001b[0m\u001b[0;34m]\u001b[0m\u001b[0;34m\u001b[0m\u001b[0;34m\u001b[0m\u001b[0m\n",
            "\u001b[0;32m/usr/local/lib/python3.7/dist-packages/tqdm/utils.py\u001b[0m in \u001b[0;36minner\u001b[0;34m(*args, **kwargs)\u001b[0m\n\u001b[1;32m    143\u001b[0m         \u001b[0;32mdef\u001b[0m \u001b[0minner\u001b[0m\u001b[0;34m(\u001b[0m\u001b[0;34m*\u001b[0m\u001b[0margs\u001b[0m\u001b[0;34m,\u001b[0m \u001b[0;34m**\u001b[0m\u001b[0mkwargs\u001b[0m\u001b[0;34m)\u001b[0m\u001b[0;34m:\u001b[0m\u001b[0;34m\u001b[0m\u001b[0;34m\u001b[0m\u001b[0m\n\u001b[1;32m    144\u001b[0m             \u001b[0;32mtry\u001b[0m\u001b[0;34m:\u001b[0m\u001b[0;34m\u001b[0m\u001b[0;34m\u001b[0m\u001b[0m\n\u001b[0;32m--> 145\u001b[0;31m                 \u001b[0;32mreturn\u001b[0m \u001b[0mfunc\u001b[0m\u001b[0;34m(\u001b[0m\u001b[0;34m*\u001b[0m\u001b[0margs\u001b[0m\u001b[0;34m,\u001b[0m \u001b[0;34m**\u001b[0m\u001b[0mkwargs\u001b[0m\u001b[0;34m)\u001b[0m\u001b[0;34m\u001b[0m\u001b[0;34m\u001b[0m\u001b[0m\n\u001b[0m\u001b[1;32m    146\u001b[0m             \u001b[0;32mexcept\u001b[0m \u001b[0mOSError\u001b[0m \u001b[0;32mas\u001b[0m \u001b[0me\u001b[0m\u001b[0;34m:\u001b[0m\u001b[0;34m\u001b[0m\u001b[0;34m\u001b[0m\u001b[0m\n\u001b[1;32m    147\u001b[0m                 \u001b[0;32mif\u001b[0m \u001b[0me\u001b[0m\u001b[0;34m.\u001b[0m\u001b[0merrno\u001b[0m \u001b[0;34m!=\u001b[0m \u001b[0;36m5\u001b[0m\u001b[0;34m:\u001b[0m\u001b[0;34m\u001b[0m\u001b[0;34m\u001b[0m\u001b[0m\n",
            "\u001b[0;32m/usr/local/lib/python3.7/dist-packages/ipykernel/iostream.py\u001b[0m in \u001b[0;36mflush\u001b[0;34m(self)\u001b[0m\n\u001b[1;32m    350\u001b[0m                 \u001b[0mself\u001b[0m\u001b[0;34m.\u001b[0m\u001b[0mpub_thread\u001b[0m\u001b[0;34m.\u001b[0m\u001b[0mschedule\u001b[0m\u001b[0;34m(\u001b[0m\u001b[0mevt\u001b[0m\u001b[0;34m.\u001b[0m\u001b[0mset\u001b[0m\u001b[0;34m)\u001b[0m\u001b[0;34m\u001b[0m\u001b[0;34m\u001b[0m\u001b[0m\n\u001b[1;32m    351\u001b[0m                 \u001b[0;31m# and give a timeout to avoid\u001b[0m\u001b[0;34m\u001b[0m\u001b[0;34m\u001b[0m\u001b[0;34m\u001b[0m\u001b[0m\n\u001b[0;32m--> 352\u001b[0;31m                 \u001b[0;32mif\u001b[0m \u001b[0;32mnot\u001b[0m \u001b[0mevt\u001b[0m\u001b[0;34m.\u001b[0m\u001b[0mwait\u001b[0m\u001b[0;34m(\u001b[0m\u001b[0mself\u001b[0m\u001b[0;34m.\u001b[0m\u001b[0mflush_timeout\u001b[0m\u001b[0;34m)\u001b[0m\u001b[0;34m:\u001b[0m\u001b[0;34m\u001b[0m\u001b[0;34m\u001b[0m\u001b[0m\n\u001b[0m\u001b[1;32m    353\u001b[0m                     \u001b[0;31m# write directly to __stderr__ instead of warning because\u001b[0m\u001b[0;34m\u001b[0m\u001b[0;34m\u001b[0m\u001b[0;34m\u001b[0m\u001b[0m\n\u001b[1;32m    354\u001b[0m                     \u001b[0;31m# if this is happening sys.stderr may be the problem.\u001b[0m\u001b[0;34m\u001b[0m\u001b[0;34m\u001b[0m\u001b[0;34m\u001b[0m\u001b[0m\n",
            "\u001b[0;32m/usr/lib/python3.7/threading.py\u001b[0m in \u001b[0;36mwait\u001b[0;34m(self, timeout)\u001b[0m\n\u001b[1;32m    550\u001b[0m             \u001b[0msignaled\u001b[0m \u001b[0;34m=\u001b[0m \u001b[0mself\u001b[0m\u001b[0;34m.\u001b[0m\u001b[0m_flag\u001b[0m\u001b[0;34m\u001b[0m\u001b[0;34m\u001b[0m\u001b[0m\n\u001b[1;32m    551\u001b[0m             \u001b[0;32mif\u001b[0m \u001b[0;32mnot\u001b[0m \u001b[0msignaled\u001b[0m\u001b[0;34m:\u001b[0m\u001b[0;34m\u001b[0m\u001b[0;34m\u001b[0m\u001b[0m\n\u001b[0;32m--> 552\u001b[0;31m                 \u001b[0msignaled\u001b[0m \u001b[0;34m=\u001b[0m \u001b[0mself\u001b[0m\u001b[0;34m.\u001b[0m\u001b[0m_cond\u001b[0m\u001b[0;34m.\u001b[0m\u001b[0mwait\u001b[0m\u001b[0;34m(\u001b[0m\u001b[0mtimeout\u001b[0m\u001b[0;34m)\u001b[0m\u001b[0;34m\u001b[0m\u001b[0;34m\u001b[0m\u001b[0m\n\u001b[0m\u001b[1;32m    553\u001b[0m             \u001b[0;32mreturn\u001b[0m \u001b[0msignaled\u001b[0m\u001b[0;34m\u001b[0m\u001b[0;34m\u001b[0m\u001b[0m\n\u001b[1;32m    554\u001b[0m \u001b[0;34m\u001b[0m\u001b[0m\n",
            "\u001b[0;32m/usr/lib/python3.7/threading.py\u001b[0m in \u001b[0;36mwait\u001b[0;34m(self, timeout)\u001b[0m\n\u001b[1;32m    298\u001b[0m             \u001b[0;32melse\u001b[0m\u001b[0;34m:\u001b[0m\u001b[0;34m\u001b[0m\u001b[0;34m\u001b[0m\u001b[0m\n\u001b[1;32m    299\u001b[0m                 \u001b[0;32mif\u001b[0m \u001b[0mtimeout\u001b[0m \u001b[0;34m>\u001b[0m \u001b[0;36m0\u001b[0m\u001b[0;34m:\u001b[0m\u001b[0;34m\u001b[0m\u001b[0;34m\u001b[0m\u001b[0m\n\u001b[0;32m--> 300\u001b[0;31m                     \u001b[0mgotit\u001b[0m \u001b[0;34m=\u001b[0m \u001b[0mwaiter\u001b[0m\u001b[0;34m.\u001b[0m\u001b[0macquire\u001b[0m\u001b[0;34m(\u001b[0m\u001b[0;32mTrue\u001b[0m\u001b[0;34m,\u001b[0m \u001b[0mtimeout\u001b[0m\u001b[0;34m)\u001b[0m\u001b[0;34m\u001b[0m\u001b[0;34m\u001b[0m\u001b[0m\n\u001b[0m\u001b[1;32m    301\u001b[0m                 \u001b[0;32melse\u001b[0m\u001b[0;34m:\u001b[0m\u001b[0;34m\u001b[0m\u001b[0;34m\u001b[0m\u001b[0m\n\u001b[1;32m    302\u001b[0m                     \u001b[0mgotit\u001b[0m \u001b[0;34m=\u001b[0m \u001b[0mwaiter\u001b[0m\u001b[0;34m.\u001b[0m\u001b[0macquire\u001b[0m\u001b[0;34m(\u001b[0m\u001b[0;32mFalse\u001b[0m\u001b[0;34m)\u001b[0m\u001b[0;34m\u001b[0m\u001b[0;34m\u001b[0m\u001b[0m\n",
            "\u001b[0;31mKeyboardInterrupt\u001b[0m: "
          ]
        }
      ],
      "source": [
        "#@title Run Prediction\n",
        "import sys\n",
        "import warnings\n",
        "warnings.simplefilter(action='ignore', category=FutureWarning)\n",
        "\n",
        "from colabfold.download import download_alphafold_params, default_data_dir\n",
        "from colabfold.utils import setup_logging\n",
        "from colabfold.batch import get_queries, run, set_model_type\n",
        "K80_chk = !nvidia-smi | grep \"Tesla K80\" | wc -l\n",
        "if \"1\" in K80_chk:\n",
        "  print(\"WARNING: found GPU Tesla K80: limited to total length < 1000\")\n",
        "  if \"TF_FORCE_UNIFIED_MEMORY\" in os.environ:\n",
        "    del os.environ[\"TF_FORCE_UNIFIED_MEMORY\"]\n",
        "  if \"XLA_PYTHON_CLIENT_MEM_FRACTION\" in os.environ:\n",
        "    del os.environ[\"XLA_PYTHON_CLIENT_MEM_FRACTION\"]\n",
        "\n",
        "from colabfold.colabfold import plot_protein\n",
        "from pathlib import Path\n",
        "import matplotlib.pyplot as plt\n",
        "\n",
        "\n",
        "# For some reason we need that to get pdbfixer to import\n",
        "if use_amber and '/usr/local/lib/python3.7/site-packages/' not in sys.path:\n",
        "    sys.path.insert(0, '/usr/local/lib/python3.7/site-packages/')\n",
        "\n",
        "# def prediction_callback(unrelaxed_protein, length, prediction_result, input_features, type):\n",
        "#   fig = plot_protein(unrelaxed_protein, Ls=length, dpi=150)\n",
        "#   plt.show()\n",
        "#   plt.close()\n",
        "\n",
        "result_dir=\".\"\n",
        "if 'logging_setup' not in globals():\n",
        "    setup_logging(Path(\".\").joinpath(\"log.txt\"))\n",
        "    logging_setup = True\n",
        "\n",
        "queries, is_complex = get_queries(queries_path)\n",
        "model_type = set_model_type(is_complex, model_type)\n",
        "download_alphafold_params(model_type, Path(\".\"))\n",
        "run(\n",
        "    queries=queries,\n",
        "    result_dir=result_dir,\n",
        "    use_templates=use_templates,\n",
        "    custom_template_path=custom_template_path,\n",
        "    use_amber=use_amber,\n",
        "    msa_mode=msa_mode,    \n",
        "    model_type=model_type,\n",
        "    num_models=5,\n",
        "    num_recycles=num_recycles,\n",
        "    model_order=[1, 2, 3, 4, 5],\n",
        "    is_complex=is_complex,\n",
        "    data_dir=Path(\".\"),\n",
        "    keep_existing_results=False,\n",
        "    recompile_padding=1.0,\n",
        "    rank_by=\"auto\",\n",
        "    pair_mode=pair_mode,\n",
        "    stop_at_score=float(100),\n",
        "    # prediction_callback=prediction_callback,\n",
        "    dpi=dpi\n",
        ")"
      ]
    },
    {
      "cell_type": "code",
      "execution_count": null,
      "metadata": {
        "id": "qz2O3Tblpia_"
      },
      "outputs": [],
      "source": []
    },
    {
      "cell_type": "code",
      "execution_count": null,
      "metadata": {
        "colab": {
          "base_uri": "https://localhost:8080/",
          "height": 53
        },
        "id": "KWo4CoXns84L",
        "outputId": "2bdfa7f8-9773-4a1b-ce50-c98bc7794a8a"
      },
      "outputs": [
        {
          "name": "stdout",
          "output_type": "stream",
          "text": [
            "Archive is current\n"
          ]
        },
        {
          "data": {
            "application/vnd.google.colaboratory.intrinsic+json": {
              "type": "string"
            },
            "text/plain": [
              "'/content/drive/MyDrive/alphafold_results/test_2731e.result.zip'"
            ]
          },
          "execution_count": 18,
          "metadata": {},
          "output_type": "execute_result"
        }
      ],
      "source": [
        "#@title Package and download results\n",
        "\n",
        "if msa_mode == \"custom\":\n",
        "  print(\"Don't forget to cite your custom MSA generation method.\")\n",
        "\n",
        "!zip -FSr $jobname\".result.zip\" config.json $jobname*\".json\" $jobname*\".a3m\" $jobname*\"relaxed_rank_\"*\".pdb\" \"cite.bibtex\" $jobname*\".png\"\n",
        "# files.download(f\"{jobname}.result.zip\")\n",
        "shutil.copy(f\"{jobname}.result.zip\", \"/content/drive/MyDrive/alphafold_results\")\n",
        "\n",
        "\n",
        "# save_to_google_drive = False\n",
        "# if save_to_google_drive == True and drive:\n",
        "#   uploaded = drive.CreateFile({'title': f\"{jobname}.result.zip\"})\n",
        "#   uploaded.SetContentFile(f\"{jobname}.result.zip\")\n",
        "#   uploaded.Upload()\n",
        "#   print(f\"Uploaded {jobname}.result.zip to Google Drive with ID {uploaded.get('id')}\")"
      ]
    },
    {
      "cell_type": "code",
      "execution_count": null,
      "metadata": {
        "colab": {
          "base_uri": "https://localhost:8080/"
        },
        "id": "5vruyXauoxfh",
        "outputId": "b28ceeb6-9278-40eb-fb90-c7b86a80ffc4"
      },
      "outputs": [
        {
          "data": {
            "text/plain": [
              "False"
            ]
          },
          "execution_count": 10,
          "metadata": {},
          "output_type": "execute_result"
        }
      ],
      "source": [
        "save_to_google_drive"
      ]
    },
    {
      "cell_type": "code",
      "execution_count": null,
      "metadata": {
        "id": "daJP5FB-ln8O"
      },
      "outputs": [],
      "source": []
    }
  ],
  "metadata": {
    "accelerator": "GPU",
    "colab": {
      "collapsed_sections": [],
      "provenance": []
    },
    "gpuClass": "standard",
    "kernelspec": {
      "display_name": "Python 3",
      "name": "python3"
    },
    "language_info": {
      "name": "python"
    }
  },
  "nbformat": 4,
  "nbformat_minor": 0
}